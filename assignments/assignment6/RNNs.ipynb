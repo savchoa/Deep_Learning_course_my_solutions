{
 "cells": [
  {
   "cell_type": "markdown",
   "metadata": {
    "id": "0IUNMDQIAXWj"
   },
   "source": [
    "# Задание 6: Рекуррентные нейронные сети (RNNs)\n",
    "\n",
    "Это задание адаптиповано из Deep NLP Course at ABBYY (https://github.com/DanAnastasyev/DeepNLP-Course) с разрешения автора - Даниила Анастасьева. Спасибо ему огромное!"
   ]
  },
  {
   "cell_type": "code",
   "execution_count": null,
   "metadata": {
    "id": "P59NYU98GCb9"
   },
   "outputs": [],
   "source": [
    "# !pip3 -qq install torch==0.4.1\n",
    "# !pip3 -qq install bokeh==0.13.0\n",
    "# !pip3 -qq install gensim==3.6.0\n",
    "# !pip3 -qq install nltk\n",
    "# !pip3 -qq install scikit-learn==0.20.2"
   ]
  },
  {
   "cell_type": "code",
   "execution_count": null,
   "metadata": {},
   "outputs": [],
   "source": [
    "pip list"
   ]
  },
  {
   "cell_type": "code",
   "execution_count": 1,
   "metadata": {
    "executionInfo": {
     "elapsed": 6396,
     "status": "ok",
     "timestamp": 1640285222583,
     "user": {
      "displayName": "Олександр Анатоліїович Савченко",
      "photoUrl": "https://lh3.googleusercontent.com/a-/AOh14GjFxEhCEDXBdXMW8HVBZvI3bm-ax-lV7gibeoHr=s64",
      "userId": "06649945919620007057"
     },
     "user_tz": -120
    },
    "id": "8sVtGHmA9aBM"
   },
   "outputs": [],
   "source": [
    "import numpy as np\n",
    "\n",
    "import torch\n",
    "import torch.nn as nn\n",
    "import torch.nn.functional as F\n",
    "import torch.optim as optim\n",
    "\n",
    "\n",
    "if torch.cuda.is_available():\n",
    "    from torch.cuda import FloatTensor, LongTensor\n",
    "else:\n",
    "    from torch import FloatTensor, LongTensor\n",
    "\n",
    "np.random.seed(42)"
   ]
  },
  {
   "cell_type": "markdown",
   "metadata": {
    "id": "-6CNKM3b4hT1"
   },
   "source": [
    "# Рекуррентные нейронные сети (RNNs)"
   ]
  },
  {
   "cell_type": "markdown",
   "metadata": {
    "id": "O_XkoGNQUeGm"
   },
   "source": [
    "## POS Tagging"
   ]
  },
  {
   "cell_type": "markdown",
   "metadata": {
    "id": "QFEtWrS_4rUs"
   },
   "source": [
    "Мы рассмотрим применение рекуррентных сетей к задаче sequence labeling (последняя картинка).\n",
    "\n",
    "![RNN types](http://karpathy.github.io/assets/rnn/diags.jpeg)\n",
    "\n",
    "*From [The Unreasonable Effectiveness of Recurrent Neural Networks](http://karpathy.github.io/2015/05/21/rnn-effectiveness/)*\n",
    "\n",
    "Самые популярные примеры для такой постановки задачи - Part-of-Speech Tagging и Named Entity Recognition.\n",
    "\n",
    "Мы порешаем сейчас POS Tagging для английского.\n",
    "\n",
    "Будем работать с таким набором тегов:\n",
    "- ADJ - adjective (new, good, high, ...)\n",
    "- ADP - adposition (on, of, at, ...)\n",
    "- ADV - adverb (really, already, still, ...)\n",
    "- CONJ - conjunction (and, or, but, ...)\n",
    "- DET - determiner, article (the, a, some, ...)\n",
    "- NOUN - noun (year, home, costs, ...)\n",
    "- NUM - numeral (twenty-four, fourth, 1991, ...)\n",
    "- PRT - particle (at, on, out, ...)\n",
    "- PRON - pronoun (he, their, her, ...)\n",
    "- VERB - verb (is, say, told, ...)\n",
    "- . - punctuation marks (. , ;)\n",
    "- X - other (ersatz, esprit, dunno, ...)"
   ]
  },
  {
   "cell_type": "markdown",
   "metadata": {
    "id": "EPIkKdFlHB-X"
   },
   "source": [
    "Скачаем данные:"
   ]
  },
  {
   "cell_type": "code",
   "execution_count": 2,
   "metadata": {
    "colab": {
     "base_uri": "https://localhost:8080/"
    },
    "executionInfo": {
     "elapsed": 2548,
     "status": "ok",
     "timestamp": 1640285232878,
     "user": {
      "displayName": "Олександр Анатоліїович Савченко",
      "photoUrl": "https://lh3.googleusercontent.com/a-/AOh14GjFxEhCEDXBdXMW8HVBZvI3bm-ax-lV7gibeoHr=s64",
      "userId": "06649945919620007057"
     },
     "user_tz": -120
    },
    "id": "TiA2dGmgF1rW",
    "outputId": "ff5c199a-0aa3-4bcc-b79e-523421e48e29"
   },
   "outputs": [
    {
     "name": "stdout",
     "output_type": "stream",
     "text": [
      "[nltk_data] Downloading package brown to /root/nltk_data...\n",
      "[nltk_data]   Unzipping corpora/brown.zip.\n",
      "[nltk_data] Downloading package universal_tagset to /root/nltk_data...\n",
      "[nltk_data]   Unzipping taggers/universal_tagset.zip.\n"
     ]
    }
   ],
   "source": [
    "import nltk\n",
    "from sklearn.model_selection import train_test_split\n",
    "from nltk.corpus import brown\n",
    "nltk.download('brown')\n",
    "nltk.download('universal_tagset')\n",
    "\n",
    "data = nltk.corpus.brown.tagged_sents(tagset='universal')"
   ]
  },
  {
   "cell_type": "markdown",
   "metadata": {
    "id": "d93g_swyJA_V"
   },
   "source": [
    "Пример размеченного предложения:"
   ]
  },
  {
   "cell_type": "code",
   "execution_count": 3,
   "metadata": {
    "colab": {
     "base_uri": "https://localhost:8080/"
    },
    "executionInfo": {
     "elapsed": 675,
     "status": "ok",
     "timestamp": 1640285236659,
     "user": {
      "displayName": "Олександр Анатоліїович Савченко",
      "photoUrl": "https://lh3.googleusercontent.com/a-/AOh14GjFxEhCEDXBdXMW8HVBZvI3bm-ax-lV7gibeoHr=s64",
      "userId": "06649945919620007057"
     },
     "user_tz": -120
    },
    "id": "QstS4NO0L97c",
    "outputId": "4d9b2aa7-9cf1-4968-c857-3ae8c1d457c7"
   },
   "outputs": [
    {
     "name": "stdout",
     "output_type": "stream",
     "text": [
      "The                \tDET\n",
      "Fulton             \tNOUN\n",
      "County             \tNOUN\n",
      "Grand              \tADJ\n",
      "Jury               \tNOUN\n",
      "said               \tVERB\n",
      "Friday             \tNOUN\n",
      "an                 \tDET\n",
      "investigation      \tNOUN\n",
      "of                 \tADP\n",
      "Atlanta's          \tNOUN\n",
      "recent             \tADJ\n",
      "primary            \tNOUN\n",
      "election           \tNOUN\n",
      "produced           \tVERB\n",
      "``                 \t.\n",
      "no                 \tDET\n",
      "evidence           \tNOUN\n",
      "''                 \t.\n",
      "that               \tADP\n",
      "any                \tDET\n",
      "irregularities     \tNOUN\n",
      "took               \tVERB\n",
      "place              \tNOUN\n",
      ".                  \t.\n"
     ]
    }
   ],
   "source": [
    "for word, tag in data[0]:\n",
    "    print('{:19}\\t{}'.format(word, tag))"
   ]
  },
  {
   "cell_type": "markdown",
   "metadata": {
    "id": "epdW8u_YXcAv"
   },
   "source": [
    "Построим разбиение на train/val/test - наконец-то, всё как у нормальных людей.\n",
    "\n",
    "На train будем учиться, по val - подбирать параметры и делать всякие early stopping, а на test - принимать модель по ее финальному качеству."
   ]
  },
  {
   "cell_type": "code",
   "execution_count": 4,
   "metadata": {
    "colab": {
     "base_uri": "https://localhost:8080/"
    },
    "executionInfo": {
     "elapsed": 30622,
     "status": "ok",
     "timestamp": 1640285278547,
     "user": {
      "displayName": "Олександр Анатоліїович Савченко",
      "photoUrl": "https://lh3.googleusercontent.com/a-/AOh14GjFxEhCEDXBdXMW8HVBZvI3bm-ax-lV7gibeoHr=s64",
      "userId": "06649945919620007057"
     },
     "user_tz": -120
    },
    "id": "xTai8Ta0lgwL",
    "outputId": "3d61d409-d19e-4bd8-8dfb-59004e31998f"
   },
   "outputs": [
    {
     "name": "stdout",
     "output_type": "stream",
     "text": [
      "Words count in train set: 739769\n",
      "Words count in val set: 130954\n",
      "Words count in test set: 290469\n"
     ]
    }
   ],
   "source": [
    "train_data, test_data = train_test_split(data, test_size=0.25, random_state=42)\n",
    "train_data, val_data = train_test_split(train_data, test_size=0.15, random_state=42)\n",
    "\n",
    "print('Words count in train set:', sum(len(sent) for sent in train_data))\n",
    "print('Words count in val set:', sum(len(sent) for sent in val_data))\n",
    "print('Words count in test set:', sum(len(sent) for sent in test_data))"
   ]
  },
  {
   "cell_type": "markdown",
   "metadata": {
    "id": "eChdLNGtXyP0"
   },
   "source": [
    "Построим маппинги из слов в индекс и из тега в индекс:\n"
   ]
  },
  {
   "cell_type": "code",
   "execution_count": 5,
   "metadata": {
    "colab": {
     "base_uri": "https://localhost:8080/"
    },
    "executionInfo": {
     "elapsed": 530,
     "status": "ok",
     "timestamp": 1640285282439,
     "user": {
      "displayName": "Олександр Анатоліїович Савченко",
      "photoUrl": "https://lh3.googleusercontent.com/a-/AOh14GjFxEhCEDXBdXMW8HVBZvI3bm-ax-lV7gibeoHr=s64",
      "userId": "06649945919620007057"
     },
     "user_tz": -120
    },
    "id": "pCjwwDs6Zq9x",
    "outputId": "39a2bc1a-92ae-4954-e84e-dd0ee74b18f3"
   },
   "outputs": [
    {
     "name": "stdout",
     "output_type": "stream",
     "text": [
      "Unique words in train = 45441. Tags = {'VERB', '.', 'DET', 'PRON', 'ADV', 'NUM', 'NOUN', 'CONJ', 'ADJ', 'PRT', 'X', 'ADP'}\n"
     ]
    }
   ],
   "source": [
    "words = {word for sample in train_data for word, tag in sample}\n",
    "word2ind = {word: ind + 1 for ind, word in enumerate(words)}\n",
    "word2ind['<pad>'] = 0\n",
    "\n",
    "tags = {tag for sample in train_data for word, tag in sample}\n",
    "tag2ind = {tag: ind + 1 for ind, tag in enumerate(tags)}\n",
    "tag2ind['<pad>'] = 0\n",
    "\n",
    "print('Unique words in train = {}. Tags = {}'.format(len(word2ind), tags))"
   ]
  },
  {
   "cell_type": "code",
   "execution_count": null,
   "metadata": {
    "colab": {
     "base_uri": "https://localhost:8080/",
     "height": 320
    },
    "executionInfo": {
     "elapsed": 820,
     "status": "ok",
     "timestamp": 1639925094134,
     "user": {
      "displayName": "Олександр Анатоліїович Савченко",
      "photoUrl": "https://lh3.googleusercontent.com/a-/AOh14GjFxEhCEDXBdXMW8HVBZvI3bm-ax-lV7gibeoHr=s64",
      "userId": "06649945919620007057"
     },
     "user_tz": -120
    },
    "id": "URC1B2nvPGFt",
    "outputId": "88701aeb-4171-4a2a-ad36-ecd8cad49974"
   },
   "outputs": [
    {
     "data": {
      "image/png": "[encoded data removed]",
      "text/plain": [
       "<Figure size 720x360 with 1 Axes>"
      ]
     },
     "metadata": {
      "needs_background": "light"
     },
     "output_type": "display_data"
    }
   ],
   "source": [
    "import matplotlib.pyplot as plt\n",
    "%matplotlib inline\n",
    "\n",
    "from collections import Counter\n",
    "\n",
    "tag_distribution = Counter(tag for sample in train_data for _, tag in sample)\n",
    "tag_distribution = [tag_distribution[tag] for tag in tags]\n",
    "\n",
    "plt.figure(figsize=(10, 5))\n",
    "\n",
    "bar_width = 0.35\n",
    "plt.bar(np.arange(len(tags)), tag_distribution, bar_width, align='center', alpha=0.5)\n",
    "plt.xticks(np.arange(len(tags)), tags)\n",
    "    \n",
    "plt.show()"
   ]
  },
  {
   "cell_type": "markdown",
   "metadata": {
    "id": "gArQwbzWWkgi"
   },
   "source": [
    "## Бейзлайн\n",
    "\n",
    "Какой самый простой теггер можно придумать? Давайте просто запоминать, какие теги самые вероятные для слова (или для последовательности):\n",
    "\n",
    "![tag-context](https://www.nltk.org/images/tag-context.png)  \n",
    "*From [Categorizing and Tagging Words, nltk](https://www.nltk.org/book/ch05.html)*\n",
    "\n",
    "На картинке показано, что для предсказания $t_n$ используются два предыдущих предсказанных тега + текущее слово. По корпусу считаются вероятность для $P(t_n| w_n, t_{n-1}, t_{n-2})$, выбирается тег с максимальной вероятностью.\n",
    "\n",
    "Более аккуратно такая идея реализована в Hidden Markov Models: по тренировочному корпусу вычисляются вероятности $P(w_n| t_n), P(t_n|t_{n-1}, t_{n-2})$ и максимизируется их произведение.\n",
    "\n",
    "Простейший вариант - униграммная модель, учитывающая только слово:"
   ]
  },
  {
   "cell_type": "code",
   "execution_count": null,
   "metadata": {
    "colab": {
     "base_uri": "https://localhost:8080/"
    },
    "executionInfo": {
     "elapsed": 4635,
     "status": "ok",
     "timestamp": 1639859726441,
     "user": {
      "displayName": "Олександр Анатоліїович Савченко",
      "photoUrl": "https://lh3.googleusercontent.com/a-/AOh14GjFxEhCEDXBdXMW8HVBZvI3bm-ax-lV7gibeoHr=s64",
      "userId": "06649945919620007057"
     },
     "user_tz": -120
    },
    "id": "5rWmSToIaeAo",
    "outputId": "2b6fd68d-6e13-4e04-a420-32cb2fd8a0c6"
   },
   "outputs": [
    {
     "name": "stdout",
     "output_type": "stream",
     "text": [
      "Accuracy of unigram tagger = 92.62%\n"
     ]
    }
   ],
   "source": [
    "import nltk\n",
    "\n",
    "default_tagger = nltk.DefaultTagger('NN')\n",
    "\n",
    "unigram_tagger = nltk.UnigramTagger(train_data, backoff=default_tagger)\n",
    "print('Accuracy of unigram tagger = {:.2%}'.format(unigram_tagger.evaluate(test_data)))"
   ]
  },
  {
   "cell_type": "markdown",
   "metadata": {
    "id": "07Ymb_MkbWsF"
   },
   "source": [
    "Добавим вероятности переходов:"
   ]
  },
  {
   "cell_type": "code",
   "execution_count": null,
   "metadata": {
    "colab": {
     "base_uri": "https://localhost:8080/"
    },
    "executionInfo": {
     "elapsed": 8799,
     "status": "ok",
     "timestamp": 1639855719458,
     "user": {
      "displayName": "Олександр Анатоліїович Савченко",
      "photoUrl": "https://lh3.googleusercontent.com/a-/AOh14GjFxEhCEDXBdXMW8HVBZvI3bm-ax-lV7gibeoHr=s64",
      "userId": "06649945919620007057"
     },
     "user_tz": -120
    },
    "id": "vjz_Rk0bbMyH",
    "outputId": "0cbd5b3d-7d37-4073-bff4-c5255af64cc7"
   },
   "outputs": [
    {
     "name": "stdout",
     "output_type": "stream",
     "text": [
      "Accuracy of bigram tagger = 93.42%\n"
     ]
    }
   ],
   "source": [
    "bigram_tagger = nltk.BigramTagger(train_data, backoff=unigram_tagger)\n",
    "print('Accuracy of bigram tagger = {:.2%}'.format(bigram_tagger.evaluate(test_data)))"
   ]
  },
  {
   "cell_type": "markdown",
   "metadata": {
    "id": "uWMw6QHvbaDd"
   },
   "source": [
    "Обратите внимание, что `backoff` важен:"
   ]
  },
  {
   "cell_type": "code",
   "execution_count": null,
   "metadata": {
    "colab": {
     "base_uri": "https://localhost:8080/"
    },
    "executionInfo": {
     "elapsed": 5894,
     "status": "ok",
     "timestamp": 1639855728537,
     "user": {
      "displayName": "Олександр Анатоліїович Савченко",
      "photoUrl": "https://lh3.googleusercontent.com/a-/AOh14GjFxEhCEDXBdXMW8HVBZvI3bm-ax-lV7gibeoHr=s64",
      "userId": "06649945919620007057"
     },
     "user_tz": -120
    },
    "id": "8XCuxEBVbOY_",
    "outputId": "72fd26d8-1ed9-4a80-b517-620fec9a75ef"
   },
   "outputs": [
    {
     "name": "stdout",
     "output_type": "stream",
     "text": [
      "Accuracy of trigram tagger = 23.33%\n"
     ]
    }
   ],
   "source": [
    "trigram_tagger = nltk.TrigramTagger(train_data)\n",
    "print('Accuracy of trigram tagger = {:.2%}'.format(trigram_tagger.evaluate(test_data)))"
   ]
  },
  {
   "cell_type": "markdown",
   "metadata": {
    "id": "4t3xyYd__8d-"
   },
   "source": [
    "## Увеличиваем контекст с рекуррентными сетями\n",
    "\n",
    "Униграмная модель работает на удивление хорошо, но мы же собрались учить сеточки.\n",
    "\n",
    "Омонимия - основная причина, почему униграмная модель плоха:  \n",
    "*“he cashed a check at the **bank**”*  \n",
    "vs  \n",
    "*“he sat on the **bank** of the river”*\n",
    "\n",
    "Поэтому нам очень полезно учитывать контекст при предсказании тега.\n",
    "\n",
    "Воспользуемся LSTM - он умеет работать с контекстом очень даже хорошо:\n",
    "\n",
    "![](https://image.ibb.co/kgmoff/Baseline-Tagger.png)\n",
    "\n",
    "Синим показано выделение фичей из слова, LSTM оранжевенький - он строит эмбеддинги слов с учетом контекста, а дальше зелененькая логистическая регрессия делает предсказания тегов."
   ]
  },
  {
   "cell_type": "code",
   "execution_count": 6,
   "metadata": {
    "executionInfo": {
     "elapsed": 1376,
     "status": "ok",
     "timestamp": 1640285513086,
     "user": {
      "displayName": "Олександр Анатоліїович Савченко",
      "photoUrl": "https://lh3.googleusercontent.com/a-/AOh14GjFxEhCEDXBdXMW8HVBZvI3bm-ax-lV7gibeoHr=s64",
      "userId": "06649945919620007057"
     },
     "user_tz": -120
    },
    "id": "RtRbz1SwgEqc"
   },
   "outputs": [],
   "source": [
    "def convert_data(data, word2ind, tag2ind):\n",
    "    X = [[word2ind.get(word, 0) for word, _ in sample] for sample in data]\n",
    "    y = [[tag2ind[tag] for _, tag in sample] for sample in data]\n",
    "    \n",
    "    return X, y\n",
    "\n",
    "X_train, y_train = convert_data(train_data, word2ind, tag2ind)\n",
    "X_val, y_val = convert_data(val_data, word2ind, tag2ind)\n",
    "X_test, y_test = convert_data(test_data, word2ind, tag2ind)"
   ]
  },
  {
   "cell_type": "code",
   "execution_count": 7,
   "metadata": {
    "executionInfo": {
     "elapsed": 1164,
     "status": "ok",
     "timestamp": 1640285521278,
     "user": {
      "displayName": "Олександр Анатоліїович Савченко",
      "photoUrl": "https://lh3.googleusercontent.com/a-/AOh14GjFxEhCEDXBdXMW8HVBZvI3bm-ax-lV7gibeoHr=s64",
      "userId": "06649945919620007057"
     },
     "user_tz": -120
    },
    "id": "DhsTKZalfih6"
   },
   "outputs": [],
   "source": [
    "def iterate_batches(data, batch_size):\n",
    "    X, y = data\n",
    "    n_samples = len(X)\n",
    "\n",
    "    indices = np.arange(n_samples)\n",
    "    np.random.shuffle(indices)\n",
    "    \n",
    "    for start in range(0, n_samples, batch_size):\n",
    "        end = min(start + batch_size, n_samples)\n",
    "        \n",
    "        batch_indices = indices[start:end]\n",
    "        \n",
    "        max_sent_len = max(len(X[ind]) for ind in batch_indices)\n",
    "        X_batch = np.zeros((max_sent_len, len(batch_indices)))\n",
    "        y_batch = np.zeros((max_sent_len, len(batch_indices)))\n",
    "        \n",
    "        for batch_ind, sample_ind in enumerate(batch_indices):\n",
    "            X_batch[:len(X[sample_ind]), batch_ind] = X[sample_ind]\n",
    "            y_batch[:len(y[sample_ind]), batch_ind] = y[sample_ind]\n",
    "            \n",
    "        yield X_batch, y_batch"
   ]
  },
  {
   "cell_type": "code",
   "execution_count": 8,
   "metadata": {
    "colab": {
     "base_uri": "https://localhost:8080/"
    },
    "executionInfo": {
     "elapsed": 523,
     "status": "ok",
     "timestamp": 1640285528780,
     "user": {
      "displayName": "Олександр Анатоліїович Савченко",
      "photoUrl": "https://lh3.googleusercontent.com/a-/AOh14GjFxEhCEDXBdXMW8HVBZvI3bm-ax-lV7gibeoHr=s64",
      "userId": "06649945919620007057"
     },
     "user_tz": -120
    },
    "id": "l4XsRII5kW5x",
    "outputId": "0d8afb1b-1870-42ad-8a35-cc49ab18fe0c"
   },
   "outputs": [
    {
     "data": {
      "text/plain": [
       "(array([[33128., 30150., 12962.,  2789.],\n",
       "        [16505., 34549., 38028.,  2962.],\n",
       "        [22547., 32667., 35535.,  3389.],\n",
       "        [ 2789., 21050., 42233.,  7343.],\n",
       "        [31356.,  4208., 22547., 32667.],\n",
       "        [32667., 24917., 24743., 16830.],\n",
       "        [ 2789., 31660., 32667., 42978.],\n",
       "        [19746., 35301.,  5816., 34869.],\n",
       "        [44908., 26337., 12252.,  9996.],\n",
       "        [31270.,  2789.,  2789., 12680.],\n",
       "        [32667., 43499., 14875., 32667.],\n",
       "        [  323.,  4855., 11693.,  9996.],\n",
       "        [43260., 32667.,  2789., 11900.],\n",
       "        [39195., 16172., 42436., 27675.],\n",
       "        [    0., 27300., 32802., 39438.],\n",
       "        [    0., 16143., 32667., 10075.],\n",
       "        [    0., 17611.,  2789., 38028.],\n",
       "        [    0., 11693.,  5034.,  7705.],\n",
       "        [    0.,  2789., 11693., 27761.],\n",
       "        [    0., 34160., 28411., 13786.],\n",
       "        [    0., 11693., 32750., 22547.],\n",
       "        [    0., 42253., 18484., 38221.],\n",
       "        [    0., 39195., 25810., 39195.],\n",
       "        [    0.,     0., 31622.,     0.],\n",
       "        [    0.,     0., 16451.,     0.],\n",
       "        [    0.,     0., 19002.,     0.],\n",
       "        [    0.,     0.,   323.,     0.],\n",
       "        [    0.,     0., 39438.,     0.],\n",
       "        [    0.,     0., 31979.,     0.],\n",
       "        [    0.,     0., 35775.,     0.],\n",
       "        [    0.,     0., 21010.,     0.],\n",
       "        [    0.,     0., 39195.,     0.]]), (32, 4))"
      ]
     },
     "execution_count": 8,
     "metadata": {},
     "output_type": "execute_result"
    }
   ],
   "source": [
    "X_batch, y_batch = next(iterate_batches((X_train, y_train), 4))\n",
    "\n",
    "X_batch, X_batch.shape"
   ]
  },
  {
   "cell_type": "code",
   "execution_count": null,
   "metadata": {
    "id": "wnOZudoHAXXG"
   },
   "outputs": [],
   "source": []
  },
  {
   "cell_type": "markdown",
   "metadata": {
    "id": "C5I9E9P6eFYv"
   },
   "source": [
    "**Задание** Реализуйте `LSTMTagger`:"
   ]
  },
  {
   "cell_type": "code",
   "execution_count": 9,
   "metadata": {
    "executionInfo": {
     "elapsed": 552,
     "status": "ok",
     "timestamp": 1640285582164,
     "user": {
      "displayName": "Олександр Анатоліїович Савченко",
      "photoUrl": "https://lh3.googleusercontent.com/a-/AOh14GjFxEhCEDXBdXMW8HVBZvI3bm-ax-lV7gibeoHr=s64",
      "userId": "06649945919620007057"
     },
     "user_tz": -120
    },
    "id": "WVEHju54d68T"
   },
   "outputs": [],
   "source": [
    "class LSTMTagger(nn.Module):\n",
    "    def __init__(self, vocab_size, tagset_size, word_emb_dim=100, lstm_hidden_dim=128, lstm_layers_count=1):\n",
    "        super().__init__()\n",
    "        self.hidden_dim = lstm_hidden_dim\n",
    "        self.word_embeddings = nn.Embedding(vocab_size, word_emb_dim)\n",
    "        self.lstm = nn.LSTM(word_emb_dim, lstm_hidden_dim, lstm_layers_count)\n",
    "        self.hidden2tag = nn.Linear(lstm_hidden_dim, tagset_size)\n",
    "        \n",
    "\n",
    "    def forward(self, inputs):\n",
    "        embeds = self.word_embeddings(inputs)\n",
    "        lstm_out, _ = self.lstm(embeds)\n",
    "        tag_space = self.hidden2tag(lstm_out)\n",
    "        return tag_space"
   ]
  },
  {
   "cell_type": "markdown",
   "metadata": {
    "id": "q_HA8zyheYGH"
   },
   "source": [
    "**Задание** Научитесь считать accuracy и loss (а заодно проверьте, что модель работает)"
   ]
  },
  {
   "cell_type": "code",
   "execution_count": 11,
   "metadata": {
    "colab": {
     "base_uri": "https://localhost:8080/"
    },
    "executionInfo": {
     "elapsed": 527,
     "status": "ok",
     "timestamp": 1640285767652,
     "user": {
      "displayName": "Олександр Анатоліїович Савченко",
      "photoUrl": "https://lh3.googleusercontent.com/a-/AOh14GjFxEhCEDXBdXMW8HVBZvI3bm-ax-lV7gibeoHr=s64",
      "userId": "06649945919620007057"
     },
     "user_tz": -120
    },
    "id": "jbrxsZ2mehWB",
    "outputId": "a7d25a2c-0be7-4247-f9d9-8b358d49cf90"
   },
   "outputs": [
    {
     "name": "stdout",
     "output_type": "stream",
     "text": [
      "2.5731093883514404\n",
      "3.260869565217391\n"
     ]
    }
   ],
   "source": [
    "model = LSTMTagger(\n",
    "    vocab_size=len(word2ind),\n",
    "    tagset_size=len(tag2ind)\n",
    ")\n",
    "\n",
    "X_batch, y_batch = torch.LongTensor(X_batch), torch.LongTensor(y_batch)\n",
    "\n",
    "tag_space = model(X_batch)\n",
    "tag_space_resh = tag_space.view(-1, tag_space.shape[-1])\n",
    "y_batch_resh = y_batch.view(-1) \n",
    "criterion = nn.CrossEntropyLoss(ignore_index=0)\n",
    "loss = criterion(tag_space_resh, y_batch_resh)\n",
    "print(loss.item())\n",
    "mask = (y_batch != 0).type('torch.LongTensor')\n",
    "y_pred = torch.argmax(tag_space, 2)\n",
    "cur_correct_count, cur_sum_count = torch.sum(mask*torch.eq(y_batch, y_pred)).item(), torch.sum(mask).item()\n",
    "accuracy = cur_correct_count*100/cur_sum_count\n",
    "print(accuracy)\n",
    "\n"
   ]
  },
  {
   "cell_type": "markdown",
   "metadata": {
    "id": "nSgV3NPUpcjH"
   },
   "source": [
    "**Задание** Вставьте эти вычисление в функцию:"
   ]
  },
  {
   "cell_type": "code",
   "execution_count": 18,
   "metadata": {
    "executionInfo": {
     "elapsed": 362,
     "status": "ok",
     "timestamp": 1640286370410,
     "user": {
      "displayName": "Олександр Анатоліїович Савченко",
      "photoUrl": "https://lh3.googleusercontent.com/a-/AOh14GjFxEhCEDXBdXMW8HVBZvI3bm-ax-lV7gibeoHr=s64",
      "userId": "06649945919620007057"
     },
     "user_tz": -120
    },
    "id": "FprPQ0gllo7b"
   },
   "outputs": [],
   "source": [
    "import math\n",
    "from tqdm import tqdm\n",
    "\n",
    "\n",
    "def do_epoch(model, criterion, data, batch_size, optimizer=None, name=None):\n",
    "    epoch_loss = 0\n",
    "    correct_count = 0\n",
    "    sum_count = 0\n",
    "    \n",
    "    is_train = not optimizer is None\n",
    "    name = name or ''\n",
    "    model.train(is_train)\n",
    "    \n",
    "    batches_count = math.ceil(len(data[0]) / batch_size)\n",
    "    \n",
    "    with torch.autograd.set_grad_enabled(is_train):\n",
    "        with tqdm(total=batches_count) as progress_bar:\n",
    "            for i, (X_batch, y_batch) in enumerate(iterate_batches(data, batch_size)):\n",
    "                X_batch, y_batch = LongTensor(X_batch), LongTensor(y_batch)\n",
    "                tag_space = model(X_batch)\n",
    "                tag_space_resh = tag_space.view(-1, tag_space.shape[-1])\n",
    "                y_batch_resh = y_batch.view(-1) \n",
    "                loss = criterion(tag_space_resh, y_batch_resh)\n",
    "                if torch.cuda.is_available():\n",
    "                  mask = (y_batch != 0).type('torch.LongTensor').cuda()\n",
    "                else:\n",
    "                  mask = (y_batch != 0).type('torch.LongTensor')\n",
    "\n",
    "                epoch_loss += loss.item()\n",
    "\n",
    "                if optimizer:\n",
    "                    optimizer.zero_grad()\n",
    "                    loss.backward()\n",
    "                    optimizer.step()\n",
    "\n",
    "                y_pred = torch.argmax(tag_space, 2)\n",
    "                cur_correct_count, cur_sum_count = torch.sum(mask*torch.eq(y_batch, y_pred)).item(), torch.sum(mask).item() \n",
    "\n",
    "                correct_count += cur_correct_count\n",
    "                sum_count += cur_sum_count\n",
    "\n",
    "                progress_bar.update()\n",
    "                progress_bar.set_description('{:>5s} Loss = {:.5f}, Accuracy = {:.2%}'.format(\n",
    "                    name, loss.item(), cur_correct_count / cur_sum_count)\n",
    "                )\n",
    "                \n",
    "            progress_bar.set_description('{:>5s} Loss = {:.5f}, Accuracy = {:.2%}'.format(\n",
    "                name, epoch_loss / batches_count, correct_count / sum_count)\n",
    "            )\n",
    "\n",
    "    return epoch_loss / batches_count, correct_count / sum_count\n",
    "\n",
    "\n",
    "def fit(model, criterion, optimizer, train_data, epochs_count=1, batch_size=32,\n",
    "        val_data=None, val_batch_size=None):\n",
    "        \n",
    "    if not val_data is None and val_batch_size is None:\n",
    "        val_batch_size = batch_size\n",
    "        \n",
    "    for epoch in range(epochs_count):\n",
    "        name_prefix = '[{} / {}] '.format(epoch + 1, epochs_count)\n",
    "        train_loss, train_acc = do_epoch(model, criterion, train_data, batch_size, optimizer, name_prefix + 'Train:')\n",
    "        \n",
    "        if not val_data is None:\n",
    "            val_loss, val_acc = do_epoch(model, criterion, val_data, val_batch_size, None, name_prefix + '  Val:')"
   ]
  },
  {
   "cell_type": "code",
   "execution_count": 21,
   "metadata": {
    "colab": {
     "base_uri": "https://localhost:8080/",
     "height": 710
    },
    "executionInfo": {
     "elapsed": 116284,
     "status": "error",
     "timestamp": 1640286760905,
     "user": {
      "displayName": "Олександр Анатоліїович Савченко",
      "photoUrl": "https://lh3.googleusercontent.com/a-/AOh14GjFxEhCEDXBdXMW8HVBZvI3bm-ax-lV7gibeoHr=s64",
      "userId": "06649945919620007057"
     },
     "user_tz": -120
    },
    "id": "Pqfbeh1ltEYa",
    "outputId": "eec092f1-d8df-4827-9768-406fadf715e4"
   },
   "outputs": [
    {
     "name": "stderr",
     "output_type": "stream",
     "text": [
      "[1 / 50] Train: Loss = 0.69130, Accuracy = 78.21%: 100%|██████████| 572/572 [00:12<00:00, 44.42it/s]\n",
      "[1 / 50]   Val: Loss = 0.35129, Accuracy = 88.09%: 100%|██████████| 13/13 [00:00<00:00, 38.83it/s]\n",
      "[2 / 50] Train: Loss = 0.27213, Accuracy = 90.95%: 100%|██████████| 572/572 [00:11<00:00, 47.88it/s]\n",
      "[2 / 50]   Val: Loss = 0.23126, Accuracy = 92.16%: 100%|██████████| 13/13 [00:00<00:00, 39.63it/s]\n",
      "[3 / 50] Train: Loss = 0.18402, Accuracy = 93.90%: 100%|██████████| 572/572 [00:11<00:00, 49.44it/s]\n",
      "[3 / 50]   Val: Loss = 0.18557, Accuracy = 93.72%: 100%|██████████| 13/13 [00:00<00:00, 38.72it/s]\n",
      "[4 / 50] Train: Loss = 0.13764, Accuracy = 95.40%: 100%|██████████| 572/572 [00:11<00:00, 48.68it/s]\n",
      "[4 / 50]   Val: Loss = 0.16333, Accuracy = 94.54%: 100%|██████████| 13/13 [00:00<00:00, 41.79it/s]\n",
      "[5 / 50] Train: Loss = 0.10706, Accuracy = 96.40%: 100%|██████████| 572/572 [00:11<00:00, 48.82it/s]\n",
      "[5 / 50]   Val: Loss = 0.15168, Accuracy = 94.93%: 100%|██████████| 13/13 [00:00<00:00, 40.61it/s]\n",
      "[6 / 50] Train: Loss = 0.08502, Accuracy = 97.13%: 100%|██████████| 572/572 [00:11<00:00, 48.91it/s]\n",
      "[6 / 50]   Val: Loss = 0.14754, Accuracy = 95.25%: 100%|██████████| 13/13 [00:00<00:00, 41.11it/s]\n",
      "[7 / 50] Train: Loss = 0.06827, Accuracy = 97.71%: 100%|██████████| 572/572 [00:11<00:00, 48.81it/s]\n",
      "[7 / 50]   Val: Loss = 0.14620, Accuracy = 95.26%: 100%|██████████| 13/13 [00:00<00:00, 38.99it/s]\n",
      "[8 / 50] Train: Loss = 0.05554, Accuracy = 98.13%: 100%|██████████| 572/572 [00:11<00:00, 49.10it/s]\n",
      "[8 / 50]   Val: Loss = 0.14756, Accuracy = 95.41%: 100%|██████████| 13/13 [00:00<00:00, 40.52it/s]\n",
      "[9 / 50] Train: Loss = 0.04513, Accuracy = 98.49%: 100%|██████████| 572/572 [00:11<00:00, 48.61it/s]\n",
      "[9 / 50]   Val: Loss = 0.15435, Accuracy = 95.37%: 100%|██████████| 13/13 [00:00<00:00, 40.46it/s]\n",
      "[10 / 50] Train: Loss = 0.03558, Accuracy = 98.90%:  50%|████▉     | 285/572 [00:05<00:05, 48.49it/s]\n"
     ]
    },
    {
     "ename": "KeyboardInterrupt",
     "evalue": "ignored",
     "output_type": "error",
     "traceback": [
      "\u001b[0;31m---------------------------------------------------------------------------\u001b[0m",
      "\u001b[0;31mKeyboardInterrupt\u001b[0m                         Traceback (most recent call last)",
      "\u001b[0;32m<ipython-input-21-4dbf92a280e8>\u001b[0m in \u001b[0;36m<module>\u001b[0;34m()\u001b[0m\n\u001b[1;32m      9\u001b[0m     \u001b[0moptimizer\u001b[0m \u001b[0;34m=\u001b[0m \u001b[0moptim\u001b[0m\u001b[0;34m.\u001b[0m\u001b[0mAdam\u001b[0m\u001b[0;34m(\u001b[0m\u001b[0mmodel\u001b[0m\u001b[0;34m.\u001b[0m\u001b[0mparameters\u001b[0m\u001b[0;34m(\u001b[0m\u001b[0;34m)\u001b[0m\u001b[0;34m,\u001b[0m \u001b[0mlr\u001b[0m \u001b[0;34m=\u001b[0m \u001b[0mlr\u001b[0m\u001b[0;34m)\u001b[0m\u001b[0;34m\u001b[0m\u001b[0;34m\u001b[0m\u001b[0m\n\u001b[1;32m     10\u001b[0m     fit(model, criterion, optimizer, train_data=(X_train, y_train), epochs_count=50,\n\u001b[0;32m---> 11\u001b[0;31m     batch_size=64, val_data=(X_val, y_val), val_batch_size=512)\n\u001b[0m\u001b[1;32m     12\u001b[0m \u001b[0;32melse\u001b[0m\u001b[0;34m:\u001b[0m\u001b[0;34m\u001b[0m\u001b[0;34m\u001b[0m\u001b[0m\n\u001b[1;32m     13\u001b[0m     model = LSTMTagger(\n",
      "\u001b[0;32m<ipython-input-18-c6f8f8f9673b>\u001b[0m in \u001b[0;36mfit\u001b[0;34m(model, criterion, optimizer, train_data, epochs_count, batch_size, val_data, val_batch_size)\u001b[0m\n\u001b[1;32m     60\u001b[0m     \u001b[0;32mfor\u001b[0m \u001b[0mepoch\u001b[0m \u001b[0;32min\u001b[0m \u001b[0mrange\u001b[0m\u001b[0;34m(\u001b[0m\u001b[0mepochs_count\u001b[0m\u001b[0;34m)\u001b[0m\u001b[0;34m:\u001b[0m\u001b[0;34m\u001b[0m\u001b[0;34m\u001b[0m\u001b[0m\n\u001b[1;32m     61\u001b[0m         \u001b[0mname_prefix\u001b[0m \u001b[0;34m=\u001b[0m \u001b[0;34m'[{} / {}] '\u001b[0m\u001b[0;34m.\u001b[0m\u001b[0mformat\u001b[0m\u001b[0;34m(\u001b[0m\u001b[0mepoch\u001b[0m \u001b[0;34m+\u001b[0m \u001b[0;36m1\u001b[0m\u001b[0;34m,\u001b[0m \u001b[0mepochs_count\u001b[0m\u001b[0;34m)\u001b[0m\u001b[0;34m\u001b[0m\u001b[0;34m\u001b[0m\u001b[0m\n\u001b[0;32m---> 62\u001b[0;31m         \u001b[0mtrain_loss\u001b[0m\u001b[0;34m,\u001b[0m \u001b[0mtrain_acc\u001b[0m \u001b[0;34m=\u001b[0m \u001b[0mdo_epoch\u001b[0m\u001b[0;34m(\u001b[0m\u001b[0mmodel\u001b[0m\u001b[0;34m,\u001b[0m \u001b[0mcriterion\u001b[0m\u001b[0;34m,\u001b[0m \u001b[0mtrain_data\u001b[0m\u001b[0;34m,\u001b[0m \u001b[0mbatch_size\u001b[0m\u001b[0;34m,\u001b[0m \u001b[0moptimizer\u001b[0m\u001b[0;34m,\u001b[0m \u001b[0mname_prefix\u001b[0m \u001b[0;34m+\u001b[0m \u001b[0;34m'Train:'\u001b[0m\u001b[0;34m)\u001b[0m\u001b[0;34m\u001b[0m\u001b[0;34m\u001b[0m\u001b[0m\n\u001b[0m\u001b[1;32m     63\u001b[0m \u001b[0;34m\u001b[0m\u001b[0m\n\u001b[1;32m     64\u001b[0m         \u001b[0;32mif\u001b[0m \u001b[0;32mnot\u001b[0m \u001b[0mval_data\u001b[0m \u001b[0;32mis\u001b[0m \u001b[0;32mNone\u001b[0m\u001b[0;34m:\u001b[0m\u001b[0;34m\u001b[0m\u001b[0;34m\u001b[0m\u001b[0m\n",
      "\u001b[0;32m<ipython-input-18-c6f8f8f9673b>\u001b[0m in \u001b[0;36mdo_epoch\u001b[0;34m(model, criterion, data, batch_size, optimizer, name)\u001b[0m\n\u001b[1;32m     31\u001b[0m                 \u001b[0;32mif\u001b[0m \u001b[0moptimizer\u001b[0m\u001b[0;34m:\u001b[0m\u001b[0;34m\u001b[0m\u001b[0;34m\u001b[0m\u001b[0m\n\u001b[1;32m     32\u001b[0m                     \u001b[0moptimizer\u001b[0m\u001b[0;34m.\u001b[0m\u001b[0mzero_grad\u001b[0m\u001b[0;34m(\u001b[0m\u001b[0;34m)\u001b[0m\u001b[0;34m\u001b[0m\u001b[0;34m\u001b[0m\u001b[0m\n\u001b[0;32m---> 33\u001b[0;31m                     \u001b[0mloss\u001b[0m\u001b[0;34m.\u001b[0m\u001b[0mbackward\u001b[0m\u001b[0;34m(\u001b[0m\u001b[0;34m)\u001b[0m\u001b[0;34m\u001b[0m\u001b[0;34m\u001b[0m\u001b[0m\n\u001b[0m\u001b[1;32m     34\u001b[0m                     \u001b[0moptimizer\u001b[0m\u001b[0;34m.\u001b[0m\u001b[0mstep\u001b[0m\u001b[0;34m(\u001b[0m\u001b[0;34m)\u001b[0m\u001b[0;34m\u001b[0m\u001b[0;34m\u001b[0m\u001b[0m\n\u001b[1;32m     35\u001b[0m \u001b[0;34m\u001b[0m\u001b[0m\n",
      "\u001b[0;32m/usr/local/lib/python3.7/dist-packages/torch/_tensor.py\u001b[0m in \u001b[0;36mbackward\u001b[0;34m(self, gradient, retain_graph, create_graph, inputs)\u001b[0m\n\u001b[1;32m    305\u001b[0m                 \u001b[0mcreate_graph\u001b[0m\u001b[0;34m=\u001b[0m\u001b[0mcreate_graph\u001b[0m\u001b[0;34m,\u001b[0m\u001b[0;34m\u001b[0m\u001b[0;34m\u001b[0m\u001b[0m\n\u001b[1;32m    306\u001b[0m                 inputs=inputs)\n\u001b[0;32m--> 307\u001b[0;31m         \u001b[0mtorch\u001b[0m\u001b[0;34m.\u001b[0m\u001b[0mautograd\u001b[0m\u001b[0;34m.\u001b[0m\u001b[0mbackward\u001b[0m\u001b[0;34m(\u001b[0m\u001b[0mself\u001b[0m\u001b[0;34m,\u001b[0m \u001b[0mgradient\u001b[0m\u001b[0;34m,\u001b[0m \u001b[0mretain_graph\u001b[0m\u001b[0;34m,\u001b[0m \u001b[0mcreate_graph\u001b[0m\u001b[0;34m,\u001b[0m \u001b[0minputs\u001b[0m\u001b[0;34m=\u001b[0m\u001b[0minputs\u001b[0m\u001b[0;34m)\u001b[0m\u001b[0;34m\u001b[0m\u001b[0;34m\u001b[0m\u001b[0m\n\u001b[0m\u001b[1;32m    308\u001b[0m \u001b[0;34m\u001b[0m\u001b[0m\n\u001b[1;32m    309\u001b[0m     \u001b[0;32mdef\u001b[0m \u001b[0mregister_hook\u001b[0m\u001b[0;34m(\u001b[0m\u001b[0mself\u001b[0m\u001b[0;34m,\u001b[0m \u001b[0mhook\u001b[0m\u001b[0;34m)\u001b[0m\u001b[0;34m:\u001b[0m\u001b[0;34m\u001b[0m\u001b[0;34m\u001b[0m\u001b[0m\n",
      "\u001b[0;32m/usr/local/lib/python3.7/dist-packages/torch/autograd/__init__.py\u001b[0m in \u001b[0;36mbackward\u001b[0;34m(tensors, grad_tensors, retain_graph, create_graph, grad_variables, inputs)\u001b[0m\n\u001b[1;32m    154\u001b[0m     Variable._execution_engine.run_backward(\n\u001b[1;32m    155\u001b[0m         \u001b[0mtensors\u001b[0m\u001b[0;34m,\u001b[0m \u001b[0mgrad_tensors_\u001b[0m\u001b[0;34m,\u001b[0m \u001b[0mretain_graph\u001b[0m\u001b[0;34m,\u001b[0m \u001b[0mcreate_graph\u001b[0m\u001b[0;34m,\u001b[0m \u001b[0minputs\u001b[0m\u001b[0;34m,\u001b[0m\u001b[0;34m\u001b[0m\u001b[0;34m\u001b[0m\u001b[0m\n\u001b[0;32m--> 156\u001b[0;31m         allow_unreachable=True, accumulate_grad=True)  # allow_unreachable flag\n\u001b[0m\u001b[1;32m    157\u001b[0m \u001b[0;34m\u001b[0m\u001b[0m\n\u001b[1;32m    158\u001b[0m \u001b[0;34m\u001b[0m\u001b[0m\n",
      "\u001b[0;31mKeyboardInterrupt\u001b[0m: "
     ]
    }
   ],
   "source": [
    "lr = 0.001\n",
    "\n",
    "if torch.cuda.is_available():\n",
    "    model = LSTMTagger(\n",
    "    vocab_size=len(word2ind),\n",
    "    tagset_size=len(tag2ind)\n",
    "               ).cuda()\n",
    "    criterion = nn.CrossEntropyLoss(ignore_index = 0).cuda()\n",
    "    optimizer = optim.Adam(model.parameters(), lr = lr)\n",
    "    fit(model, criterion, optimizer, train_data=(X_train, y_train), epochs_count=50,\n",
    "    batch_size=64, val_data=(X_val, y_val), val_batch_size=512)\n",
    "else:\n",
    "    model = LSTMTagger(\n",
    "    vocab_size=len(word2ind),\n",
    "    tagset_size=len(tag2ind))\n",
    "    criterion = nn.CrossEntropyLoss(ignore_index = 0)\n",
    "    optimizer = optim.Adam(model.parameters(), lr = lr)\n",
    "    fit(model, criterion, optimizer, train_data=(X_train, y_train), epochs_count=50, batch_size=64, val_data=(X_val, y_val), val_batch_size=512)\n"
   ]
  },
  {
   "cell_type": "markdown",
   "metadata": {
    "id": "m0qGetIhfUE5"
   },
   "source": [
    "### Masking\n",
    "\n",
    "**Задание** Проверьте себя - не считаете ли вы потери и accuracy на паддингах - очень легко получить высокое качество за счет этого.\n",
    "\n",
    "У функции потерь есть параметр `ignore_index`, для таких целей. Для accuracy нужно использовать маскинг - умножение на маску из нулей и единиц, где нули на позициях паддингов (а потом усреднение по ненулевым позициям в маске)."
   ]
  },
  {
   "cell_type": "markdown",
   "metadata": {
    "id": "nAfV2dEOfHo5"
   },
   "source": [
    "**Задание** Посчитайте качество модели на тесте. Ожидается результат лучше бейзлайна!"
   ]
  },
  {
   "cell_type": "code",
   "execution_count": 22,
   "metadata": {
    "colab": {
     "base_uri": "https://localhost:8080/"
    },
    "executionInfo": {
     "elapsed": 1306,
     "status": "ok",
     "timestamp": 1640286768894,
     "user": {
      "displayName": "Олександр Анатоліїович Савченко",
      "photoUrl": "https://lh3.googleusercontent.com/a-/AOh14GjFxEhCEDXBdXMW8HVBZvI3bm-ax-lV7gibeoHr=s64",
      "userId": "06649945919620007057"
     },
     "user_tz": -120
    },
    "id": "98wr38_rw55D",
    "outputId": "254beb30-2a52-41a2-ef27-043ecda5629e"
   },
   "outputs": [
    {
     "name": "stderr",
     "output_type": "stream",
     "text": [
      "      Loss = 0.15708, Accuracy = 95.42%: 100%|██████████| 56/56 [00:01<00:00, 53.39it/s]\n"
     ]
    }
   ],
   "source": [
    "loss_test, accuracy_test = do_epoch(model, criterion, data = (X_test, y_test), batch_size = 256, optimizer=None, name=None)\n"
   ]
  },
  {
   "cell_type": "markdown",
   "metadata": {
    "id": "PXUTSFaEHbDG"
   },
   "source": [
    "### Bidirectional LSTM\n",
    "\n",
    "Благодаря BiLSTM можно использовать сразу оба контеста при предсказании тега слова. Т.е. для каждого токена $w_i$ forward LSTM будет выдавать представление $\\mathbf{f_i} \\sim (w_1, \\ldots, w_i)$ - построенное по всему левому контексту - и $\\mathbf{b_i} \\sim (w_n, \\ldots, w_i)$ - представление правого контекста. Их конкатенация автоматически захватит весь доступный контекст слова: $\\mathbf{h_i} = [\\mathbf{f_i}, \\mathbf{b_i}] \\sim (w_1, \\ldots, w_n)$.\n",
    "\n",
    "![BiLSTM](https://www.researchgate.net/profile/Wang_Ling/publication/280912217/figure/fig2/AS:391505383575555@1470353565299/Illustration-of-our-neural-network-for-POS-tagging.png)  \n",
    "*From [Finding Function in Form: Compositional Character Models for Open Vocabulary Word Representation](https://arxiv.org/abs/1508.02096)*\n",
    "\n",
    "**Задание** Добавьте Bidirectional LSTM."
   ]
  },
  {
   "cell_type": "code",
   "execution_count": 23,
   "metadata": {
    "executionInfo": {
     "elapsed": 509,
     "status": "ok",
     "timestamp": 1640286804069,
     "user": {
      "displayName": "Олександр Анатоліїович Савченко",
      "photoUrl": "https://lh3.googleusercontent.com/a-/AOh14GjFxEhCEDXBdXMW8HVBZvI3bm-ax-lV7gibeoHr=s64",
      "userId": "06649945919620007057"
     },
     "user_tz": -120
    },
    "id": "5moIHa0xAXXM"
   },
   "outputs": [],
   "source": [
    "class BidirectionalLSTMTagger(nn.Module):\n",
    "    def __init__(self, vocab_size, tagset_size, word_emb_dim=100, lstm_hidden_dim=128, lstm_layers_count=1, bidirectional=True):\n",
    "        super().__init__()\n",
    "        self.hidden_dim = lstm_hidden_dim\n",
    "        self.word_embeddings = nn.Embedding(vocab_size, word_emb_dim)\n",
    "        self.lstm = nn.LSTM(word_emb_dim, lstm_hidden_dim, lstm_layers_count, bidirectional=True)\n",
    "        self.hidden2tag = nn.Linear(lstm_hidden_dim * 2 if bidirectional else lstm_hidden_dim, tagset_size)\n",
    "        \n",
    "\n",
    "    def forward(self, inputs):\n",
    "        embeds = self.word_embeddings(inputs)\n",
    "        lstm_out, _ = self.lstm(embeds)\n",
    "        tag_space = self.hidden2tag(lstm_out)\n",
    "        return tag_space"
   ]
  },
  {
   "cell_type": "code",
   "execution_count": 24,
   "metadata": {
    "colab": {
     "base_uri": "https://localhost:8080/",
     "height": 710
    },
    "executionInfo": {
     "elapsed": 132926,
     "status": "error",
     "timestamp": 1640286960443,
     "user": {
      "displayName": "Олександр Анатоліїович Савченко",
      "photoUrl": "https://lh3.googleusercontent.com/a-/AOh14GjFxEhCEDXBdXMW8HVBZvI3bm-ax-lV7gibeoHr=s64",
      "userId": "06649945919620007057"
     },
     "user_tz": -120
    },
    "id": "3lTZS2nR9O_g",
    "outputId": "8b729980-dcd7-46d9-c33a-471e0f285446"
   },
   "outputs": [
    {
     "name": "stderr",
     "output_type": "stream",
     "text": [
      "[1 / 30] Train: Loss = 0.55251, Accuracy = 82.46%: 100%|██████████| 572/572 [00:13<00:00, 42.05it/s]\n",
      "[1 / 30]   Val: Loss = 0.28211, Accuracy = 90.82%: 100%|██████████| 13/13 [00:00<00:00, 32.08it/s]\n",
      "[2 / 30] Train: Loss = 0.20565, Accuracy = 93.49%: 100%|██████████| 572/572 [00:13<00:00, 41.75it/s]\n",
      "[2 / 30]   Val: Loss = 0.19070, Accuracy = 93.92%: 100%|██████████| 13/13 [00:00<00:00, 32.31it/s]\n",
      "[3 / 30] Train: Loss = 0.13036, Accuracy = 95.97%: 100%|██████████| 572/572 [00:13<00:00, 41.84it/s]\n",
      "[3 / 30]   Val: Loss = 0.15772, Accuracy = 94.96%: 100%|██████████| 13/13 [00:00<00:00, 33.82it/s]\n",
      "[4 / 30] Train: Loss = 0.08894, Accuracy = 97.31%: 100%|██████████| 572/572 [00:13<00:00, 41.91it/s]\n",
      "[4 / 30]   Val: Loss = 0.13390, Accuracy = 95.76%: 100%|██████████| 13/13 [00:00<00:00, 30.66it/s]\n",
      "[5 / 30] Train: Loss = 0.06190, Accuracy = 98.17%: 100%|██████████| 572/572 [00:13<00:00, 41.82it/s]\n",
      "[5 / 30]   Val: Loss = 0.13220, Accuracy = 95.86%: 100%|██████████| 13/13 [00:00<00:00, 31.80it/s]\n",
      "[6 / 30] Train: Loss = 0.04240, Accuracy = 98.78%: 100%|██████████| 572/572 [00:13<00:00, 41.79it/s]\n",
      "[6 / 30]   Val: Loss = 0.12905, Accuracy = 96.13%: 100%|██████████| 13/13 [00:00<00:00, 31.58it/s]\n",
      "[7 / 30] Train: Loss = 0.02845, Accuracy = 99.22%: 100%|██████████| 572/572 [00:13<00:00, 41.97it/s]\n",
      "[7 / 30]   Val: Loss = 0.13288, Accuracy = 96.31%: 100%|██████████| 13/13 [00:00<00:00, 32.48it/s]\n",
      "[8 / 30] Train: Loss = 0.01867, Accuracy = 99.52%: 100%|██████████| 572/572 [00:13<00:00, 41.55it/s]\n",
      "[8 / 30]   Val: Loss = 0.13962, Accuracy = 96.37%: 100%|██████████| 13/13 [00:00<00:00, 30.29it/s]\n",
      "[9 / 30] Train: Loss = 0.01211, Accuracy = 99.71%: 100%|██████████| 572/572 [00:13<00:00, 41.74it/s]\n",
      "[9 / 30]   Val: Loss = 0.14715, Accuracy = 96.28%: 100%|██████████| 13/13 [00:00<00:00, 31.32it/s]\n",
      "[10 / 30] Train: Loss = 0.00894, Accuracy = 99.75%:  39%|███▉      | 222/572 [00:05<00:08, 41.90it/s]\n"
     ]
    },
    {
     "ename": "KeyboardInterrupt",
     "evalue": "ignored",
     "output_type": "error",
     "traceback": [
      "\u001b[0;31m---------------------------------------------------------------------------\u001b[0m",
      "\u001b[0;31mKeyboardInterrupt\u001b[0m                         Traceback (most recent call last)",
      "\u001b[0;32m<ipython-input-24-c411fef9cf18>\u001b[0m in \u001b[0;36m<module>\u001b[0;34m()\u001b[0m\n\u001b[1;32m      9\u001b[0m     \u001b[0moptimizer\u001b[0m \u001b[0;34m=\u001b[0m \u001b[0moptim\u001b[0m\u001b[0;34m.\u001b[0m\u001b[0mAdam\u001b[0m\u001b[0;34m(\u001b[0m\u001b[0mmodel_2\u001b[0m\u001b[0;34m.\u001b[0m\u001b[0mparameters\u001b[0m\u001b[0;34m(\u001b[0m\u001b[0;34m)\u001b[0m\u001b[0;34m,\u001b[0m \u001b[0mlr\u001b[0m \u001b[0;34m=\u001b[0m \u001b[0mlr\u001b[0m\u001b[0;34m)\u001b[0m\u001b[0;34m\u001b[0m\u001b[0;34m\u001b[0m\u001b[0m\n\u001b[1;32m     10\u001b[0m     fit(model_2, criterion, optimizer, train_data=(X_train, y_train), epochs_count=30,\n\u001b[0;32m---> 11\u001b[0;31m     batch_size=64, val_data=(X_val, y_val), val_batch_size=512)\n\u001b[0m\u001b[1;32m     12\u001b[0m \u001b[0;32melse\u001b[0m\u001b[0;34m:\u001b[0m\u001b[0;34m\u001b[0m\u001b[0;34m\u001b[0m\u001b[0m\n\u001b[1;32m     13\u001b[0m     model_2 = BidirectionalLSTMTagger(\n",
      "\u001b[0;32m<ipython-input-18-c6f8f8f9673b>\u001b[0m in \u001b[0;36mfit\u001b[0;34m(model, criterion, optimizer, train_data, epochs_count, batch_size, val_data, val_batch_size)\u001b[0m\n\u001b[1;32m     60\u001b[0m     \u001b[0;32mfor\u001b[0m \u001b[0mepoch\u001b[0m \u001b[0;32min\u001b[0m \u001b[0mrange\u001b[0m\u001b[0;34m(\u001b[0m\u001b[0mepochs_count\u001b[0m\u001b[0;34m)\u001b[0m\u001b[0;34m:\u001b[0m\u001b[0;34m\u001b[0m\u001b[0;34m\u001b[0m\u001b[0m\n\u001b[1;32m     61\u001b[0m         \u001b[0mname_prefix\u001b[0m \u001b[0;34m=\u001b[0m \u001b[0;34m'[{} / {}] '\u001b[0m\u001b[0;34m.\u001b[0m\u001b[0mformat\u001b[0m\u001b[0;34m(\u001b[0m\u001b[0mepoch\u001b[0m \u001b[0;34m+\u001b[0m \u001b[0;36m1\u001b[0m\u001b[0;34m,\u001b[0m \u001b[0mepochs_count\u001b[0m\u001b[0;34m)\u001b[0m\u001b[0;34m\u001b[0m\u001b[0;34m\u001b[0m\u001b[0m\n\u001b[0;32m---> 62\u001b[0;31m         \u001b[0mtrain_loss\u001b[0m\u001b[0;34m,\u001b[0m \u001b[0mtrain_acc\u001b[0m \u001b[0;34m=\u001b[0m \u001b[0mdo_epoch\u001b[0m\u001b[0;34m(\u001b[0m\u001b[0mmodel\u001b[0m\u001b[0;34m,\u001b[0m \u001b[0mcriterion\u001b[0m\u001b[0;34m,\u001b[0m \u001b[0mtrain_data\u001b[0m\u001b[0;34m,\u001b[0m \u001b[0mbatch_size\u001b[0m\u001b[0;34m,\u001b[0m \u001b[0moptimizer\u001b[0m\u001b[0;34m,\u001b[0m \u001b[0mname_prefix\u001b[0m \u001b[0;34m+\u001b[0m \u001b[0;34m'Train:'\u001b[0m\u001b[0;34m)\u001b[0m\u001b[0;34m\u001b[0m\u001b[0;34m\u001b[0m\u001b[0m\n\u001b[0m\u001b[1;32m     63\u001b[0m \u001b[0;34m\u001b[0m\u001b[0m\n\u001b[1;32m     64\u001b[0m         \u001b[0;32mif\u001b[0m \u001b[0;32mnot\u001b[0m \u001b[0mval_data\u001b[0m \u001b[0;32mis\u001b[0m \u001b[0;32mNone\u001b[0m\u001b[0;34m:\u001b[0m\u001b[0;34m\u001b[0m\u001b[0;34m\u001b[0m\u001b[0m\n",
      "\u001b[0;32m<ipython-input-18-c6f8f8f9673b>\u001b[0m in \u001b[0;36mdo_epoch\u001b[0;34m(model, criterion, data, batch_size, optimizer, name)\u001b[0m\n\u001b[1;32m     31\u001b[0m                 \u001b[0;32mif\u001b[0m \u001b[0moptimizer\u001b[0m\u001b[0;34m:\u001b[0m\u001b[0;34m\u001b[0m\u001b[0;34m\u001b[0m\u001b[0m\n\u001b[1;32m     32\u001b[0m                     \u001b[0moptimizer\u001b[0m\u001b[0;34m.\u001b[0m\u001b[0mzero_grad\u001b[0m\u001b[0;34m(\u001b[0m\u001b[0;34m)\u001b[0m\u001b[0;34m\u001b[0m\u001b[0;34m\u001b[0m\u001b[0m\n\u001b[0;32m---> 33\u001b[0;31m                     \u001b[0mloss\u001b[0m\u001b[0;34m.\u001b[0m\u001b[0mbackward\u001b[0m\u001b[0;34m(\u001b[0m\u001b[0;34m)\u001b[0m\u001b[0;34m\u001b[0m\u001b[0;34m\u001b[0m\u001b[0m\n\u001b[0m\u001b[1;32m     34\u001b[0m                     \u001b[0moptimizer\u001b[0m\u001b[0;34m.\u001b[0m\u001b[0mstep\u001b[0m\u001b[0;34m(\u001b[0m\u001b[0;34m)\u001b[0m\u001b[0;34m\u001b[0m\u001b[0;34m\u001b[0m\u001b[0m\n\u001b[1;32m     35\u001b[0m \u001b[0;34m\u001b[0m\u001b[0m\n",
      "\u001b[0;32m/usr/local/lib/python3.7/dist-packages/torch/_tensor.py\u001b[0m in \u001b[0;36mbackward\u001b[0;34m(self, gradient, retain_graph, create_graph, inputs)\u001b[0m\n\u001b[1;32m    305\u001b[0m                 \u001b[0mcreate_graph\u001b[0m\u001b[0;34m=\u001b[0m\u001b[0mcreate_graph\u001b[0m\u001b[0;34m,\u001b[0m\u001b[0;34m\u001b[0m\u001b[0;34m\u001b[0m\u001b[0m\n\u001b[1;32m    306\u001b[0m                 inputs=inputs)\n\u001b[0;32m--> 307\u001b[0;31m         \u001b[0mtorch\u001b[0m\u001b[0;34m.\u001b[0m\u001b[0mautograd\u001b[0m\u001b[0;34m.\u001b[0m\u001b[0mbackward\u001b[0m\u001b[0;34m(\u001b[0m\u001b[0mself\u001b[0m\u001b[0;34m,\u001b[0m \u001b[0mgradient\u001b[0m\u001b[0;34m,\u001b[0m \u001b[0mretain_graph\u001b[0m\u001b[0;34m,\u001b[0m \u001b[0mcreate_graph\u001b[0m\u001b[0;34m,\u001b[0m \u001b[0minputs\u001b[0m\u001b[0;34m=\u001b[0m\u001b[0minputs\u001b[0m\u001b[0;34m)\u001b[0m\u001b[0;34m\u001b[0m\u001b[0;34m\u001b[0m\u001b[0m\n\u001b[0m\u001b[1;32m    308\u001b[0m \u001b[0;34m\u001b[0m\u001b[0m\n\u001b[1;32m    309\u001b[0m     \u001b[0;32mdef\u001b[0m \u001b[0mregister_hook\u001b[0m\u001b[0;34m(\u001b[0m\u001b[0mself\u001b[0m\u001b[0;34m,\u001b[0m \u001b[0mhook\u001b[0m\u001b[0;34m)\u001b[0m\u001b[0;34m:\u001b[0m\u001b[0;34m\u001b[0m\u001b[0;34m\u001b[0m\u001b[0m\n",
      "\u001b[0;32m/usr/local/lib/python3.7/dist-packages/torch/autograd/__init__.py\u001b[0m in \u001b[0;36mbackward\u001b[0;34m(tensors, grad_tensors, retain_graph, create_graph, grad_variables, inputs)\u001b[0m\n\u001b[1;32m    154\u001b[0m     Variable._execution_engine.run_backward(\n\u001b[1;32m    155\u001b[0m         \u001b[0mtensors\u001b[0m\u001b[0;34m,\u001b[0m \u001b[0mgrad_tensors_\u001b[0m\u001b[0;34m,\u001b[0m \u001b[0mretain_graph\u001b[0m\u001b[0;34m,\u001b[0m \u001b[0mcreate_graph\u001b[0m\u001b[0;34m,\u001b[0m \u001b[0minputs\u001b[0m\u001b[0;34m,\u001b[0m\u001b[0;34m\u001b[0m\u001b[0;34m\u001b[0m\u001b[0m\n\u001b[0;32m--> 156\u001b[0;31m         allow_unreachable=True, accumulate_grad=True)  # allow_unreachable flag\n\u001b[0m\u001b[1;32m    157\u001b[0m \u001b[0;34m\u001b[0m\u001b[0m\n\u001b[1;32m    158\u001b[0m \u001b[0;34m\u001b[0m\u001b[0m\n",
      "\u001b[0;31mKeyboardInterrupt\u001b[0m: "
     ]
    }
   ],
   "source": [
    "lr = 0.001\n",
    "\n",
    "if torch.cuda.is_available():\n",
    "    model_2 = BidirectionalLSTMTagger(\n",
    "    vocab_size=len(word2ind),\n",
    "    tagset_size=len(tag2ind)\n",
    "               ).cuda()\n",
    "    criterion = nn.CrossEntropyLoss(ignore_index = 0).cuda()\n",
    "    optimizer = optim.Adam(model_2.parameters(), lr = lr)\n",
    "    fit(model_2, criterion, optimizer, train_data=(X_train, y_train), epochs_count=30,\n",
    "    batch_size=64, val_data=(X_val, y_val), val_batch_size=512)\n",
    "else:\n",
    "    model_2 = BidirectionalLSTMTagger(\n",
    "    vocab_size=len(word2ind),\n",
    "    tagset_size=len(tag2ind))\n",
    "    criterion = nn.CrossEntropyLoss(ignore_index = 0)\n",
    "    optimizer = optim.Adam(model_2.parameters(), lr = lr)\n",
    "    fit(model_2, criterion, optimizer, train_data=(X_train, y_train), epochs_count=30, batch_size=64, val_data=(X_val, y_val), val_batch_size=512)"
   ]
  },
  {
   "cell_type": "code",
   "execution_count": 25,
   "metadata": {
    "colab": {
     "base_uri": "https://localhost:8080/"
    },
    "executionInfo": {
     "elapsed": 1562,
     "status": "ok",
     "timestamp": 1640286981984,
     "user": {
      "displayName": "Олександр Анатоліїович Савченко",
      "photoUrl": "https://lh3.googleusercontent.com/a-/AOh14GjFxEhCEDXBdXMW8HVBZvI3bm-ax-lV7gibeoHr=s64",
      "userId": "06649945919620007057"
     },
     "user_tz": -120
    },
    "id": "JqeWysR7MwXt",
    "outputId": "3061c770-54be-43f5-d39a-33f00606489d"
   },
   "outputs": [
    {
     "name": "stderr",
     "output_type": "stream",
     "text": [
      "      Loss = 0.14781, Accuracy = 96.36%: 100%|██████████| 56/56 [00:01<00:00, 47.86it/s]\n"
     ]
    }
   ],
   "source": [
    "loss_test, accuracy_test = do_epoch(model_2, criterion, data = (X_test, y_test), batch_size = 256, optimizer=None, name=None)"
   ]
  },
  {
   "cell_type": "code",
   "execution_count": null,
   "metadata": {
    "id": "SmlEj69w9Pln"
   },
   "outputs": [],
   "source": []
  },
  {
   "cell_type": "markdown",
   "metadata": {
    "id": "ZTXmYGD_ANhm"
   },
   "source": [
    "### Предобученные эмбеддинги\n",
    "\n",
    "Мы знаем, какая клёвая вещь - предобученные эмбеддинги. При текущем размере обучающей выборки еще можно было учить их и с нуля - с меньшей было бы совсем плохо.\n",
    "\n",
    "Поэтому стандартный пайплайн - скачать эмбеддинги, засунуть их в сеточку. Запустим его:"
   ]
  },
  {
   "cell_type": "code",
   "execution_count": 27,
   "metadata": {
    "colab": {
     "base_uri": "https://localhost:8080/"
    },
    "executionInfo": {
     "elapsed": 108449,
     "status": "ok",
     "timestamp": 1640287628473,
     "user": {
      "displayName": "Олександр Анатоліїович Савченко",
      "photoUrl": "https://lh3.googleusercontent.com/a-/AOh14GjFxEhCEDXBdXMW8HVBZvI3bm-ax-lV7gibeoHr=s64",
      "userId": "06649945919620007057"
     },
     "user_tz": -120
    },
    "id": "uZpY_Q1xZ18h",
    "outputId": "b9fec9c4-ffc2-4a6c-82ac-544778754362"
   },
   "outputs": [
    {
     "name": "stdout",
     "output_type": "stream",
     "text": [
      "[==================================================] 100.0% 128.1/128.1MB downloaded\n"
     ]
    }
   ],
   "source": [
    "import gensim.downloader as api\n",
    "\n",
    "w2v_model = api.load('glove-wiki-gigaword-100')"
   ]
  },
  {
   "cell_type": "code",
   "execution_count": 60,
   "metadata": {
    "colab": {
     "base_uri": "https://localhost:8080/"
    },
    "executionInfo": {
     "elapsed": 15,
     "status": "ok",
     "timestamp": 1640289266965,
     "user": {
      "displayName": "Олександр Анатоліїович Савченко",
      "photoUrl": "https://lh3.googleusercontent.com/a-/AOh14GjFxEhCEDXBdXMW8HVBZvI3bm-ax-lV7gibeoHr=s64",
      "userId": "06649945919620007057"
     },
     "user_tz": -120
    },
    "id": "NEvbWTpJVxVO",
    "outputId": "49445eef-58d3-4bd1-f15c-e49d6c3f8122"
   },
   "outputs": [
    {
     "data": {
      "text/plain": [
       "(400000, 100)"
      ]
     },
     "execution_count": 60,
     "metadata": {},
     "output_type": "execute_result"
    }
   ],
   "source": [
    "w2v_model.vectors.shape"
   ]
  },
  {
   "cell_type": "markdown",
   "metadata": {
    "id": "KYogOoKlgtcf"
   },
   "source": [
    "Построим подматрицу для слов из нашей тренировочной выборки:"
   ]
  },
  {
   "cell_type": "code",
   "execution_count": 62,
   "metadata": {
    "colab": {
     "base_uri": "https://localhost:8080/"
    },
    "executionInfo": {
     "elapsed": 543,
     "status": "ok",
     "timestamp": 1640289694850,
     "user": {
      "displayName": "Олександр Анатоліїович Савченко",
      "photoUrl": "https://lh3.googleusercontent.com/a-/AOh14GjFxEhCEDXBdXMW8HVBZvI3bm-ax-lV7gibeoHr=s64",
      "userId": "06649945919620007057"
     },
     "user_tz": -120
    },
    "id": "6A7TrJ-wYq3o",
    "outputId": "6153fa9d-4c31-4edc-a713-55f0d701cc06"
   },
   "outputs": [
    {
     "data": {
      "text/plain": [
       "tensor([-0.5829,  0.2339,  2.3784,  1.0894,  0.0451, -0.8623, -0.8749, -0.2668,\n",
       "        -0.1006,  1.0918, -0.6821, -2.0795,  1.0524,  1.3103, -0.0489,  0.2822,\n",
       "        -0.1044, -0.6328,  0.2186, -0.6651,  0.1027, -1.0303,  1.1721, -0.0701,\n",
       "         0.8566,  0.0772, -0.5140, -0.3402,  1.1397,  2.1688,  1.6801, -0.4126,\n",
       "         0.7643,  1.7734, -0.1070,  0.0032, -0.7419,  0.7482, -1.5416, -0.6400,\n",
       "         0.8721,  0.3673,  0.5741,  0.6192,  0.5363, -1.4932,  1.8720, -0.2954,\n",
       "         1.1492, -1.8724, -0.6700,  1.5069, -0.8986, -1.2814,  1.7993,  1.0852,\n",
       "        -0.8850,  0.7317,  0.5117, -1.3841,  1.0353, -2.7538,  0.3128,  0.9846,\n",
       "        -0.2471, -1.2489,  0.0670,  0.9404,  1.6305,  0.7104,  0.6247,  0.7898,\n",
       "         1.0067,  0.4022,  0.8533,  0.1191,  0.7641, -0.0310,  0.4038,  1.7090,\n",
       "        -0.9338,  0.5722,  1.3514, -0.6991, -0.2681,  0.1436,  1.1634, -0.6373,\n",
       "         0.7604,  0.4045,  1.4203,  0.6764,  0.0945,  0.2908, -1.0721, -0.7583,\n",
       "         0.9824, -0.4793,  0.0255, -0.2146], grad_fn=<SelectBackward0>)"
      ]
     },
     "execution_count": 62,
     "metadata": {},
     "output_type": "execute_result"
    }
   ],
   "source": [
    "embeddings_random = nn.Embedding(len(word2ind), w2v_model.vectors.shape[1])\n",
    "embeddings_random.weight[0]\n",
    "\n"
   ]
  },
  {
   "cell_type": "code",
   "execution_count": 63,
   "metadata": {
    "colab": {
     "base_uri": "https://localhost:8080/"
    },
    "executionInfo": {
     "elapsed": 357,
     "status": "ok",
     "timestamp": 1640289953147,
     "user": {
      "displayName": "Олександр Анатоліїович Савченко",
      "photoUrl": "https://lh3.googleusercontent.com/a-/AOh14GjFxEhCEDXBdXMW8HVBZvI3bm-ax-lV7gibeoHr=s64",
      "userId": "06649945919620007057"
     },
     "user_tz": -120
    },
    "id": "VsCstxiO03oT",
    "outputId": "17b56167-dbe3-4447-c761-31145316e48a"
   },
   "outputs": [
    {
     "name": "stdout",
     "output_type": "stream",
     "text": [
      "Know 38736 out of 45441 word embeddings\n"
     ]
    }
   ],
   "source": [
    "known_count = 0\n",
    "embeddings = embeddings_random.weight.detach().numpy()\n",
    "\n",
    "for word, ind in word2ind.items():\n",
    "    word = word.lower()\n",
    "    if word in w2v_model.vocab:\n",
    "        embeddings[ind] = w2v_model.get_vector(word)\n",
    "        known_count += 1\n",
    "        \n",
    "print('Know {} out of {} word embeddings'.format(known_count, len(word2ind)))"
   ]
  },
  {
   "cell_type": "code",
   "execution_count": 64,
   "metadata": {
    "colab": {
     "base_uri": "https://localhost:8080/"
    },
    "executionInfo": {
     "elapsed": 377,
     "status": "ok",
     "timestamp": 1640289973855,
     "user": {
      "displayName": "Олександр Анатоліїович Савченко",
      "photoUrl": "https://lh3.googleusercontent.com/a-/AOh14GjFxEhCEDXBdXMW8HVBZvI3bm-ax-lV7gibeoHr=s64",
      "userId": "06649945919620007057"
     },
     "user_tz": -120
    },
    "id": "_rsU5ntaw-aR",
    "outputId": "07d4d784-0cbe-4464-88a1-036b069e7d5f"
   },
   "outputs": [
    {
     "data": {
      "text/plain": [
       "array([-0.5829399 ,  0.23387036,  2.3784485 ,  1.089427  ,  0.04513456,\n",
       "       -0.8623267 , -0.87494856, -0.26681286, -0.10060922,  1.0917975 ,\n",
       "       -0.682061  , -2.0794647 ,  1.0524249 ,  1.3103032 , -0.0488999 ,\n",
       "        0.28220072, -0.10440145, -0.6327664 ,  0.21860212, -0.6651458 ,\n",
       "        0.10267833, -1.030266  ,  1.172102  , -0.07012459,  0.85664773,\n",
       "        0.07718737, -0.5140412 , -0.340233  ,  1.1397343 ,  2.1688163 ,\n",
       "        1.6801164 , -0.41256994,  0.764268  ,  1.7734082 , -0.10702871,\n",
       "        0.00318456, -0.7419305 ,  0.7481521 , -1.5416222 , -0.6400395 ,\n",
       "        0.8720644 ,  0.36726382,  0.5741162 ,  0.6192402 ,  0.53634685,\n",
       "       -1.4932137 ,  1.8720047 , -0.29536095,  1.1492256 , -1.8724427 ,\n",
       "       -0.67004454,  1.5068835 , -0.8986388 , -1.2814192 ,  1.7992712 ,\n",
       "        1.085196  , -0.88498145,  0.7317133 ,  0.51174945, -1.3841044 ,\n",
       "        1.0352858 , -2.753825  ,  0.31276682,  0.98457664, -0.24713595,\n",
       "       -1.2488681 ,  0.06696247,  0.9404115 ,  1.6305333 ,  0.7103702 ,\n",
       "        0.624662  ,  0.78983814,  1.0067084 ,  0.40217414,  0.85326684,\n",
       "        0.11912925,  0.764127  , -0.03095642,  0.40383095,  1.7089523 ,\n",
       "       -0.9337773 ,  0.5721734 ,  1.3513826 , -0.6991431 , -0.26808682,\n",
       "        0.14360115,  1.163351  , -0.63731956,  0.7604437 ,  0.40449652,\n",
       "        1.4202919 ,  0.6764084 ,  0.09447452,  0.29080757, -1.0721405 ,\n",
       "       -0.758342  ,  0.9824435 , -0.47925195,  0.02549085, -0.2146457 ],\n",
       "      dtype=float32)"
      ]
     },
     "execution_count": 64,
     "metadata": {},
     "output_type": "execute_result"
    }
   ],
   "source": [
    "embeddings[0]      "
   ]
  },
  {
   "cell_type": "markdown",
   "metadata": {
    "id": "HcG7i-R8hbY3"
   },
   "source": [
    "**Задание** Сделайте модель с предобученной матрицей. Используйте `nn.Embedding.from_pretrained`."
   ]
  },
  {
   "cell_type": "code",
   "execution_count": 68,
   "metadata": {
    "executionInfo": {
     "elapsed": 323,
     "status": "ok",
     "timestamp": 1640290865433,
     "user": {
      "displayName": "Олександр Анатоліїович Савченко",
      "photoUrl": "https://lh3.googleusercontent.com/a-/AOh14GjFxEhCEDXBdXMW8HVBZvI3bm-ax-lV7gibeoHr=s64",
      "userId": "06649945919620007057"
     },
     "user_tz": -120
    },
    "id": "HHE-Izpj8ged"
   },
   "outputs": [],
   "source": [
    "class LSTMTaggerWithPretrainedEmbs(nn.Module):\n",
    "    def __init__(self, embeddings, tagset_size, lstm_hidden_dim=128, lstm_layers_count=1):\n",
    "        super().__init__()\n",
    "        self.hidden_dim = lstm_hidden_dim\n",
    "        self.word_embeddings = nn.Embedding.from_pretrained(torch.Tensor(embeddings))\n",
    "        self.lstm = nn.LSTM(embeddings.shape[1], lstm_hidden_dim, lstm_layers_count)\n",
    "        self.hidden2tag = nn.Linear(lstm_hidden_dim, tagset_size)\n",
    "\n",
    "    def forward(self, inputs):\n",
    "        embeds = self.word_embeddings(inputs)\n",
    "        lstm_out, _ = self.lstm(embeds)\n",
    "        tag_space = self.hidden2tag(lstm_out)\n",
    "        return tag_space"
   ]
  },
  {
   "cell_type": "code",
   "execution_count": null,
   "metadata": {
    "id": "VQT8I4UI-cND"
   },
   "outputs": [],
   "source": []
  },
  {
   "cell_type": "code",
   "execution_count": 69,
   "metadata": {
    "colab": {
     "base_uri": "https://localhost:8080/",
     "height": 1000
    },
    "executionInfo": {
     "elapsed": 214754,
     "status": "error",
     "timestamp": 1640291083814,
     "user": {
      "displayName": "Олександр Анатоліїович Савченко",
      "photoUrl": "https://lh3.googleusercontent.com/a-/AOh14GjFxEhCEDXBdXMW8HVBZvI3bm-ax-lV7gibeoHr=s64",
      "userId": "06649945919620007057"
     },
     "user_tz": -120
    },
    "id": "EBtI6BDE-Fc7",
    "outputId": "e4c28946-fb36-4b74-8e20-3caac4555290"
   },
   "outputs": [
    {
     "name": "stderr",
     "output_type": "stream",
     "text": [
      "[1 / 100] Train: Loss = 0.63030, Accuracy = 81.25%: 100%|██████████| 572/572 [00:12<00:00, 46.65it/s]\n",
      "[1 / 100]   Val: Loss = 0.32517, Accuracy = 89.84%: 100%|██████████| 13/13 [00:00<00:00, 32.08it/s]\n",
      "[2 / 100] Train: Loss = 0.24741, Accuracy = 92.38%: 100%|██████████| 572/572 [00:11<00:00, 47.95it/s]\n",
      "[2 / 100]   Val: Loss = 0.22727, Accuracy = 92.81%: 100%|██████████| 13/13 [00:00<00:00, 32.25it/s]\n",
      "[3 / 100] Train: Loss = 0.18104, Accuracy = 94.29%: 100%|██████████| 572/572 [00:11<00:00, 50.38it/s]\n",
      "[3 / 100]   Val: Loss = 0.19009, Accuracy = 94.00%: 100%|██████████| 13/13 [00:00<00:00, 33.17it/s]\n",
      "[4 / 100] Train: Loss = 0.14973, Accuracy = 95.21%: 100%|██████████| 572/572 [00:11<00:00, 50.29it/s]\n",
      "[4 / 100]   Val: Loss = 0.16937, Accuracy = 94.55%: 100%|██████████| 13/13 [00:00<00:00, 33.51it/s]\n",
      "[5 / 100] Train: Loss = 0.13130, Accuracy = 95.76%: 100%|██████████| 572/572 [00:11<00:00, 51.68it/s]\n",
      "[5 / 100]   Val: Loss = 0.15620, Accuracy = 95.02%: 100%|██████████| 13/13 [00:00<00:00, 33.14it/s]\n",
      "[6 / 100] Train: Loss = 0.11829, Accuracy = 96.09%: 100%|██████████| 572/572 [00:10<00:00, 52.88it/s]\n",
      "[6 / 100]   Val: Loss = 0.14971, Accuracy = 95.12%: 100%|██████████| 13/13 [00:00<00:00, 34.68it/s]\n",
      "[7 / 100] Train: Loss = 0.10891, Accuracy = 96.39%: 100%|██████████| 572/572 [00:10<00:00, 53.98it/s]\n",
      "[7 / 100]   Val: Loss = 0.14326, Accuracy = 95.34%: 100%|██████████| 13/13 [00:00<00:00, 35.33it/s]\n",
      "[8 / 100] Train: Loss = 0.10128, Accuracy = 96.61%: 100%|██████████| 572/572 [00:10<00:00, 53.62it/s]\n",
      "[8 / 100]   Val: Loss = 0.14116, Accuracy = 95.45%: 100%|██████████| 13/13 [00:00<00:00, 34.22it/s]\n",
      "[9 / 100] Train: Loss = 0.09466, Accuracy = 96.80%: 100%|██████████| 572/572 [00:11<00:00, 51.85it/s]\n",
      "[9 / 100]   Val: Loss = 0.14019, Accuracy = 95.57%: 100%|██████████| 13/13 [00:00<00:00, 32.73it/s]\n",
      "[10 / 100] Train: Loss = 0.08898, Accuracy = 96.98%: 100%|██████████| 572/572 [00:10<00:00, 52.44it/s]\n",
      "[10 / 100]   Val: Loss = 0.14041, Accuracy = 95.54%: 100%|██████████| 13/13 [00:00<00:00, 33.75it/s]\n",
      "[11 / 100] Train: Loss = 0.08438, Accuracy = 97.12%: 100%|██████████| 572/572 [00:10<00:00, 52.40it/s]\n",
      "[11 / 100]   Val: Loss = 0.14268, Accuracy = 95.57%: 100%|██████████| 13/13 [00:00<00:00, 35.73it/s]\n",
      "[12 / 100] Train: Loss = 0.07966, Accuracy = 97.28%: 100%|██████████| 572/572 [00:10<00:00, 53.99it/s]\n",
      "[12 / 100]   Val: Loss = 0.14177, Accuracy = 95.60%: 100%|██████████| 13/13 [00:00<00:00, 34.75it/s]\n",
      "[13 / 100] Train: Loss = 0.07569, Accuracy = 97.43%: 100%|██████████| 572/572 [00:10<00:00, 56.06it/s]\n",
      "[13 / 100]   Val: Loss = 0.14551, Accuracy = 95.58%: 100%|██████████| 13/13 [00:00<00:00, 34.94it/s]\n",
      "[14 / 100] Train: Loss = 0.07189, Accuracy = 97.54%: 100%|██████████| 572/572 [00:10<00:00, 54.92it/s]\n",
      "[14 / 100]   Val: Loss = 0.14441, Accuracy = 95.64%: 100%|██████████| 13/13 [00:00<00:00, 33.66it/s]\n",
      "[15 / 100] Train: Loss = 0.06874, Accuracy = 97.65%: 100%|██████████| 572/572 [00:11<00:00, 50.99it/s]\n",
      "[15 / 100]   Val: Loss = 0.15041, Accuracy = 95.62%: 100%|██████████| 13/13 [00:00<00:00, 34.42it/s]\n",
      "[16 / 100] Train: Loss = 0.06526, Accuracy = 97.77%: 100%|██████████| 572/572 [00:11<00:00, 50.78it/s]\n",
      "[16 / 100]   Val: Loss = 0.15048, Accuracy = 95.63%: 100%|██████████| 13/13 [00:00<00:00, 31.35it/s]\n",
      "[17 / 100] Train: Loss = 0.06235, Accuracy = 97.87%: 100%|██████████| 572/572 [00:11<00:00, 48.50it/s]\n",
      "[17 / 100]   Val: Loss = 0.15165, Accuracy = 95.62%: 100%|██████████| 13/13 [00:00<00:00, 31.64it/s]\n",
      "[18 / 100] Train: Loss = 0.05972, Accuracy = 97.96%: 100%|██████████| 572/572 [00:11<00:00, 49.23it/s]\n",
      "[18 / 100]   Val: Loss = 0.15566, Accuracy = 95.61%: 100%|██████████| 13/13 [00:00<00:00, 32.69it/s]\n",
      "[19 / 100] Train: Loss = 0.05670, Accuracy = 98.01%:  63%|██████▎   | 362/572 [00:07<00:04, 51.14it/s]\n"
     ]
    },
    {
     "ename": "KeyboardInterrupt",
     "evalue": "ignored",
     "output_type": "error",
     "traceback": [
      "\u001b[0;31m---------------------------------------------------------------------------\u001b[0m",
      "\u001b[0;31mKeyboardInterrupt\u001b[0m                         Traceback (most recent call last)",
      "\u001b[0;32m<ipython-input-69-b3310114d87d>\u001b[0m in \u001b[0;36m<module>\u001b[0;34m()\u001b[0m\n\u001b[1;32m      9\u001b[0m \u001b[0;34m\u001b[0m\u001b[0m\n\u001b[1;32m     10\u001b[0m   fit(model_3, criterion, optimizer, train_data=(X_train, y_train), epochs_count=100,\n\u001b[0;32m---> 11\u001b[0;31m       batch_size=64, val_data=(X_val, y_val), val_batch_size=512)\n\u001b[0m\u001b[1;32m     12\u001b[0m \u001b[0;32melse\u001b[0m\u001b[0;34m:\u001b[0m\u001b[0;34m\u001b[0m\u001b[0;34m\u001b[0m\u001b[0m\n\u001b[1;32m     13\u001b[0m   model_3 = LSTMTaggerWithPretrainedEmbs(\n",
      "\u001b[0;32m<ipython-input-18-c6f8f8f9673b>\u001b[0m in \u001b[0;36mfit\u001b[0;34m(model, criterion, optimizer, train_data, epochs_count, batch_size, val_data, val_batch_size)\u001b[0m\n\u001b[1;32m     60\u001b[0m     \u001b[0;32mfor\u001b[0m \u001b[0mepoch\u001b[0m \u001b[0;32min\u001b[0m \u001b[0mrange\u001b[0m\u001b[0;34m(\u001b[0m\u001b[0mepochs_count\u001b[0m\u001b[0;34m)\u001b[0m\u001b[0;34m:\u001b[0m\u001b[0;34m\u001b[0m\u001b[0;34m\u001b[0m\u001b[0m\n\u001b[1;32m     61\u001b[0m         \u001b[0mname_prefix\u001b[0m \u001b[0;34m=\u001b[0m \u001b[0;34m'[{} / {}] '\u001b[0m\u001b[0;34m.\u001b[0m\u001b[0mformat\u001b[0m\u001b[0;34m(\u001b[0m\u001b[0mepoch\u001b[0m \u001b[0;34m+\u001b[0m \u001b[0;36m1\u001b[0m\u001b[0;34m,\u001b[0m \u001b[0mepochs_count\u001b[0m\u001b[0;34m)\u001b[0m\u001b[0;34m\u001b[0m\u001b[0;34m\u001b[0m\u001b[0m\n\u001b[0;32m---> 62\u001b[0;31m         \u001b[0mtrain_loss\u001b[0m\u001b[0;34m,\u001b[0m \u001b[0mtrain_acc\u001b[0m \u001b[0;34m=\u001b[0m \u001b[0mdo_epoch\u001b[0m\u001b[0;34m(\u001b[0m\u001b[0mmodel\u001b[0m\u001b[0;34m,\u001b[0m \u001b[0mcriterion\u001b[0m\u001b[0;34m,\u001b[0m \u001b[0mtrain_data\u001b[0m\u001b[0;34m,\u001b[0m \u001b[0mbatch_size\u001b[0m\u001b[0;34m,\u001b[0m \u001b[0moptimizer\u001b[0m\u001b[0;34m,\u001b[0m \u001b[0mname_prefix\u001b[0m \u001b[0;34m+\u001b[0m \u001b[0;34m'Train:'\u001b[0m\u001b[0;34m)\u001b[0m\u001b[0;34m\u001b[0m\u001b[0;34m\u001b[0m\u001b[0m\n\u001b[0m\u001b[1;32m     63\u001b[0m \u001b[0;34m\u001b[0m\u001b[0m\n\u001b[1;32m     64\u001b[0m         \u001b[0;32mif\u001b[0m \u001b[0;32mnot\u001b[0m \u001b[0mval_data\u001b[0m \u001b[0;32mis\u001b[0m \u001b[0;32mNone\u001b[0m\u001b[0;34m:\u001b[0m\u001b[0;34m\u001b[0m\u001b[0;34m\u001b[0m\u001b[0m\n",
      "\u001b[0;32m<ipython-input-18-c6f8f8f9673b>\u001b[0m in \u001b[0;36mdo_epoch\u001b[0;34m(model, criterion, data, batch_size, optimizer, name)\u001b[0m\n\u001b[1;32m     35\u001b[0m \u001b[0;34m\u001b[0m\u001b[0m\n\u001b[1;32m     36\u001b[0m                 \u001b[0my_pred\u001b[0m \u001b[0;34m=\u001b[0m \u001b[0mtorch\u001b[0m\u001b[0;34m.\u001b[0m\u001b[0margmax\u001b[0m\u001b[0;34m(\u001b[0m\u001b[0mtag_space\u001b[0m\u001b[0;34m,\u001b[0m \u001b[0;36m2\u001b[0m\u001b[0;34m)\u001b[0m\u001b[0;34m\u001b[0m\u001b[0;34m\u001b[0m\u001b[0m\n\u001b[0;32m---> 37\u001b[0;31m                 \u001b[0mcur_correct_count\u001b[0m\u001b[0;34m,\u001b[0m \u001b[0mcur_sum_count\u001b[0m \u001b[0;34m=\u001b[0m \u001b[0mtorch\u001b[0m\u001b[0;34m.\u001b[0m\u001b[0msum\u001b[0m\u001b[0;34m(\u001b[0m\u001b[0mmask\u001b[0m\u001b[0;34m*\u001b[0m\u001b[0mtorch\u001b[0m\u001b[0;34m.\u001b[0m\u001b[0meq\u001b[0m\u001b[0;34m(\u001b[0m\u001b[0my_batch\u001b[0m\u001b[0;34m,\u001b[0m \u001b[0my_pred\u001b[0m\u001b[0;34m)\u001b[0m\u001b[0;34m)\u001b[0m\u001b[0;34m.\u001b[0m\u001b[0mitem\u001b[0m\u001b[0;34m(\u001b[0m\u001b[0;34m)\u001b[0m\u001b[0;34m,\u001b[0m \u001b[0mtorch\u001b[0m\u001b[0;34m.\u001b[0m\u001b[0msum\u001b[0m\u001b[0;34m(\u001b[0m\u001b[0mmask\u001b[0m\u001b[0;34m)\u001b[0m\u001b[0;34m.\u001b[0m\u001b[0mitem\u001b[0m\u001b[0;34m(\u001b[0m\u001b[0;34m)\u001b[0m\u001b[0;34m\u001b[0m\u001b[0;34m\u001b[0m\u001b[0m\n\u001b[0m\u001b[1;32m     38\u001b[0m \u001b[0;34m\u001b[0m\u001b[0m\n\u001b[1;32m     39\u001b[0m                 \u001b[0mcorrect_count\u001b[0m \u001b[0;34m+=\u001b[0m \u001b[0mcur_correct_count\u001b[0m\u001b[0;34m\u001b[0m\u001b[0;34m\u001b[0m\u001b[0m\n",
      "\u001b[0;31mKeyboardInterrupt\u001b[0m: "
     ]
    }
   ],
   "source": [
    "if torch.cuda.is_available():\n",
    "  model_3 = LSTMTaggerWithPretrainedEmbs(\n",
    "      embeddings=embeddings,\n",
    "      tagset_size=len(tag2ind)\n",
    "  ).cuda()\n",
    "\n",
    "  criterion = nn.CrossEntropyLoss(ignore_index=0)\n",
    "  optimizer = optim.Adam(model_3.parameters())\n",
    "\n",
    "  fit(model_3, criterion, optimizer, train_data=(X_train, y_train), epochs_count=100,\n",
    "      batch_size=64, val_data=(X_val, y_val), val_batch_size=512)\n",
    "else:\n",
    "  model_3 = LSTMTaggerWithPretrainedEmbs(\n",
    "      embeddings=embeddings,\n",
    "      tagset_size=len(tag2ind)\n",
    "  )\n",
    "\n",
    "  criterion = nn.CrossEntropyLoss(ignore_index=0)\n",
    "  optimizer = optim.Adam(model_3.parameters())\n",
    "\n",
    "  fit(model_3, criterion, optimizer, train_data=(X_train, y_train), epochs_count=100,\n",
    "      batch_size=64, val_data=(X_val, y_val), val_batch_size=512)"
   ]
  },
  {
   "cell_type": "markdown",
   "metadata": {
    "id": "2Ne_8f24h8kg"
   },
   "source": [
    "**Задание** Оцените качество модели на тестовой выборке. Обратите внимание, вовсе не обязательно ограничиваться векторами из урезанной матрицы - вполне могут найтись слова в тесте, которых не было в трейне и для которых есть эмбеддинги.\n",
    "\n",
    "Добейтесь качества лучше прошлых моделей."
   ]
  },
  {
   "cell_type": "code",
   "execution_count": null,
   "metadata": {
    "id": "dygjAGYy8Qp0"
   },
   "outputs": [],
   "source": []
  },
  {
   "cell_type": "code",
   "execution_count": null,
   "metadata": {
    "id": "e-jyqKe08SPg"
   },
   "outputs": [],
   "source": []
  },
  {
   "cell_type": "code",
   "execution_count": 70,
   "metadata": {
    "colab": {
     "base_uri": "https://localhost:8080/"
    },
    "executionInfo": {
     "elapsed": 1426,
     "status": "ok",
     "timestamp": 1640291108655,
     "user": {
      "displayName": "Олександр Анатоліїович Савченко",
      "photoUrl": "https://lh3.googleusercontent.com/a-/AOh14GjFxEhCEDXBdXMW8HVBZvI3bm-ax-lV7gibeoHr=s64",
      "userId": "06649945919620007057"
     },
     "user_tz": -120
    },
    "id": "HPUuAPGhEGVR",
    "outputId": "52960f91-e157-40a4-fb51-765c100c0b57"
   },
   "outputs": [
    {
     "name": "stderr",
     "output_type": "stream",
     "text": [
      "      Loss = 0.16293, Accuracy = 95.58%: 100%|██████████| 56/56 [00:01<00:00, 53.15it/s]\n"
     ]
    }
   ],
   "source": [
    "loss_test, accuracy_test = do_epoch(model_3, criterion, data = (X_test, y_test), batch_size = 256, optimizer=None, name=None)"
   ]
  },
  {
   "cell_type": "code",
   "execution_count": null,
   "metadata": {
    "id": "kY-yX8M--RXF"
   },
   "outputs": [],
   "source": []
  },
  {
   "cell_type": "code",
   "execution_count": 76,
   "metadata": {
    "executionInfo": {
     "elapsed": 506,
     "status": "ok",
     "timestamp": 1640292105861,
     "user": {
      "displayName": "Олександр Анатоліїович Савченко",
      "photoUrl": "https://lh3.googleusercontent.com/a-/AOh14GjFxEhCEDXBdXMW8HVBZvI3bm-ax-lV7gibeoHr=s64",
      "userId": "06649945919620007057"
     },
     "user_tz": -120
    },
    "id": "HGg8znLO_KTW"
   },
   "outputs": [],
   "source": [
    "class BidirectionalLSTMTaggerWithPretrainedEmbs(nn.Module):\n",
    "    def __init__(self, embeddings, tagset_size, lstm_hidden_dim=128, lstm_layers_count=1):\n",
    "        super().__init__()\n",
    "        self.hidden_dim = lstm_hidden_dim\n",
    "        self.word_embeddings = nn.Embedding.from_pretrained(torch.Tensor(embeddings))\n",
    "        self.lstm = nn.LSTM(embeddings.shape[1], lstm_hidden_dim, lstm_layers_count, bidirectional=True)\n",
    "        self.hidden2tag = nn.Linear(lstm_hidden_dim * 2, tagset_size)\n",
    "\n",
    "    def forward(self, inputs):\n",
    "        embeds = self.word_embeddings(inputs)\n",
    "        lstm_out, _ = self.lstm(embeds)\n",
    "        tag_space = self.hidden2tag(lstm_out)\n",
    "        return tag_space"
   ]
  },
  {
   "cell_type": "code",
   "execution_count": 78,
   "metadata": {
    "colab": {
     "base_uri": "https://localhost:8080/",
     "height": 883
    },
    "executionInfo": {
     "elapsed": 177204,
     "status": "error",
     "timestamp": 1640292507031,
     "user": {
      "displayName": "Олександр Анатоліїович Савченко",
      "photoUrl": "https://lh3.googleusercontent.com/a-/AOh14GjFxEhCEDXBdXMW8HVBZvI3bm-ax-lV7gibeoHr=s64",
      "userId": "06649945919620007057"
     },
     "user_tz": -120
    },
    "id": "H5Fya_yx_Pte",
    "outputId": "2e9d4385-8a79-48aa-990a-47aa63a79136"
   },
   "outputs": [
    {
     "name": "stderr",
     "output_type": "stream",
     "text": [
      "[1 / 100] Train: Loss = 0.48143, Accuracy = 85.67%: 100%|██████████| 572/572 [00:11<00:00, 49.88it/s]\n",
      "[1 / 100]   Val: Loss = 0.24107, Accuracy = 92.76%: 100%|██████████| 13/13 [00:00<00:00, 31.37it/s]\n",
      "[2 / 100] Train: Loss = 0.17060, Accuracy = 94.93%: 100%|██████████| 572/572 [00:11<00:00, 50.87it/s]\n",
      "[2 / 100]   Val: Loss = 0.16785, Accuracy = 94.86%: 100%|██████████| 13/13 [00:00<00:00, 32.45it/s]\n",
      "[3 / 100] Train: Loss = 0.12019, Accuracy = 96.45%: 100%|██████████| 572/572 [00:11<00:00, 50.31it/s]\n",
      "[3 / 100]   Val: Loss = 0.13495, Accuracy = 95.97%: 100%|██████████| 13/13 [00:00<00:00, 32.45it/s]\n",
      "[4 / 100] Train: Loss = 0.09507, Accuracy = 97.15%: 100%|██████████| 572/572 [00:11<00:00, 50.03it/s]\n",
      "[4 / 100]   Val: Loss = 0.12338, Accuracy = 96.33%: 100%|██████████| 13/13 [00:00<00:00, 32.36it/s]\n",
      "[5 / 100] Train: Loss = 0.07946, Accuracy = 97.62%: 100%|██████████| 572/572 [00:11<00:00, 50.35it/s]\n",
      "[5 / 100]   Val: Loss = 0.11329, Accuracy = 96.65%: 100%|██████████| 13/13 [00:00<00:00, 32.35it/s]\n",
      "[6 / 100] Train: Loss = 0.06791, Accuracy = 97.96%: 100%|██████████| 572/572 [00:11<00:00, 50.72it/s]\n",
      "[6 / 100]   Val: Loss = 0.10934, Accuracy = 96.70%: 100%|██████████| 13/13 [00:00<00:00, 32.11it/s]\n",
      "[7 / 100] Train: Loss = 0.05896, Accuracy = 98.22%: 100%|██████████| 572/572 [00:11<00:00, 50.04it/s]\n",
      "[7 / 100]   Val: Loss = 0.10655, Accuracy = 96.81%: 100%|██████████| 13/13 [00:00<00:00, 30.32it/s]\n",
      "[8 / 100] Train: Loss = 0.05167, Accuracy = 98.44%: 100%|██████████| 572/572 [00:11<00:00, 50.38it/s]\n",
      "[8 / 100]   Val: Loss = 0.10516, Accuracy = 96.81%: 100%|██████████| 13/13 [00:00<00:00, 31.81it/s]\n",
      "[9 / 100] Train: Loss = 0.04535, Accuracy = 98.64%: 100%|██████████| 572/572 [00:11<00:00, 50.03it/s]\n",
      "[9 / 100]   Val: Loss = 0.10692, Accuracy = 96.82%: 100%|██████████| 13/13 [00:00<00:00, 32.10it/s]\n",
      "[10 / 100] Train: Loss = 0.03974, Accuracy = 98.82%: 100%|██████████| 572/572 [00:11<00:00, 50.51it/s]\n",
      "[10 / 100]   Val: Loss = 0.11002, Accuracy = 96.81%: 100%|██████████| 13/13 [00:00<00:00, 31.65it/s]\n",
      "[11 / 100] Train: Loss = 0.03492, Accuracy = 98.97%: 100%|██████████| 572/572 [00:11<00:00, 50.12it/s]\n",
      "[11 / 100]   Val: Loss = 0.10740, Accuracy = 96.81%: 100%|██████████| 13/13 [00:00<00:00, 32.68it/s]\n",
      "[12 / 100] Train: Loss = 0.03048, Accuracy = 99.12%: 100%|██████████| 572/572 [00:11<00:00, 50.50it/s]\n",
      "[12 / 100]   Val: Loss = 0.11172, Accuracy = 96.87%: 100%|██████████| 13/13 [00:00<00:00, 32.78it/s]\n",
      "[13 / 100] Train: Loss = 0.02646, Accuracy = 99.25%: 100%|██████████| 572/572 [00:11<00:00, 50.45it/s]\n",
      "[13 / 100]   Val: Loss = 0.11353, Accuracy = 96.88%: 100%|██████████| 13/13 [00:00<00:00, 30.58it/s]\n",
      "[14 / 100] Train: Loss = 0.02297, Accuracy = 99.37%: 100%|██████████| 572/572 [00:11<00:00, 49.78it/s]\n",
      "[14 / 100]   Val: Loss = 0.11837, Accuracy = 96.81%: 100%|██████████| 13/13 [00:00<00:00, 30.36it/s]\n",
      "[15 / 100] Train: Loss = 0.01694, Accuracy = 99.49%:  97%|█████████▋| 554/572 [00:11<00:00, 49.55it/s]\n"
     ]
    },
    {
     "ename": "KeyboardInterrupt",
     "evalue": "ignored",
     "output_type": "error",
     "traceback": [
      "\u001b[0;31m---------------------------------------------------------------------------\u001b[0m",
      "\u001b[0;31mKeyboardInterrupt\u001b[0m                         Traceback (most recent call last)",
      "\u001b[0;32m<ipython-input-78-4440edea3606>\u001b[0m in \u001b[0;36m<module>\u001b[0;34m()\u001b[0m\n\u001b[1;32m      9\u001b[0m \u001b[0;34m\u001b[0m\u001b[0m\n\u001b[1;32m     10\u001b[0m   fit(model_4, criterion, optimizer, train_data=(X_train, y_train), epochs_count=100,\n\u001b[0;32m---> 11\u001b[0;31m       batch_size=64, val_data=(X_val, y_val), val_batch_size=512)\n\u001b[0m\u001b[1;32m     12\u001b[0m \u001b[0;32melse\u001b[0m\u001b[0;34m:\u001b[0m\u001b[0;34m\u001b[0m\u001b[0;34m\u001b[0m\u001b[0m\n\u001b[1;32m     13\u001b[0m   model_4 = BidirectionalLSTMTaggerWithPretrainedEmbs(\n",
      "\u001b[0;32m<ipython-input-18-c6f8f8f9673b>\u001b[0m in \u001b[0;36mfit\u001b[0;34m(model, criterion, optimizer, train_data, epochs_count, batch_size, val_data, val_batch_size)\u001b[0m\n\u001b[1;32m     60\u001b[0m     \u001b[0;32mfor\u001b[0m \u001b[0mepoch\u001b[0m \u001b[0;32min\u001b[0m \u001b[0mrange\u001b[0m\u001b[0;34m(\u001b[0m\u001b[0mepochs_count\u001b[0m\u001b[0;34m)\u001b[0m\u001b[0;34m:\u001b[0m\u001b[0;34m\u001b[0m\u001b[0;34m\u001b[0m\u001b[0m\n\u001b[1;32m     61\u001b[0m         \u001b[0mname_prefix\u001b[0m \u001b[0;34m=\u001b[0m \u001b[0;34m'[{} / {}] '\u001b[0m\u001b[0;34m.\u001b[0m\u001b[0mformat\u001b[0m\u001b[0;34m(\u001b[0m\u001b[0mepoch\u001b[0m \u001b[0;34m+\u001b[0m \u001b[0;36m1\u001b[0m\u001b[0;34m,\u001b[0m \u001b[0mepochs_count\u001b[0m\u001b[0;34m)\u001b[0m\u001b[0;34m\u001b[0m\u001b[0;34m\u001b[0m\u001b[0m\n\u001b[0;32m---> 62\u001b[0;31m         \u001b[0mtrain_loss\u001b[0m\u001b[0;34m,\u001b[0m \u001b[0mtrain_acc\u001b[0m \u001b[0;34m=\u001b[0m \u001b[0mdo_epoch\u001b[0m\u001b[0;34m(\u001b[0m\u001b[0mmodel\u001b[0m\u001b[0;34m,\u001b[0m \u001b[0mcriterion\u001b[0m\u001b[0;34m,\u001b[0m \u001b[0mtrain_data\u001b[0m\u001b[0;34m,\u001b[0m \u001b[0mbatch_size\u001b[0m\u001b[0;34m,\u001b[0m \u001b[0moptimizer\u001b[0m\u001b[0;34m,\u001b[0m \u001b[0mname_prefix\u001b[0m \u001b[0;34m+\u001b[0m \u001b[0;34m'Train:'\u001b[0m\u001b[0;34m)\u001b[0m\u001b[0;34m\u001b[0m\u001b[0;34m\u001b[0m\u001b[0m\n\u001b[0m\u001b[1;32m     63\u001b[0m \u001b[0;34m\u001b[0m\u001b[0m\n\u001b[1;32m     64\u001b[0m         \u001b[0;32mif\u001b[0m \u001b[0;32mnot\u001b[0m \u001b[0mval_data\u001b[0m \u001b[0;32mis\u001b[0m \u001b[0;32mNone\u001b[0m\u001b[0;34m:\u001b[0m\u001b[0;34m\u001b[0m\u001b[0;34m\u001b[0m\u001b[0m\n",
      "\u001b[0;32m<ipython-input-18-c6f8f8f9673b>\u001b[0m in \u001b[0;36mdo_epoch\u001b[0;34m(model, criterion, data, batch_size, optimizer, name)\u001b[0m\n\u001b[1;32m     35\u001b[0m \u001b[0;34m\u001b[0m\u001b[0m\n\u001b[1;32m     36\u001b[0m                 \u001b[0my_pred\u001b[0m \u001b[0;34m=\u001b[0m \u001b[0mtorch\u001b[0m\u001b[0;34m.\u001b[0m\u001b[0margmax\u001b[0m\u001b[0;34m(\u001b[0m\u001b[0mtag_space\u001b[0m\u001b[0;34m,\u001b[0m \u001b[0;36m2\u001b[0m\u001b[0;34m)\u001b[0m\u001b[0;34m\u001b[0m\u001b[0;34m\u001b[0m\u001b[0m\n\u001b[0;32m---> 37\u001b[0;31m                 \u001b[0mcur_correct_count\u001b[0m\u001b[0;34m,\u001b[0m \u001b[0mcur_sum_count\u001b[0m \u001b[0;34m=\u001b[0m \u001b[0mtorch\u001b[0m\u001b[0;34m.\u001b[0m\u001b[0msum\u001b[0m\u001b[0;34m(\u001b[0m\u001b[0mmask\u001b[0m\u001b[0;34m*\u001b[0m\u001b[0mtorch\u001b[0m\u001b[0;34m.\u001b[0m\u001b[0meq\u001b[0m\u001b[0;34m(\u001b[0m\u001b[0my_batch\u001b[0m\u001b[0;34m,\u001b[0m \u001b[0my_pred\u001b[0m\u001b[0;34m)\u001b[0m\u001b[0;34m)\u001b[0m\u001b[0;34m.\u001b[0m\u001b[0mitem\u001b[0m\u001b[0;34m(\u001b[0m\u001b[0;34m)\u001b[0m\u001b[0;34m,\u001b[0m \u001b[0mtorch\u001b[0m\u001b[0;34m.\u001b[0m\u001b[0msum\u001b[0m\u001b[0;34m(\u001b[0m\u001b[0mmask\u001b[0m\u001b[0;34m)\u001b[0m\u001b[0;34m.\u001b[0m\u001b[0mitem\u001b[0m\u001b[0;34m(\u001b[0m\u001b[0;34m)\u001b[0m\u001b[0;34m\u001b[0m\u001b[0;34m\u001b[0m\u001b[0m\n\u001b[0m\u001b[1;32m     38\u001b[0m \u001b[0;34m\u001b[0m\u001b[0m\n\u001b[1;32m     39\u001b[0m                 \u001b[0mcorrect_count\u001b[0m \u001b[0;34m+=\u001b[0m \u001b[0mcur_correct_count\u001b[0m\u001b[0;34m\u001b[0m\u001b[0;34m\u001b[0m\u001b[0m\n",
      "\u001b[0;31mKeyboardInterrupt\u001b[0m: "
     ]
    }
   ],
   "source": [
    "if torch.cuda.is_available():\n",
    "  model_4 = BidirectionalLSTMTaggerWithPretrainedEmbs(\n",
    "      embeddings=embeddings,\n",
    "      tagset_size=len(tag2ind)\n",
    "  ).cuda()\n",
    "\n",
    "  criterion = nn.CrossEntropyLoss(ignore_index=0)\n",
    "  optimizer = optim.Adam(model_4.parameters())\n",
    "\n",
    "  fit(model_4, criterion, optimizer, train_data=(X_train, y_train), epochs_count=100,\n",
    "      batch_size=64, val_data=(X_val, y_val), val_batch_size=512)\n",
    "else:\n",
    "  model_4 = BidirectionalLSTMTaggerWithPretrainedEmbs(\n",
    "      embeddings=embeddings,\n",
    "      tagset_size=len(tag2ind)\n",
    "  )\n",
    "  criterion = nn.CrossEntropyLoss(ignore_index=0)\n",
    "  optimizer = optim.Adam(model_4.parameters())\n",
    "\n",
    "  fit(model_4, criterion, optimizer, train_data=(X_train, y_train), epochs_count=11,\n",
    "      batch_size=64, val_data=(X_val, y_val), val_batch_size=512)"
   ]
  },
  {
   "cell_type": "code",
   "execution_count": 79,
   "metadata": {
    "colab": {
     "base_uri": "https://localhost:8080/"
    },
    "executionInfo": {
     "elapsed": 1689,
     "status": "ok",
     "timestamp": 1640292520974,
     "user": {
      "displayName": "Олександр Анатоліїович Савченко",
      "photoUrl": "https://lh3.googleusercontent.com/a-/AOh14GjFxEhCEDXBdXMW8HVBZvI3bm-ax-lV7gibeoHr=s64",
      "userId": "06649945919620007057"
     },
     "user_tz": -120
    },
    "id": "THhbNWGrAFZ-",
    "outputId": "78c99171-77b0-4825-b7f3-37a254cbd341"
   },
   "outputs": [
    {
     "name": "stderr",
     "output_type": "stream",
     "text": [
      "      Loss = 0.11790, Accuracy = 96.89%: 100%|██████████| 56/56 [00:01<00:00, 44.92it/s]\n"
     ]
    }
   ],
   "source": [
    "loss_test, accuracy_test = do_epoch(model_4, criterion, data = (X_test, y_test), batch_size = 256, optimizer=None, name=None)"
   ]
  }
 ],
 "metadata": {
  "accelerator": "GPU",
  "colab": {
   "collapsed_sections": [],
   "name": "RNNs.ipynb",
   "provenance": []
  },
  "kernelspec": {
   "display_name": "Python 3",
   "language": "python",
   "name": "python3"
  },
  "language_info": {
   "codemirror_mode": {
    "name": "ipython",
    "version": 3
   },
   "file_extension": ".py",
   "mimetype": "text/x-python",
   "name": "python",
   "nbconvert_exporter": "python",
   "pygments_lexer": "ipython3",
   "version": "3.8.8"
  }
 },
 "nbformat": 4,
 "nbformat_minor": 1
}
