{
 "cells": [
  {
   "cell_type": "markdown",
   "metadata": {},
   "source": [
    "# Задание 2.2 - Введение в PyTorch\n",
    "\n",
    "Для этого задания потребуется установить версию PyTorch 1.0\n",
    "\n",
    "https://pytorch.org/get-started/locally/\n",
    "\n",
    "В этом задании мы познакомимся с основными компонентами PyTorch и натренируем несколько небольших моделей.<br>\n",
    "GPU нам пока не понадобится.\n",
    "\n",
    "Основные ссылки:  \n",
    "https://pytorch.org/tutorials/beginner/deep_learning_60min_blitz.html  \n",
    "https://pytorch.org/docs/stable/nn.html  \n",
    "https://pytorch.org/docs/stable/torchvision/index.html  "
   ]
  },
  {
   "cell_type": "code",
   "execution_count": 1,
   "metadata": {
    "scrolled": true
   },
   "outputs": [],
   "source": [
    "import torch\n",
    "import torch.nn as nn\n",
    "import torch.optim as optim\n",
    "import torchvision.datasets as dset\n",
    "from torch.utils.data.sampler import SubsetRandomSampler, Sampler\n",
    "from torch.optim import lr_scheduler\n",
    "\n",
    "from torchvision import transforms\n",
    "\n",
    "import matplotlib.pyplot as plt\n",
    "%matplotlib inline\n",
    "\n",
    "import numpy as np"
   ]
  },
  {
   "cell_type": "markdown",
   "metadata": {},
   "source": [
    "## Как всегда, начинаем с загрузки данных\n",
    "\n",
    "PyTorch поддерживает загрузку SVHN из коробки."
   ]
  },
  {
   "cell_type": "code",
   "execution_count": 2,
   "metadata": {
    "scrolled": true
   },
   "outputs": [],
   "source": [
    "# First, lets load the dataset\n",
    "data_train = dset.SVHN(\"D:/DS/DL/dlcourse_ai/assignments/data\", split='train',\n",
    "                       transform=transforms.Compose([\n",
    "                           transforms.ToTensor(),\n",
    "                           transforms.Normalize(mean=[0.43,0.44,0.47],\n",
    "                                               std=[0.20,0.20,0.20])                           \n",
    "                       ])\n",
    "                      )\n",
    "data_test = dset.SVHN(\"D:/DS/DL/dlcourse_ai/assignments/data\", split='test', \n",
    "                      transform=transforms.Compose([\n",
    "                           transforms.ToTensor(),\n",
    "                           transforms.Normalize(mean=[0.43,0.44,0.47],\n",
    "                                               std=[0.20,0.20,0.20])                           \n",
    "                       ]))"
   ]
  },
  {
   "cell_type": "markdown",
   "metadata": {},
   "source": [
    "Теперь мы разделим данные на training и validation с использованием классов `SubsetRandomSampler` и `DataLoader`.\n",
    "\n",
    "`DataLoader` подгружает данные, предоставляемые классом `Dataset`, во время тренировки и группирует их в батчи.\n",
    "Он дает возможность указать `Sampler`, который выбирает, какие примеры из датасета использовать для тренировки. Мы используем это, чтобы разделить данные на training и validation.\n",
    "\n",
    "Подробнее: https://pytorch.org/tutorials/beginner/data_loading_tutorial.html"
   ]
  },
  {
   "cell_type": "code",
   "execution_count": 3,
   "metadata": {
    "scrolled": true
   },
   "outputs": [],
   "source": [
    "batch_size = 64\n",
    "\n",
    "data_size = data_train.data.shape[0]\n",
    "validation_split = .2\n",
    "split = int(np.floor(validation_split * data_size))\n",
    "indices = list(range(data_size))\n",
    "np.random.shuffle(indices)\n",
    "\n",
    "train_indices, val_indices = indices[split:], indices[:split]\n",
    "\n",
    "train_sampler = SubsetRandomSampler(train_indices)\n",
    "val_sampler = SubsetRandomSampler(val_indices)\n",
    "\n",
    "train_loader = torch.utils.data.DataLoader(data_train, batch_size=batch_size, \n",
    "                                           sampler=train_sampler)\n",
    "val_loader = torch.utils.data.DataLoader(data_train, batch_size=batch_size,\n",
    "                                         sampler=val_sampler)"
   ]
  },
  {
   "cell_type": "markdown",
   "metadata": {},
   "source": [
    "В нашей задаче мы получаем на вход изображения, но работаем с ними как с одномерными массивами. Чтобы превратить многомерный массив в одномерный, мы воспользуемся очень простым вспомогательным модулем `Flattener`."
   ]
  },
  {
   "cell_type": "code",
   "execution_count": 4,
   "metadata": {
    "scrolled": true
   },
   "outputs": [
    {
     "name": "stdout",
     "output_type": "stream",
     "text": [
      "SVHN data sample shape:  torch.Size([3, 32, 32])\n"
     ]
    }
   ],
   "source": [
    "sample, label = data_train[0]\n",
    "print(\"SVHN data sample shape: \", sample.shape)\n",
    "# As you can see, the data is shaped like an image\n",
    "\n",
    "# We'll use a special helper module to shape it into a tensor\n",
    "class Flattener(nn.Module):\n",
    "    def forward(self, x):\n",
    "        batch_size, *_ = x.shape\n",
    "        return x.view(batch_size, -1)"
   ]
  },
  {
   "cell_type": "markdown",
   "metadata": {},
   "source": [
    "И наконец, мы создаем основные объекты PyTorch:\n",
    "- `nn_model` - собственно, модель с нейросетью\n",
    "- `loss` - функцию ошибки, в нашем случае `CrossEntropyLoss`\n",
    "- `optimizer` - алгоритм оптимизации, в нашем случае просто `SGD`"
   ]
  },
  {
   "cell_type": "code",
   "execution_count": 6,
   "metadata": {
    "scrolled": true
   },
   "outputs": [],
   "source": [
    "nn_model = nn.Sequential(\n",
    "            Flattener(),\n",
    "            nn.Linear(3*32*32, 100),\n",
    "            nn.ReLU(inplace=True),\n",
    "            nn.Linear(100, 10), \n",
    "         )\n",
    "nn_model.type(torch.FloatTensor)\n",
    "\n",
    "# We will minimize cross-entropy between the ground truth and\n",
    "# network predictions using an SGD optimizer\n",
    "loss = nn.CrossEntropyLoss().type(torch.FloatTensor)\n",
    "optimizer = optim.SGD(nn_model.parameters(), lr=1e-2, weight_decay=1e-1)"
   ]
  },
  {
   "cell_type": "markdown",
   "metadata": {},
   "source": [
    "## Тренируем!\n",
    "\n",
    "Ниже приведена функция `train_model`, реализующая основной цикл тренировки PyTorch.\n",
    "\n",
    "Каждую эпоху эта функция вызывает функцию `compute_accuracy`, которая вычисляет точность на validation, эту последнюю функцию предлагается реализовать вам."
   ]
  },
  {
   "cell_type": "code",
   "execution_count": 7,
   "metadata": {
    "scrolled": true
   },
   "outputs": [],
   "source": [
    "# This is how to implement the same main train loop in PyTorch. Pretty easy, right?\n",
    "\n",
    "def train_model(model, train_loader, val_loader, loss, optimizer, num_epochs):    \n",
    "    loss_history = []\n",
    "    train_history = []\n",
    "    val_history = []\n",
    "    for epoch in range(num_epochs):\n",
    "        model.train() # Enter train mode\n",
    "        \n",
    "        loss_accum = 0\n",
    "        correct_samples = 0\n",
    "        total_samples = 0\n",
    "        for i_step, (x, y) in enumerate(train_loader):\n",
    "            prediction = model(x)    \n",
    "            loss_value = loss(prediction, y)\n",
    "            optimizer.zero_grad()\n",
    "            loss_value.backward()\n",
    "            optimizer.step()\n",
    "            \n",
    "            \n",
    "            _, indices = torch.max(prediction, 1)\n",
    "            correct_samples += torch.sum(indices == y)\n",
    "            total_samples += y.shape[0]\n",
    "            \n",
    "            loss_accum += loss_value\n",
    "\n",
    "        ave_loss = loss_accum / (i_step + 1)\n",
    "        train_accuracy = float(correct_samples) / total_samples\n",
    "        val_accuracy = compute_accuracy(model, val_loader)\n",
    "        \n",
    "        loss_history.append(float(ave_loss))\n",
    "        train_history.append(train_accuracy)\n",
    "        val_history.append(val_accuracy)\n",
    "        scheduler.step()\n",
    "        print(\"Average loss: %f, Train accuracy: %f, Val accuracy: %f\" % (ave_loss, train_accuracy, val_accuracy))\n",
    "        \n",
    "    return loss_history, train_history, val_history\n",
    "        \n",
    "def compute_accuracy(model, loader):\n",
    "    \"\"\"\n",
    "    Computes accuracy on the dataset wrapped in a loader\n",
    "    \n",
    "    Returns: accuracy as a float value between 0 and 1\n",
    "    \"\"\"\n",
    "    model.eval() # Evaluation mode\n",
    "    # TODO: Implement the inference of the model on all of the batches from loader,\n",
    "    #       and compute the overall accuracy.\n",
    "    # Hint: PyTorch has the argmax function!\n",
    "    correct_samples_ = 0\n",
    "    total_samples_ = 0\n",
    "    for i_step_, (x_, y_) in enumerate(loader):\n",
    "            prediction_ = model(x_)\n",
    "            __, indices_ = torch.max(prediction_, 1)\n",
    "            correct_samples_ += torch.sum(indices_ == y_)\n",
    "            total_samples_ += y_.shape[0]\n",
    "    v_accuracy = float(correct_samples_) / total_samples_\n",
    "    \n",
    "    return v_accuracy\n",
    "\n"
   ]
  },
  {
   "cell_type": "code",
   "execution_count": 8,
   "metadata": {},
   "outputs": [
    {
     "name": "stdout",
     "output_type": "stream",
     "text": [
      "Average loss: 1.814753, Train accuracy: 0.411596, Val accuracy: 0.539008\n",
      "Average loss: 1.458801, Train accuracy: 0.583660, Val accuracy: 0.586445\n",
      "Average loss: 1.381138, Train accuracy: 0.619356, Val accuracy: 0.624326\n"
     ]
    }
   ],
   "source": [
    "loss_history, train_history, val_history = train_model(nn_model, train_loader, val_loader, loss, optimizer, 3)"
   ]
  },
  {
   "cell_type": "markdown",
   "metadata": {},
   "source": [
    "## После основного цикла\n",
    "\n",
    "Посмотрим на другие возможности и оптимизации, которые предоставляет PyTorch.\n",
    "\n",
    "Добавьте еще один скрытый слой размера 100 нейронов к модели"
   ]
  },
  {
   "cell_type": "code",
   "execution_count": 25,
   "metadata": {
    "scrolled": true
   },
   "outputs": [
    {
     "name": "stdout",
     "output_type": "stream",
     "text": [
      "Average loss: 2.173692, Train accuracy: 0.197676, Val accuracy: 0.222715\n",
      "Average loss: 1.999856, Train accuracy: 0.279084, Val accuracy: 0.338953\n",
      "Average loss: 1.791778, Train accuracy: 0.394106, Val accuracy: 0.409324\n",
      "Average loss: 1.702093, Train accuracy: 0.426407, Val accuracy: 0.429868\n",
      "Average loss: 1.679139, Train accuracy: 0.438334, Val accuracy: 0.428298\n"
     ]
    }
   ],
   "source": [
    "# Since it's so easy to add layers, let's add some!\n",
    "\n",
    "# TODO: Implement a model with 2 hidden layers of the size 100\n",
    "nn_model = nn.Sequential(Flattener(),\n",
    "            nn.Linear(3*32*32, 100),\n",
    "            nn.ReLU(inplace=True),\n",
    "            nn.Linear(100, 100),\n",
    "            nn.ReLU(inplace=True),\n",
    "            nn.Linear(100, 10)\n",
    "       )\n",
    "nn_model.type(torch.FloatTensor)\n",
    "\n",
    "optimizer = optim.SGD(nn_model.parameters(), lr=1e-2, weight_decay=1e-1)\n",
    "loss_history, train_history, val_history = train_model(nn_model, train_loader, val_loader, loss, optimizer, 5)"
   ]
  },
  {
   "cell_type": "markdown",
   "metadata": {},
   "source": [
    "Добавьте слой с Batch Normalization"
   ]
  },
  {
   "cell_type": "code",
   "execution_count": 9,
   "metadata": {
    "scrolled": true
   },
   "outputs": [],
   "source": [
    "# We heard batch normalization is powerful, let's use it!\n",
    "# TODO: Add batch normalization after each of the hidden layers of the network, before or after non-linearity\n",
    "# Hint: check out torch.nn.BatchNorm1d\n",
    "\n",
    "nn_model = nn.Sequential(Flattener(),\n",
    "            nn.Linear(3*32*32, 100),\n",
    "                         \n",
    "            nn.ReLU(inplace=True),\n",
    "            nn.BatchNorm1d(100),             \n",
    "            nn.Linear(100, 100),\n",
    "                         \n",
    "            nn.ReLU(inplace=True),\n",
    "            nn.BatchNorm1d(100),             \n",
    "            nn.Linear(100, 10)\n",
    "         )\n",
    "\n",
    "nn_model.type(torch.FloatTensor)\n",
    "\n",
    "\n",
    "optimizer = optim.SGD(nn_model.parameters(), lr=1e-3, weight_decay=1e-1)\n"
   ]
  },
  {
   "cell_type": "code",
   "execution_count": 10,
   "metadata": {},
   "outputs": [
    {
     "name": "stdout",
     "output_type": "stream",
     "text": [
      "Average loss: 1.901538, Train accuracy: 0.395506, Val accuracy: 0.559143\n",
      "Average loss: 1.466070, Train accuracy: 0.602344, Val accuracy: 0.644871\n",
      "Average loss: 1.304849, Train accuracy: 0.656110, Val accuracy: 0.682138\n"
     ]
    }
   ],
   "source": [
    "loss_history, train_history, val_history = train_model(nn_model, train_loader, val_loader, loss, optimizer, 3)"
   ]
  },
  {
   "cell_type": "markdown",
   "metadata": {},
   "source": [
    "Добавьте уменьшение скорости обучения по ходу тренировки."
   ]
  },
  {
   "cell_type": "code",
   "execution_count": 38,
   "metadata": {
    "scrolled": true
   },
   "outputs": [
    {
     "name": "stdout",
     "output_type": "stream",
     "text": [
      "Average loss: 1.917178, Train accuracy: 0.382640, Val accuracy: 0.545901\n",
      "Average loss: 1.505998, Train accuracy: 0.584855, Val accuracy: 0.626169\n",
      "Average loss: 1.332353, Train accuracy: 0.645685, Val accuracy: 0.678862\n",
      "Average loss: 1.229518, Train accuracy: 0.674112, Val accuracy: 0.698997\n",
      "Average loss: 1.167722, Train accuracy: 0.692677, Val accuracy: 0.710873\n"
     ]
    }
   ],
   "source": [
    "# Learning rate annealing\n",
    "# Reduce your learning rate 2x every 2 epochs\n",
    "# Hint: look up learning rate schedulers in PyTorch. You might need to extend train_model function a little bit too!\n",
    "lmbda = lambda epoch: 0.5  \n",
    "scheduler = torch.optim.lr_scheduler.MultiplicativeLR(optimizer, lr_lambda=lmbda)\n",
    "\n",
    "nn_model = nn.Sequential(Flattener(),\n",
    "            nn.Linear(3*32*32, 100),\n",
    "                         \n",
    "            nn.ReLU(inplace=True),\n",
    "            nn.BatchNorm1d(100),             \n",
    "            nn.Linear(100, 100),\n",
    "                         \n",
    "            nn.ReLU(inplace=True),\n",
    "            nn.BatchNorm1d(100),             \n",
    "            nn.Linear(100, 10)\n",
    "         )\n",
    "optimizer = optim.SGD(nn_model.parameters(), lr=1e-3, weight_decay=1e-1)\n",
    "loss_history, train_history, val_history = train_model(nn_model, train_loader, val_loader, loss, optimizer, 5)\n"
   ]
  },
  {
   "cell_type": "markdown",
   "metadata": {},
   "source": [
    "# Визуализируем ошибки модели\n",
    "\n",
    "Попробуем посмотреть, на каких изображениях наша модель ошибается.\n",
    "Для этого мы получим все предсказания модели на validation set и сравним их с истинными метками (ground truth).\n",
    "\n",
    "Первая часть - реализовать код на PyTorch, который вычисляет все предсказания модели на validation set.  \n",
    "Чтобы это сделать мы приводим код `SubsetSampler`, который просто проходит по всем заданным индексам последовательно и составляет из них батчи. \n",
    "\n",
    "Реализуйте функцию `evaluate_model`, которая прогоняет модель через все сэмплы validation set и запоминает предсказания модели и истинные метки."
   ]
  },
  {
   "cell_type": "code",
   "execution_count": 120,
   "metadata": {},
   "outputs": [],
   "source": [
    "class SubsetSampler(Sampler):\n",
    "    r\"\"\"Samples elements with given indices sequentially\n",
    "\n",
    "    Arguments:\n",
    "        indices (ndarray): indices of the samples to take\n",
    "    \"\"\"\n",
    "\n",
    "    def __init__(self, indices):\n",
    "        self.indices = indices\n",
    "\n",
    "    def __iter__(self):\n",
    "        return (self.indices[i] for i in range(len(self.indices)))\n",
    "\n",
    "    def __len__(self):\n",
    "        return len(self.indices)\n",
    "    \n",
    "    \n",
    "def evaluate_model(model, dataset, indices):\n",
    "    \"\"\"\n",
    "    Computes predictions and ground truth labels for the indices of the dataset\n",
    "    \n",
    "    Returns: \n",
    "    predictions: np array of ints - model predictions\n",
    "    grount_truth: np array of ints - actual labels of the dataset\n",
    "    \"\"\"\n",
    "    model.eval() # Evaluation mode\n",
    "    \n",
    "    # TODO: Evaluate model on the list of indices and capture predictions\n",
    "    # and ground truth labels\n",
    "    # Hint: SubsetSampler above could be useful!\n",
    "    val_sampler_ = SubsetSampler(indices)\n",
    "    val_loader_ = torch.utils.data.DataLoader(dataset, batch_size=batch_size,\n",
    "                                         sampler=val_sampler_)\n",
    "    predictions = []\n",
    "    ground_truth = []\n",
    "    for i_step_, (x_, y_) in enumerate(val_loader_):\n",
    "        pred_ = model(x_)\n",
    "        __, indices_ = torch.max(pred_, 1)\n",
    "        prediction = indices_.numpy().flatten().tolist()\n",
    "        ground = y_.numpy().flatten().tolist()\n",
    "        predictions += prediction\n",
    "        ground_truth += ground\n",
    "    \n",
    "    return np.array(predictions),  np.array(ground_truth)\n",
    "\n",
    "# Evaluate model on validation\n",
    "predictions, gt = evaluate_model(nn_model, data_train, val_indices)\n",
    "assert len(predictions) == len(val_indices)\n",
    "assert len(gt) == len(val_indices)\n",
    "assert gt[100] == data_train[val_indices[100]][1]\n",
    "assert np.any(np.not_equal(gt, predictions))"
   ]
  },
  {
   "cell_type": "code",
   "execution_count": null,
   "metadata": {},
   "outputs": [],
   "source": []
  },
  {
   "attachments": {
    "image.png": {
     "image/png": "[encoded data removed]"
    }
   },
   "cell_type": "markdown",
   "metadata": {},
   "source": [
    "## Confusion matrix\n",
    "Первая часть визуализации - вывести confusion matrix (https://en.wikipedia.org/wiki/Confusion_matrix ).\n",
    "\n",
    "Confusion matrix - это матрица, где каждой строке соответствуют классы предсказанный, а столбцу - классы истинных меток (ground truth). Число с координатами `i,j` - это количество сэмплов класса `j`, которые модель считает классом `i`.\n",
    "\n",
    "![image.png](attachment:image.png)\n",
    "\n",
    "Для того, чтобы облегчить вам задачу, ниже реализована функция `visualize_confusion_matrix` которая визуализирует такую матрицу.  \n",
    "Вам осталось реализовать функцию `build_confusion_matrix`, которая ее вычислит.\n",
    "\n",
    "Результатом должна быть матрица 10x10."
   ]
  },
  {
   "cell_type": "code",
   "execution_count": 132,
   "metadata": {},
   "outputs": [
    {
     "data": {
      "image/png": "[encoded data removed]",
      "text/plain": [
       "<Figure size 720x720 with 2 Axes>"
      ]
     },
     "metadata": {
      "needs_background": "light"
     },
     "output_type": "display_data"
    }
   ],
   "source": [
    "def visualize_confusion_matrix(confusion_matrix):\n",
    "    \"\"\"\n",
    "    Visualizes confusion matrix\n",
    "    \n",
    "    confusion_matrix: np array of ints, x axis - predicted class, y axis - actual class\n",
    "                      [i][j] should have the count of samples that were predicted to be class i,\n",
    "                      but have j in the ground truth\n",
    "                     \n",
    "    \"\"\"\n",
    "    # Adapted from \n",
    "    # https://stackoverflow.com/questions/2897826/confusion-matrix-with-number-of-classified-misclassified-instances-on-it-python\n",
    "    assert confusion_matrix.shape[0] == confusion_matrix.shape[1]\n",
    "    size = confusion_matrix.shape[0]\n",
    "    fig = plt.figure(figsize=(10,10))\n",
    "    plt.title(\"Confusion matrix\")\n",
    "    plt.ylabel(\"predicted\")\n",
    "    plt.xlabel(\"ground truth\")\n",
    "    res = plt.imshow(confusion_matrix, cmap='GnBu', interpolation='nearest')\n",
    "    cb = fig.colorbar(res)\n",
    "    plt.xticks(np.arange(size))\n",
    "    plt.yticks(np.arange(size))\n",
    "    for i, row in enumerate(confusion_matrix):\n",
    "        for j, count in enumerate(row):\n",
    "            plt.text(j, i, count, fontsize=14, horizontalalignment='center', verticalalignment='center')\n",
    "    \n",
    "def build_confusion_matrix(predictions, ground_truth):\n",
    "    \"\"\"\n",
    "    Builds confusion matrix from predictions and ground truth\n",
    "\n",
    "    predictions: np array of ints, model predictions for all validation samples\n",
    "    ground_truth: np array of ints, ground truth for all validation samples\n",
    "    \n",
    "    Returns:\n",
    "    np array of ints, (10,10), counts of samples for predicted/ground_truth classes\n",
    "    \"\"\"\n",
    "    \n",
    "    confusion_matrix = np.zeros((10,10), np.int)\n",
    "    \n",
    "    # TODO: Implement filling the prediction matrix\n",
    "    for i in range(10):\n",
    "        for j in range(10):\n",
    "            confusion_matrix[i, j] = sum((predictions==i)&(ground_truth==j))\n",
    "        \n",
    "    \n",
    "    return confusion_matrix\n",
    "\n",
    "confusion_matrix = build_confusion_matrix(predictions, gt)\n",
    "visualize_confusion_matrix(confusion_matrix)"
   ]
  },
  {
   "cell_type": "code",
   "execution_count": null,
   "metadata": {},
   "outputs": [],
   "source": []
  },
  {
   "cell_type": "markdown",
   "metadata": {},
   "source": [
    "Наконец, посмотрим на изображения, соответствующие некоторым элементам этой матрицы.\n",
    "\n",
    "Как и раньше, вам дана функция `visualize_images`, которой нужно воспрользоваться при реализации функции `visualize_predicted_actual`. Эта функция должна вывести несколько примеров, соответствующих заданному элементу матрицы.\n",
    "\n",
    "Визуализируйте наиболее частые ошибки и попробуйте понять, почему модель их совершает."
   ]
  },
  {
   "cell_type": "code",
   "execution_count": 192,
   "metadata": {},
   "outputs": [],
   "source": [
    "data_train_images = dset.SVHN(\"D:/DS/DL/dlcourse_ai/assignments/data\", split='train')\n",
    "\n",
    "def visualize_images(indices, data, title='', max_num=10):\n",
    "    \"\"\"\n",
    "    Visualizes several images from the dataset\n",
    " \n",
    "    indices: array of indices to visualize\n",
    "    data: torch Dataset with the images\n",
    "    title: string, title of the plot\n",
    "    max_num: int, max number of images to display\n",
    "    \"\"\"\n",
    "    to_show = min(len(indices), max_num)\n",
    "    fig = plt.figure(figsize=(10,1.5))\n",
    "    fig.suptitle(title)\n",
    "    for i, index in enumerate(indices[:to_show]):\n",
    "        plt.subplot(1,to_show, i+1)\n",
    "        plt.axis('off')\n",
    "        sample = data[index][0]\n",
    "        plt.imshow(np.asarray(sample)) \n",
    "        \n",
    "def visualize_predicted_actual(predicted_class, gt_class, predictions, groud_truth, val_indices, data):\n",
    "    \"\"\"\n",
    "    Visualizes images of a ground truth class which were predicted as the other class \n",
    "    \n",
    "    predicted: int 0-9, index of the predicted class\n",
    "    gt_class: int 0-9, index of the ground truth class\n",
    "    predictions: np array of ints, model predictions for all validation samples\n",
    "    ground_truth: np array of ints, ground truth for all validation samples\n",
    "    val_indices: np array of ints, indices of validation samples\n",
    "    \"\"\"\n",
    "    # TODO: Implement visualization using visualize_images above\n",
    "    # predictions and ground_truth are provided for validation set only, defined by val_indices\n",
    "    # Hint: numpy index arrays might be helpful\n",
    "    # https://docs.scipy.org/doc/numpy/user/basics.indexing.html#index-arrays\n",
    "    # Please make the title meaningful!\n",
    "    \n",
    "    indices = np.array(val_indices)[(predictions==predicted_class)&(gt==gt_class)]\n",
    "    visualize_images(indices, data, title='Картинки класса %i, определенные как класс %i' % (gt_class, predicted_class), max_num=10)    \n",
    "    "
   ]
  },
  {
   "cell_type": "code",
   "execution_count": 197,
   "metadata": {},
   "outputs": [
    {
     "data": {
      "image/png": "[encoded data removed]",
      "text/plain": [
       "<Figure size 720x108 with 10 Axes>"
      ]
     },
     "metadata": {
      "needs_background": "light"
     },
     "output_type": "display_data"
    }
   ],
   "source": [
    "visualize_predicted_actual(3, 0, predictions, gt, val_indices, data_train_images)"
   ]
  },
  {
   "cell_type": "markdown",
   "metadata": {},
   "source": [
    "# Переходим к свободным упражнениям!\n",
    "\n",
    "Натренируйте модель как можно лучше - экспериментируйте сами!\n",
    "Что следует обязательно попробовать:\n",
    "- перебор гиперпараметров с помощью валидационной выборки\n",
    "- другие оптимизаторы вместо SGD\n",
    "- изменение количества слоев и их размеров\n",
    "- наличие Batch Normalization\n",
    "\n",
    "Но ограничиваться этим не стоит!\n",
    "\n",
    "Точность на тестовой выборке должна быть доведена до **80%**"
   ]
  },
  {
   "cell_type": "code",
   "execution_count": null,
   "metadata": {
    "scrolled": true
   },
   "outputs": [],
   "source": [
    "# Experiment here!\n",
    "\n",
    "loss_history = [] # здесь история по гиперпараметрам, а не по эпохам !!! \n",
    "train_history = [] # здесь история по гиперпараметрам, а не по эпохам !!!\n",
    "val_history = [] # здесь история по гиперпараметрам, а не по эпохам !!!\n",
    "reg_strength_history = []\n",
    "learning_rate_history = []\n",
    "\n",
    "nmb_experiments = 10 # maxim>=100\n",
    "for count in range(nmb_experiments):\n",
    "    print('Count #: %f'% (count+1))\n",
    "    reg_strength = 10**np.random.uniform(-6,0) \n",
    "    learning_rate = 10**np.random.uniform(-6,0)\n",
    "    print('reg_strength: %f'% (reg_strength))\n",
    "    print('learning_rate: %f'% (learning_rate))\n",
    "        \n",
    "    nn_model = nn.Sequential(Flattener(),\n",
    "            nn.Linear(3*32*32, 100),\n",
    "            nn.ReLU(inplace=True),\n",
    "            nn.BatchNorm1d(100),             \n",
    "            nn.Linear(100, 100),\n",
    "            nn.ReLU(inplace=True),\n",
    "            nn.BatchNorm1d(100),             \n",
    "            nn.Linear(100, 10)\n",
    "             )\n",
    "    nn_model.type(torch.FloatTensor)\n",
    "    optimizer = optim.SGD(nn_model.parameters(), lr=learning_rate, weight_decay=reg_strength)\n",
    "    loss_, train_, val_ = train_model(nn_model, train_loader, val_loader, loss, optimizer, 5)\n",
    "    loss_history.append(loss_[-1])\n",
    "    train_history.append(train_[-1])\n",
    "    val_history.append(val_[-1])\n",
    "    reg_strength_history.append(reg_strength)\n",
    "    learning_rate_history.append(learning_rate)\n",
    "\n",
    "print('best validation accuracy achieved: %f at reg_strength %f and learning_rate  %f' % (np.max(val_history), reg_strength_history[np.argmax(val_history)], learning_rate_history[np.argmax(val_history)])   )\n",
    "\n",
    "\n",
    "\n"
   ]
  },
  {
   "cell_type": "code",
   "execution_count": 24,
   "metadata": {},
   "outputs": [
    {
     "name": "stdout",
     "output_type": "stream",
     "text": [
      "reg_strength: 0.002160\n",
      "learning_rate: 0.028000\n",
      "Average loss: 1.346524, Train accuracy: 0.566921, Val accuracy: 0.672377\n",
      "Average loss: 0.957139, Train accuracy: 0.700321, Val accuracy: 0.725206\n",
      "Average loss: 0.833901, Train accuracy: 0.739088, Val accuracy: 0.762201\n",
      "Average loss: 0.760382, Train accuracy: 0.762192, Val accuracy: 0.770869\n",
      "Average loss: 0.712388, Train accuracy: 0.778129, Val accuracy: 0.782745\n",
      "reg_strength: 0.002160\n",
      "learning_rate: 0.040000\n",
      "Average loss: 1.329683, Train accuracy: 0.572621, Val accuracy: 0.691762\n",
      "Average loss: 0.955070, Train accuracy: 0.699382, Val accuracy: 0.723841\n",
      "Average loss: 0.834643, Train accuracy: 0.740436, Val accuracy: 0.757354\n",
      "Average loss: 0.765810, Train accuracy: 0.762243, Val accuracy: 0.753327\n",
      "Average loss: 0.722601, Train accuracy: 0.775944, Val accuracy: 0.789639\n",
      "reg_strength: 0.002160\n",
      "learning_rate: 0.052000\n",
      "Average loss: 1.321224, Train accuracy: 0.571529, Val accuracy: 0.660774\n",
      "Average loss: 0.956670, Train accuracy: 0.701839, Val accuracy: 0.723159\n",
      "Average loss: 0.840754, Train accuracy: 0.736563, Val accuracy: 0.757969\n",
      "Average loss: 0.771281, Train accuracy: 0.760929, Val accuracy: 0.765272\n",
      "Average loss: 0.727940, Train accuracy: 0.773470, Val accuracy: 0.770869\n",
      "reg_strength: 0.002430\n",
      "learning_rate: 0.028000\n",
      "Average loss: 1.328080, Train accuracy: 0.575248, Val accuracy: 0.625896\n",
      "Average loss: 0.957620, Train accuracy: 0.697949, Val accuracy: 0.733738\n",
      "Average loss: 0.835097, Train accuracy: 0.739566, Val accuracy: 0.740973\n",
      "Average loss: 0.766846, Train accuracy: 0.761236, Val accuracy: 0.745546\n",
      "Average loss: 0.716097, Train accuracy: 0.776490, Val accuracy: 0.765204\n",
      "reg_strength: 0.002430\n",
      "learning_rate: 0.040000\n",
      "Average loss: 1.330465, Train accuracy: 0.569208, Val accuracy: 0.691762\n",
      "Average loss: 0.953835, Train accuracy: 0.702044, Val accuracy: 0.736878\n",
      "Average loss: 0.827670, Train accuracy: 0.741170, Val accuracy: 0.773667\n",
      "Average loss: 0.759393, Train accuracy: 0.763966, Val accuracy: 0.762132\n",
      "Average loss: 0.715606, Train accuracy: 0.779084, Val accuracy: 0.756672\n",
      "reg_strength: 0.002430\n",
      "learning_rate: 0.052000\n",
      "Average loss: 1.325268, Train accuracy: 0.569003, Val accuracy: 0.689919\n",
      "Average loss: 0.952278, Train accuracy: 0.703477, Val accuracy: 0.734694\n",
      "Average loss: 0.842609, Train accuracy: 0.736546, Val accuracy: 0.740700\n",
      "Average loss: 0.770940, Train accuracy: 0.759649, Val accuracy: 0.757081\n",
      "Average loss: 0.731547, Train accuracy: 0.772583, Val accuracy: 0.683571\n",
      "reg_strength: 0.002700\n",
      "learning_rate: 0.028000\n",
      "Average loss: 1.335358, Train accuracy: 0.572552, Val accuracy: 0.681660\n",
      "Average loss: 0.948592, Train accuracy: 0.704894, Val accuracy: 0.715446\n",
      "Average loss: 0.831342, Train accuracy: 0.741648, Val accuracy: 0.757286\n",
      "Average loss: 0.766340, Train accuracy: 0.761475, Val accuracy: 0.764385\n",
      "Average loss: 0.718476, Train accuracy: 0.777412, Val accuracy: 0.784383\n",
      "reg_strength: 0.002700\n",
      "learning_rate: 0.040000\n",
      "Average loss: 1.324566, Train accuracy: 0.573849, Val accuracy: 0.678793\n",
      "Average loss: 0.949071, Train accuracy: 0.704348, Val accuracy: 0.726981\n",
      "Average loss: 0.832932, Train accuracy: 0.740539, Val accuracy: 0.732919\n",
      "Average loss: 0.764315, Train accuracy: 0.763198, Val accuracy: 0.778855\n",
      "Average loss: 0.721313, Train accuracy: 0.777122, Val accuracy: 0.784110\n",
      "reg_strength: 0.002700\n",
      "learning_rate: 0.052000\n",
      "Average loss: 1.321636, Train accuracy: 0.570129, Val accuracy: 0.637021\n",
      "Average loss: 0.957793, Train accuracy: 0.698597, Val accuracy: 0.689919\n",
      "Average loss: 0.849113, Train accuracy: 0.733662, Val accuracy: 0.763088\n",
      "Average loss: 0.781994, Train accuracy: 0.755196, Val accuracy: 0.759539\n",
      "Average loss: 0.738690, Train accuracy: 0.769887, Val accuracy: 0.747526\n",
      "reg_strength: 0.002970\n",
      "learning_rate: 0.028000\n",
      "Average loss: 1.357638, Train accuracy: 0.564737, Val accuracy: 0.675722\n",
      "Average loss: 0.968078, Train accuracy: 0.697983, Val accuracy: 0.705413\n",
      "Average loss: 0.850612, Train accuracy: 0.736477, Val accuracy: 0.737424\n",
      "Average loss: 0.780147, Train accuracy: 0.755588, Val accuracy: 0.742680\n",
      "Average loss: 0.734270, Train accuracy: 0.772958, Val accuracy: 0.777763\n",
      "reg_strength: 0.002970\n",
      "learning_rate: 0.040000\n",
      "Average loss: 1.340619, Train accuracy: 0.568952, Val accuracy: 0.681728\n",
      "Average loss: 0.950111, Train accuracy: 0.703768, Val accuracy: 0.686711\n",
      "Average loss: 0.839480, Train accuracy: 0.738286, Val accuracy: 0.763361\n",
      "Average loss: 0.772286, Train accuracy: 0.759120, Val accuracy: 0.769094\n",
      "Average loss: 0.725761, Train accuracy: 0.774750, Val accuracy: 0.687598\n",
      "reg_strength: 0.002970\n",
      "learning_rate: 0.052000\n",
      "Average loss: 1.314551, Train accuracy: 0.574378, Val accuracy: 0.693195\n",
      "Average loss: 0.954323, Train accuracy: 0.701618, Val accuracy: 0.702751\n",
      "Average loss: 0.840954, Train accuracy: 0.739191, Val accuracy: 0.744113\n",
      "Average loss: 0.783052, Train accuracy: 0.755588, Val accuracy: 0.759129\n",
      "Average loss: 0.740259, Train accuracy: 0.770757, Val accuracy: 0.777353\n",
      "reg_strength: 0.003240\n",
      "learning_rate: 0.028000\n",
      "Average loss: 1.337969, Train accuracy: 0.568747, Val accuracy: 0.670193\n",
      "Average loss: 0.963949, Train accuracy: 0.698785, Val accuracy: 0.713467\n",
      "Average loss: 0.845899, Train accuracy: 0.738150, Val accuracy: 0.749096\n",
      "Average loss: 0.779684, Train accuracy: 0.759308, Val accuracy: 0.772234\n",
      "Average loss: 0.729429, Train accuracy: 0.772890, Val accuracy: 0.748277\n",
      "reg_strength: 0.003240\n",
      "learning_rate: 0.040000\n",
      "Average loss: 1.344123, Train accuracy: 0.566444, Val accuracy: 0.614429\n",
      "Average loss: 0.964095, Train accuracy: 0.697608, Val accuracy: 0.720770\n",
      "Average loss: 0.848931, Train accuracy: 0.734925, Val accuracy: 0.735786\n",
      "Average loss: 0.783269, Train accuracy: 0.756185, Val accuracy: 0.757627\n",
      "Average loss: 0.744862, Train accuracy: 0.768403, Val accuracy: 0.759334\n",
      "reg_strength: 0.003240\n",
      "learning_rate: 0.052000\n",
      "Average loss: 1.324658, Train accuracy: 0.570385, Val accuracy: 0.663163\n",
      "Average loss: 0.963065, Train accuracy: 0.698836, Val accuracy: 0.716538\n",
      "Average loss: 0.850106, Train accuracy: 0.734891, Val accuracy: 0.770186\n",
      "Average loss: 0.791744, Train accuracy: 0.753114, Val accuracy: 0.742338\n",
      "Average loss: 0.752157, Train accuracy: 0.766184, Val accuracy: 0.772439\n",
      "best validation accuracy achieved: 0.789639 at reg_strength 0.002160 and learning_rate  0.040000\n"
     ]
    }
   ],
   "source": [
    "reg_strength_best = reg_strength_history[np.argmax(val_history)]\n",
    "learning_rate_best = learning_rate_history[np.argmax(val_history)]\n",
    "reg_strength_list =  np.array([0.8, 0.9, 1.0, 1.1, 1.2])*reg_strength_best\n",
    "learning_rate_list = np.array([0.7, 1.0, 1.3])*learning_rate_best\n",
    "\n",
    "loss_history = []\n",
    "train_history = []\n",
    "val_history = []\n",
    "reg_strength_history = []\n",
    "learning_rate_history = []\n",
    "\n",
    "\n",
    "\n",
    "for reg_strength in reg_strength_list:\n",
    "    for learning_rate in learning_rate_list:\n",
    "        print('reg_strength: %f'% (reg_strength))\n",
    "        print('learning_rate: %f'% (learning_rate))\n",
    "        nn_model = nn.Sequential(Flattener(),\n",
    "                nn.Linear(3*32*32, 100),\n",
    "\n",
    "                nn.ReLU(inplace=True),\n",
    "                nn.BatchNorm1d(100),             \n",
    "                nn.Linear(100, 100),\n",
    "\n",
    "                nn.ReLU(inplace=True),\n",
    "                nn.BatchNorm1d(100),             \n",
    "                nn.Linear(100, 10)\n",
    "             )\n",
    "        nn_model.type(torch.FloatTensor)\n",
    "\n",
    "        optimizer = optim.SGD(nn_model.parameters(), lr=learning_rate, weight_decay=reg_strength)\n",
    "        loss_, train_, val_ = train_model(nn_model, train_loader, val_loader, loss, optimizer, 5)\n",
    "\n",
    "        loss_history.append(loss_[-1])\n",
    "        train_history.append(train_[-1])\n",
    "        val_history.append(val_[-1])\n",
    "        reg_strength_history.append(reg_strength)\n",
    "        learning_rate_history.append(learning_rate)\n",
    "\n",
    "\n",
    "\n",
    "print('best validation accuracy achieved: %f at reg_strength %f and learning_rate  %f' % (np.max(val_history), reg_strength_history[np.argmax(val_history)], learning_rate_history[np.argmax(val_history)])   )\n",
    "    \n"
   ]
  },
  {
   "cell_type": "code",
   "execution_count": 30,
   "metadata": {},
   "outputs": [
    {
     "name": "stdout",
     "output_type": "stream",
     "text": [
      "Test accuracy: 0.8044\n"
     ]
    }
   ],
   "source": [
    "# Как всегда, в конце проверяем на test set, здесь до обучения НА ВСЕМ ТРЕЙНЕ:\n",
    "test_loader = torch.utils.data.DataLoader(data_test, batch_size=batch_size)\n",
    "test_accuracy = compute_accuracy(nn_model, test_loader)\n",
    "print(\"Test accuracy: %2.4f\" % test_accuracy) "
   ]
  },
  {
   "cell_type": "code",
   "execution_count": 42,
   "metadata": {},
   "outputs": [
    {
     "name": "stdout",
     "output_type": "stream",
     "text": [
      "Average loss: 1.271677, Train accuracy: 0.591534, Val accuracy: 0.712375\n",
      "Average loss: 0.915587, Train accuracy: 0.715495, Val accuracy: 0.715583\n",
      "Average loss: 0.802779, Train accuracy: 0.751764, Val accuracy: 0.752304\n",
      "Average loss: 0.746330, Train accuracy: 0.767422, Val accuracy: 0.795031\n",
      "Average loss: 0.696914, Train accuracy: 0.784703, Val accuracy: 0.816531\n",
      "Average loss: 0.671075, Train accuracy: 0.791610, Val accuracy: 0.828066\n",
      "Average loss: 0.651507, Train accuracy: 0.797357, Val accuracy: 0.795168\n",
      "Average loss: 0.636960, Train accuracy: 0.802831, Val accuracy: 0.812095\n",
      "Average loss: 0.622873, Train accuracy: 0.806722, Val accuracy: 0.810730\n",
      "Average loss: 0.610466, Train accuracy: 0.809943, Val accuracy: 0.834141\n",
      "Average loss: 0.608419, Train accuracy: 0.810612, Val accuracy: 0.837554\n",
      "Average loss: 0.598122, Train accuracy: 0.815253, Val accuracy: 0.831206\n",
      "Average loss: 0.588462, Train accuracy: 0.817779, Val accuracy: 0.811071\n",
      "Average loss: 0.587409, Train accuracy: 0.818625, Val accuracy: 0.821582\n",
      "Average loss: 0.583395, Train accuracy: 0.819731, Val accuracy: 0.820627\n",
      "Average loss: 0.583160, Train accuracy: 0.818406, Val accuracy: 0.850249\n",
      "Average loss: 0.575674, Train accuracy: 0.821273, Val accuracy: 0.814620\n",
      "Average loss: 0.573743, Train accuracy: 0.822556, Val accuracy: 0.820490\n",
      "Average loss: 0.572039, Train accuracy: 0.821532, Val accuracy: 0.842332\n",
      "Average loss: 0.570860, Train accuracy: 0.823089, Val accuracy: 0.815439\n"
     ]
    }
   ],
   "source": [
    "# получаем веса модели с оптимальными гиперпараметрами НА ВСЕМ ТРЕЙНЕ (Val accuracy здесь не информативна)\n",
    "indices = list(range(data_size))\n",
    "np.random.shuffle(indices)\n",
    "\n",
    "all_train_sampler = SubsetRandomSampler(indices)\n",
    "\n",
    "all_train_loader = torch.utils.data.DataLoader(data_train, batch_size=batch_size, \n",
    "                                           sampler=all_train_sampler)\n",
    "\n",
    "lmbda = coef_lmbda_list[np.argmax(val_history)]\n",
    "scheduler = torch.optim.lr_scheduler.MultiplicativeLR(optimizer, lr_lambda=lmbda)\n",
    "nn_model = nn.Sequential(Flattener(),\n",
    "                    nn.Linear(3*32*32, 100),\n",
    "\n",
    "                    nn.ReLU(inplace=True),\n",
    "                    nn.BatchNorm1d(100),             \n",
    "                    nn.Linear(100, 100),\n",
    "\n",
    "                    nn.ReLU(inplace=True),\n",
    "                    nn.BatchNorm1d(100),             \n",
    "                    nn.Linear(100, 10)\n",
    "                 )\n",
    "nn_model.type(torch.FloatTensor)\n",
    "optimizer = optim.SGD(nn_model.parameters(), lr=learning_rate_best, weight_decay=reg_strength_best)\n",
    "loss_, train_, val_ = train_model(nn_model, all_train_loader, val_loader, loss, optimizer, 20)\n",
    "\n",
    "        "
   ]
  },
  {
   "cell_type": "code",
   "execution_count": 43,
   "metadata": {},
   "outputs": [
    {
     "name": "stdout",
     "output_type": "stream",
     "text": [
      "Test accuracy: 0.7563\n"
     ]
    }
   ],
   "source": [
    "# Как всегда, в конце проверяем на test set. После обучения НА ВСЕМ ТРЕЙНЕ Test accuracy получилась почему то меньше! \n",
    "test_loader = torch.utils.data.DataLoader(data_test, batch_size=batch_size)\n",
    "test_accuracy = compute_accuracy(nn_model, test_loader)\n",
    "print(\"Test accuracy: %2.4f\" % test_accuracy) "
   ]
  },
  {
   "cell_type": "code",
   "execution_count": null,
   "metadata": {},
   "outputs": [],
   "source": []
  }
 ],
 "metadata": {
  "kernelspec": {
   "display_name": "Python 3",
   "language": "python",
   "name": "python3"
  },
  "language_info": {
   "codemirror_mode": {
    "name": "ipython",
    "version": 3
   },
   "file_extension": ".py",
   "mimetype": "text/x-python",
   "name": "python",
   "nbconvert_exporter": "python",
   "pygments_lexer": "ipython3",
   "version": "3.8.8"
  }
 },
 "nbformat": 4,
 "nbformat_minor": 2
}
