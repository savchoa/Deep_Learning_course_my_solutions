{
 "cells": [
  {
   "cell_type": "markdown",
   "metadata": {},
   "source": [
    "# Задание 2.1 - Нейронные сети\n",
    "\n",
    "В этом задании вы реализуете и натренируете настоящую нейроную сеть своими руками!\n",
    "\n",
    "В некотором смысле это будет расширением прошлого задания - нам нужно просто составить несколько линейных классификаторов вместе!\n",
    "\n",
    "<img src=\"https://i.redd.it/n9fgba8b0qr01.png\" alt=\"Stack_more_layers\" width=\"400px\"/>"
   ]
  },
  {
   "cell_type": "code",
   "execution_count": 3,
   "metadata": {},
   "outputs": [
    {
     "name": "stdout",
     "output_type": "stream",
     "text": [
      "The autoreload extension is already loaded. To reload it, use:\n",
      "  %reload_ext autoreload\n"
     ]
    }
   ],
   "source": [
    "import numpy as np\n",
    "import matplotlib.pyplot as plt\n",
    "\n",
    "%matplotlib inline\n",
    "\n",
    "%load_ext autoreload\n",
    "%autoreload 2"
   ]
  },
  {
   "cell_type": "code",
   "execution_count": 4,
   "metadata": {},
   "outputs": [],
   "source": [
    "from dataset import load_svhn, random_split_train_val\n",
    "from gradient_check import check_layer_gradient, check_layer_param_gradient, check_model_gradient\n",
    "from layers import FullyConnectedLayer, ReLULayer\n",
    "from model import TwoLayerNet\n",
    "from trainer import Trainer, Dataset\n",
    "from optim import SGD, MomentumSGD\n",
    "from metrics import multiclass_accuracy"
   ]
  },
  {
   "cell_type": "markdown",
   "metadata": {},
   "source": [
    "# Загружаем данные\n",
    "\n",
    "И разделяем их на training и validation."
   ]
  },
  {
   "cell_type": "code",
   "execution_count": 7,
   "metadata": {},
   "outputs": [],
   "source": [
    "def prepare_for_neural_network(train_X, test_X):\n",
    "    train_flat = train_X.reshape(train_X.shape[0], -1).astype(np.float) / 255.0\n",
    "    test_flat = test_X.reshape(test_X.shape[0], -1).astype(np.float) / 255.0\n",
    "    \n",
    "    # Subtract mean\n",
    "    mean_image = np.mean(train_flat, axis = 0)\n",
    "    train_flat -= mean_image\n",
    "    test_flat -= mean_image\n",
    "    \n",
    "    return train_flat, test_flat\n",
    "    \n",
    "train_X, train_y, test_X, test_y = load_svhn(\"D:/DS/DL/dlcourse_ai/assignments/data\", max_train=10000, max_test=1000)    \n",
    "train_X, test_X = prepare_for_neural_network(train_X, test_X)\n",
    "# Split train into train and val\n",
    "train_X, train_y, val_X, val_y = random_split_train_val(train_X, train_y, num_val = 1000)"
   ]
  },
  {
   "cell_type": "code",
   "execution_count": 8,
   "metadata": {},
   "outputs": [
    {
     "data": {
      "text/plain": [
       "(9000, 3072)"
      ]
     },
     "execution_count": 8,
     "metadata": {},
     "output_type": "execute_result"
    }
   ],
   "source": [
    "train_X.shape"
   ]
  },
  {
   "cell_type": "markdown",
   "metadata": {},
   "source": [
    "# Как всегда, начинаем с кирпичиков\n",
    "\n",
    "Мы будем реализовывать необходимые нам слои по очереди. Каждый слой должен реализовать:\n",
    "- прямой проход (forward pass), который генерирует выход слоя по входу и запоминает необходимые данные\n",
    "- обратный проход (backward pass), который получает градиент по выходу слоя и вычисляет градиент по входу и по параметрам\n",
    "\n",
    "Начнем с ReLU, у которого параметров нет."
   ]
  },
  {
   "cell_type": "code",
   "execution_count": 9,
   "metadata": {
    "scrolled": false
   },
   "outputs": [
    {
     "name": "stdout",
     "output_type": "stream",
     "text": [
      "1.6159940625648515\n",
      "0.0\n",
      "2.7625252407403873\n",
      "0.0\n",
      "-0.506034704450542\n",
      "-0.9430251923348009\n",
      "Gradient check passed!\n"
     ]
    }
   ],
   "source": [
    "# TODO: Implement ReLULayer layer in layers.py\n",
    "# Note: you'll need to copy implementation of the gradient_check function from the previous assignment\n",
    "\n",
    "X = np.array([[1,-2,3],\n",
    "              [-1, 2, 0.1]\n",
    "              ])\n",
    "\n",
    "\n",
    "assert check_layer_gradient(ReLULayer(), X)"
   ]
  },
  {
   "cell_type": "markdown",
   "metadata": {},
   "source": [
    "А теперь реализуем полносвязный слой (fully connected layer), у которого будет два массива параметров: W (weights) и B (bias).\n",
    "\n",
    "Все параметры наши слои будут использовать для параметров специальный класс `Param`, в котором будут храниться значения параметров и градиенты этих параметров, вычисляемые во время обратного прохода.\n",
    "\n",
    "Это даст возможность аккумулировать (суммировать) градиенты из разных частей функции потерь, например, из cross-entropy loss и regularization loss."
   ]
  },
  {
   "cell_type": "code",
   "execution_count": 10,
   "metadata": {},
   "outputs": [
    {
     "name": "stdout",
     "output_type": "stream",
     "text": [
      "0.0004189480948355722\n",
      "0.0017633776701851676\n",
      "-0.000349979410859888\n",
      "7.82747411592205e-05\n",
      "-0.0006122931434440759\n",
      "-0.001099466753707798\n",
      "Gradient check passed!\n",
      "-1.6743069775162696\n",
      "2.1531721106768025\n",
      "-0.1589188520646767\n",
      "-0.5695812911252207\n",
      "3.348573984491773\n",
      "-4.306389440039866\n",
      "0.31789861908715356\n",
      "1.1391638888210915\n",
      "-0.3625945391739007\n",
      "5.458405109969901\n",
      "-3.3777142853522872\n",
      "-0.8933992309364049\n",
      "Gradient check passed!\n",
      "-0.6328440006346351\n",
      "-0.3900283198139675\n",
      "1.7534099466421682\n",
      "0.5108136597020349\n",
      "Gradient check passed!\n"
     ]
    }
   ],
   "source": [
    "# TODO: Implement FullyConnected layer forward and backward methods\n",
    "X = np.array([[1,-2,3],\n",
    "              [-1, 2, 0.1]\n",
    "              ])\n",
    "assert check_layer_gradient(FullyConnectedLayer(3, 4), X)\n",
    "# TODO: Implement storing gradients for W and B\n",
    "assert check_layer_param_gradient(FullyConnectedLayer(3, 4), X, 'W')\n",
    "assert check_layer_param_gradient(FullyConnectedLayer(3, 4), X, 'B')"
   ]
  },
  {
   "cell_type": "markdown",
   "metadata": {},
   "source": [
    "## Создаем нейронную сеть\n",
    "\n",
    "Теперь мы реализуем простейшую нейронную сеть с двумя полносвязным слоями и нелинейностью ReLU. Реализуйте функцию `compute_loss_and_gradients`, она должна запустить прямой и обратный проход через оба слоя для вычисления градиентов.\n",
    "\n",
    "Не забудьте реализовать очистку градиентов в начале функции."
   ]
  },
  {
   "cell_type": "code",
   "execution_count": 101,
   "metadata": {},
   "outputs": [],
   "source": [
    "# TODO: In model.py, implement compute_loss_and_gradients function\n",
    "model = TwoLayerNet(n_input = train_X.shape[1], n_output = 10, hidden_layer_size = 3, reg = 0)\n",
    "loss = model.compute_loss_and_gradients(train_X[:2], train_y[:2])\n",
    "\n",
    "# TODO Now implement backward pass and aggregate all of the params\n",
    "# check_model_gradient(model, train_X[:2], train_y[:2])"
   ]
  },
  {
   "cell_type": "markdown",
   "metadata": {},
   "source": [
    "Теперь добавьте к модели регуляризацию - она должна прибавляться к loss и делать свой вклад в градиенты."
   ]
  },
  {
   "cell_type": "code",
   "execution_count": 39,
   "metadata": {},
   "outputs": [],
   "source": [
    "# TODO Now implement l2 regularization in the forward and backward pass\n",
    "model_with_reg = TwoLayerNet(n_input = train_X.shape[1], n_output = 10, hidden_layer_size = 3, reg = 1e1)\n",
    "loss_with_reg = model_with_reg.compute_loss_and_gradients(train_X[:2], train_y[:2])\n",
    "\n",
    "assert loss_with_reg > loss and not np.isclose(loss_with_reg, loss), \\\n",
    "    \"Loss with regularization (%2.4f) should be higher than without it (%2.4f)!\" % (loss, loss_with_reg)\n",
    "\n",
    "# check_model_gradient(model_with_reg, train_X[:2], train_y[:2])"
   ]
  },
  {
   "cell_type": "code",
   "execution_count": 40,
   "metadata": {},
   "outputs": [
    {
     "data": {
      "text/plain": [
       "2.394657982634321"
      ]
     },
     "execution_count": 40,
     "metadata": {},
     "output_type": "execute_result"
    }
   ],
   "source": [
    "loss_with_reg"
   ]
  },
  {
   "cell_type": "markdown",
   "metadata": {},
   "source": [
    "Также реализуем функцию предсказания (вычисления значения) модели на новых данных.\n",
    "\n",
    "Какое значение точности мы ожидаем увидеть до начала тренировки?"
   ]
  },
  {
   "cell_type": "code",
   "execution_count": 46,
   "metadata": {},
   "outputs": [
    {
     "data": {
      "text/plain": [
       "0.1"
      ]
     },
     "execution_count": 46,
     "metadata": {},
     "output_type": "execute_result"
    }
   ],
   "source": [
    "# Finally, implement predict function!\n",
    "\n",
    "# TODO: Implement predict function\n",
    "# What would be the value we expect?\n",
    "multiclass_accuracy(model_with_reg.predict(train_X[:30]), train_y[:30]) "
   ]
  },
  {
   "cell_type": "markdown",
   "metadata": {},
   "source": [
    "# Допишем код для процесса тренировки\n",
    "\n",
    "Если все реализовано корректно, значение функции ошибки должно уменьшаться с каждой эпохой, пусть и медленно. Не беспокойтесь пока про validation accuracy."
   ]
  },
  {
   "cell_type": "code",
   "execution_count": 122,
   "metadata": {},
   "outputs": [
    {
     "name": "stdout",
     "output_type": "stream",
     "text": [
      "Loss: 4.585669, Train accuracy: 0.231556, val accuracy: 0.256000\n",
      "Loss: 4.548022, Train accuracy: 0.285222, val accuracy: 0.303000\n",
      "Loss: 4.379076, Train accuracy: 0.331667, val accuracy: 0.345000\n",
      "Loss: 4.227915, Train accuracy: 0.377556, val accuracy: 0.384000\n",
      "Loss: 4.185072, Train accuracy: 0.434333, val accuracy: 0.422000\n",
      "Loss: 4.129839, Train accuracy: 0.476111, val accuracy: 0.468000\n",
      "Loss: 3.985788, Train accuracy: 0.500667, val accuracy: 0.487000\n",
      "Loss: 3.838242, Train accuracy: 0.542111, val accuracy: 0.531000\n",
      "Loss: 3.727500, Train accuracy: 0.561000, val accuracy: 0.544000\n",
      "Loss: 3.668556, Train accuracy: 0.591889, val accuracy: 0.576000\n",
      "Loss: 3.640082, Train accuracy: 0.614778, val accuracy: 0.597000\n",
      "Loss: 3.624651, Train accuracy: 0.623000, val accuracy: 0.601000\n",
      "Loss: 3.243839, Train accuracy: 0.635667, val accuracy: 0.622000\n",
      "Loss: 3.263682, Train accuracy: 0.647778, val accuracy: 0.624000\n",
      "Loss: 3.314525, Train accuracy: 0.663000, val accuracy: 0.642000\n",
      "Loss: 3.339706, Train accuracy: 0.668444, val accuracy: 0.652000\n",
      "Loss: 3.219863, Train accuracy: 0.674000, val accuracy: 0.635000\n",
      "Loss: 3.169978, Train accuracy: 0.682556, val accuracy: 0.650000\n",
      "Loss: 3.191770, Train accuracy: 0.688111, val accuracy: 0.660000\n",
      "Loss: 3.123801, Train accuracy: 0.694556, val accuracy: 0.664000\n",
      "Loss: 3.072015, Train accuracy: 0.704333, val accuracy: 0.687000\n",
      "Loss: 2.941665, Train accuracy: 0.707778, val accuracy: 0.680000\n",
      "Loss: 2.986059, Train accuracy: 0.716222, val accuracy: 0.690000\n",
      "Loss: 3.048103, Train accuracy: 0.718333, val accuracy: 0.688000\n",
      "Loss: 2.800645, Train accuracy: 0.724444, val accuracy: 0.703000\n",
      "Loss: 2.878182, Train accuracy: 0.728778, val accuracy: 0.696000\n",
      "Loss: 2.966142, Train accuracy: 0.733889, val accuracy: 0.706000\n",
      "Loss: 2.720146, Train accuracy: 0.738333, val accuracy: 0.703000\n",
      "Loss: 2.756484, Train accuracy: 0.739667, val accuracy: 0.705000\n",
      "Loss: 2.693291, Train accuracy: 0.744000, val accuracy: 0.707000\n",
      "Loss: 2.643541, Train accuracy: 0.749333, val accuracy: 0.708000\n",
      "Loss: 2.482045, Train accuracy: 0.749667, val accuracy: 0.707000\n",
      "Loss: 2.596677, Train accuracy: 0.755444, val accuracy: 0.709000\n",
      "Loss: 2.599107, Train accuracy: 0.762222, val accuracy: 0.716000\n",
      "Loss: 2.449573, Train accuracy: 0.759667, val accuracy: 0.713000\n",
      "Loss: 2.502012, Train accuracy: 0.762778, val accuracy: 0.715000\n",
      "Loss: 2.490025, Train accuracy: 0.769222, val accuracy: 0.723000\n",
      "Loss: 2.384650, Train accuracy: 0.772889, val accuracy: 0.721000\n",
      "Loss: 2.580332, Train accuracy: 0.771556, val accuracy: 0.723000\n",
      "Loss: 2.524264, Train accuracy: 0.774222, val accuracy: 0.720000\n"
     ]
    }
   ],
   "source": [
    "model = TwoLayerNet(n_input = train_X.shape[1], n_output = 10, hidden_layer_size = 100, reg = 0.000807)\n",
    "dataset = Dataset(train_X, train_y, val_X, val_y)\n",
    "trainer = Trainer(model, dataset, SGD(), learning_rate = 0.042)\n",
    "\n",
    "# TODO Implement missing pieces in Trainer.fit function\n",
    "# You should expect loss to go down every epoch, even if it's slow\n",
    "loss_history, train_history, val_history = trainer.fit()"
   ]
  },
  {
   "cell_type": "code",
   "execution_count": 123,
   "metadata": {},
   "outputs": [
    {
     "data": {
      "text/plain": [
       "[<matplotlib.lines.Line2D at 0x33573790>]"
      ]
     },
     "execution_count": 123,
     "metadata": {},
     "output_type": "execute_result"
    },
    {
     "data": {
      "image/png": "[encoded data removed]",
      "text/plain": [
       "<Figure size 432x288 with 1 Axes>"
      ]
     },
     "metadata": {
      "needs_background": "light"
     },
     "output_type": "display_data"
    }
   ],
   "source": [
    "plt.plot(train_history)\n",
    "plt.plot(val_history)"
   ]
  },
  {
   "cell_type": "markdown",
   "metadata": {},
   "source": [
    "# Улучшаем процесс тренировки\n",
    "\n",
    "Мы реализуем несколько ключевых оптимизаций, необходимых для тренировки современных нейросетей."
   ]
  },
  {
   "cell_type": "markdown",
   "metadata": {},
   "source": [
    "## Уменьшение скорости обучения (learning rate decay)\n",
    "\n",
    "Одна из необходимых оптимизаций во время тренировки нейронных сетей - постепенное уменьшение скорости обучения по мере тренировки.\n",
    "\n",
    "Один из стандартных методов - уменьшение скорости обучения (learning rate) каждые N эпох на коэффициент d (часто называемый decay). Значения N и d, как всегда, являются гиперпараметрами и должны подбираться на основе эффективности на проверочных данных (validation data). \n",
    "\n",
    "В нашем случае N будет равным 1."
   ]
  },
  {
   "cell_type": "code",
   "execution_count": 74,
   "metadata": {},
   "outputs": [
    {
     "name": "stdout",
     "output_type": "stream",
     "text": [
      "Loss: 4.256472, Train accuracy: 0.517667, val accuracy: 0.487000\n",
      "Loss: 3.615439, Train accuracy: 0.656667, val accuracy: 0.637000\n",
      "Loss: 3.678177, Train accuracy: 0.671000, val accuracy: 0.640000\n",
      "Loss: 2.423599, Train accuracy: 0.689333, val accuracy: 0.671000\n",
      "Loss: 2.417370, Train accuracy: 0.728889, val accuracy: 0.685000\n",
      "Loss: 2.056477, Train accuracy: 0.684556, val accuracy: 0.637000\n",
      "Loss: 2.256100, Train accuracy: 0.740111, val accuracy: 0.696000\n",
      "Loss: 1.456663, Train accuracy: 0.775333, val accuracy: 0.721000\n",
      "Loss: 1.546658, Train accuracy: 0.761000, val accuracy: 0.709000\n",
      "Loss: 1.439180, Train accuracy: 0.776333, val accuracy: 0.713000\n",
      "Loss: 1.181202, Train accuracy: 0.796556, val accuracy: 0.722000\n",
      "Loss: 1.775260, Train accuracy: 0.815111, val accuracy: 0.735000\n",
      "Loss: 1.274355, Train accuracy: 0.813556, val accuracy: 0.743000\n",
      "Loss: 1.309635, Train accuracy: 0.804556, val accuracy: 0.724000\n",
      "Loss: 1.218307, Train accuracy: 0.806889, val accuracy: 0.714000\n",
      "Loss: 1.347026, Train accuracy: 0.826222, val accuracy: 0.746000\n",
      "Loss: 1.209142, Train accuracy: 0.820111, val accuracy: 0.743000\n",
      "Loss: 1.008379, Train accuracy: 0.818778, val accuracy: 0.721000\n",
      "Loss: 1.304154, Train accuracy: 0.786556, val accuracy: 0.718000\n",
      "Loss: 1.286956, Train accuracy: 0.828000, val accuracy: 0.729000\n"
     ]
    }
   ],
   "source": [
    "# TODO Implement learning rate decay inside Trainer.fit method\n",
    "# Decay should happen once per epoch\n",
    "\n",
    "model = TwoLayerNet(n_input = train_X.shape[1], n_output = 10, hidden_layer_size = 100, reg = 0.001)\n",
    "dataset = Dataset(train_X, train_y, val_X, val_y)\n",
    "trainer = Trainer(model, dataset, SGD(), learning_rate_decay=0.99)\n",
    "\n",
    "initial_learning_rate = trainer.learning_rate\n",
    "loss_history, train_history, val_history = trainer.fit()\n",
    "\n",
    "assert trainer.learning_rate < initial_learning_rate, \"Learning rate should've been reduced\"\n",
    "assert trainer.learning_rate > 0.5*initial_learning_rate, \"Learning rate shouldn'tve been reduced that much!\""
   ]
  },
  {
   "cell_type": "markdown",
   "metadata": {},
   "source": [
    "# Накопление импульса (Momentum SGD)\n",
    "\n",
    "Другой большой класс оптимизаций - использование более эффективных методов градиентного спуска. Мы реализуем один из них - накопление импульса (Momentum SGD).\n",
    "\n",
    "Этот метод хранит скорость движения, использует градиент для ее изменения на каждом шаге, и изменяет веса пропорционально значению скорости.\n",
    "(Физическая аналогия: Вместо скорости градиенты теперь будут задавать ускорение, но будет присутствовать сила трения.)\n",
    "\n",
    "```\n",
    "velocity = momentum * velocity - learning_rate * gradient \n",
    "w = w + velocity\n",
    "```\n",
    "\n",
    "`momentum` здесь коэффициент затухания, который тоже является гиперпараметром (к счастью, для него часто есть хорошее значение по умолчанию, типичный диапазон -- 0.8-0.99).\n",
    "\n",
    "Несколько полезных ссылок, где метод разбирается более подробно:  \n",
    "http://cs231n.github.io/neural-networks-3/#sgd  \n",
    "https://distill.pub/2017/momentum/"
   ]
  },
  {
   "cell_type": "code",
   "execution_count": 81,
   "metadata": {},
   "outputs": [
    {
     "name": "stdout",
     "output_type": "stream",
     "text": [
      "Loss: 4.354969, Train accuracy: 0.508778, val accuracy: 0.520000\n",
      "Loss: 2.875932, Train accuracy: 0.616111, val accuracy: 0.595000\n",
      "Loss: 2.303637, Train accuracy: 0.666333, val accuracy: 0.626000\n",
      "Loss: 1.933942, Train accuracy: 0.687667, val accuracy: 0.639000\n",
      "Loss: 1.643221, Train accuracy: 0.719556, val accuracy: 0.671000\n",
      "Loss: 1.557628, Train accuracy: 0.718333, val accuracy: 0.677000\n",
      "Loss: 1.496490, Train accuracy: 0.655333, val accuracy: 0.593000\n",
      "Loss: 1.278581, Train accuracy: 0.746111, val accuracy: 0.705000\n",
      "Loss: 1.198933, Train accuracy: 0.740444, val accuracy: 0.691000\n",
      "Loss: 1.440872, Train accuracy: 0.734667, val accuracy: 0.674000\n",
      "Loss: 1.250073, Train accuracy: 0.776889, val accuracy: 0.694000\n",
      "Loss: 1.349309, Train accuracy: 0.774000, val accuracy: 0.715000\n",
      "Loss: 1.331557, Train accuracy: 0.747444, val accuracy: 0.681000\n",
      "Loss: 1.201776, Train accuracy: 0.740222, val accuracy: 0.693000\n",
      "Loss: 1.454083, Train accuracy: 0.726333, val accuracy: 0.659000\n",
      "Loss: 1.254404, Train accuracy: 0.738222, val accuracy: 0.669000\n",
      "Loss: 1.038189, Train accuracy: 0.768667, val accuracy: 0.693000\n",
      "Loss: 1.178717, Train accuracy: 0.765667, val accuracy: 0.698000\n",
      "Loss: 1.309111, Train accuracy: 0.793000, val accuracy: 0.707000\n",
      "Loss: 1.258522, Train accuracy: 0.752000, val accuracy: 0.698000\n",
      "Loss: 1.014574, Train accuracy: 0.791222, val accuracy: 0.718000\n",
      "Loss: 1.235831, Train accuracy: 0.793778, val accuracy: 0.735000\n",
      "Loss: 1.091461, Train accuracy: 0.797444, val accuracy: 0.710000\n",
      "Loss: 1.285664, Train accuracy: 0.789111, val accuracy: 0.713000\n",
      "Loss: 1.034321, Train accuracy: 0.768889, val accuracy: 0.688000\n",
      "Loss: 1.116986, Train accuracy: 0.787222, val accuracy: 0.705000\n",
      "Loss: 1.075718, Train accuracy: 0.797778, val accuracy: 0.716000\n",
      "Loss: 1.195921, Train accuracy: 0.790667, val accuracy: 0.714000\n",
      "Loss: 1.027746, Train accuracy: 0.751667, val accuracy: 0.687000\n",
      "Loss: 1.169627, Train accuracy: 0.819111, val accuracy: 0.728000\n",
      "Loss: 1.201453, Train accuracy: 0.771222, val accuracy: 0.665000\n",
      "Loss: 1.200491, Train accuracy: 0.759222, val accuracy: 0.659000\n",
      "Loss: 1.010734, Train accuracy: 0.798000, val accuracy: 0.724000\n",
      "Loss: 0.951729, Train accuracy: 0.800778, val accuracy: 0.697000\n",
      "Loss: 1.132547, Train accuracy: 0.822333, val accuracy: 0.734000\n",
      "Loss: 1.018525, Train accuracy: 0.787667, val accuracy: 0.700000\n",
      "Loss: 1.058744, Train accuracy: 0.809889, val accuracy: 0.728000\n",
      "Loss: 1.088701, Train accuracy: 0.826667, val accuracy: 0.722000\n",
      "Loss: 0.945499, Train accuracy: 0.837222, val accuracy: 0.721000\n",
      "Loss: 0.855351, Train accuracy: 0.788778, val accuracy: 0.697000\n"
     ]
    }
   ],
   "source": [
    "# TODO: Implement MomentumSGD.update function in optim.py\n",
    "\n",
    "model = TwoLayerNet(n_input = train_X.shape[1], n_output = 10, hidden_layer_size = 100, reg = 0.000807)\n",
    "dataset = Dataset(train_X, train_y, val_X, val_y)\n",
    "trainer = Trainer(model, dataset, MomentumSGD(), learning_rate=0.1, learning_rate_decay=0.99)\n",
    "\n",
    "# You should see even better results than before!\n",
    "loss_history, train_history, val_history = trainer.fit()"
   ]
  },
  {
   "cell_type": "markdown",
   "metadata": {},
   "source": [
    "# Ну что, давайте уже тренировать сеть!"
   ]
  },
  {
   "cell_type": "markdown",
   "metadata": {},
   "source": [
    "## Последний тест - переобучимся (overfit) на маленьком наборе данных\n",
    "\n",
    "Хороший способ проверить, все ли реализовано корректно - переобучить сеть на маленьком наборе данных.  \n",
    "Наша модель обладает достаточной мощностью, чтобы приблизить маленький набор данных идеально, поэтому мы ожидаем, что на нем мы быстро дойдем до 100% точности на тренировочном наборе. \n",
    "\n",
    "Если этого не происходит, то где-то была допущена ошибка!"
   ]
  },
  {
   "cell_type": "code",
   "execution_count": 106,
   "metadata": {},
   "outputs": [
    {
     "name": "stdout",
     "output_type": "stream",
     "text": [
      "Loss: 286.753420, Train accuracy: 0.800000, val accuracy: 0.066667\n",
      "Loss: 253.678574, Train accuracy: 0.533333, val accuracy: 0.133333\n",
      "Loss: 224.642433, Train accuracy: 0.866667, val accuracy: 0.000000\n",
      "Loss: 198.906486, Train accuracy: 1.000000, val accuracy: 0.066667\n",
      "Loss: 176.514140, Train accuracy: 1.000000, val accuracy: 0.066667\n",
      "Loss: 156.348954, Train accuracy: 1.000000, val accuracy: 0.066667\n",
      "Loss: 138.405786, Train accuracy: 1.000000, val accuracy: 0.000000\n",
      "Loss: 122.970461, Train accuracy: 1.000000, val accuracy: 0.000000\n",
      "Loss: 109.167632, Train accuracy: 1.000000, val accuracy: 0.066667\n",
      "Loss: 96.866246, Train accuracy: 1.000000, val accuracy: 0.066667\n",
      "Loss: 85.808988, Train accuracy: 1.000000, val accuracy: 0.000000\n",
      "Loss: 76.023805, Train accuracy: 1.000000, val accuracy: 0.066667\n",
      "Loss: 67.781010, Train accuracy: 1.000000, val accuracy: 0.000000\n",
      "Loss: 60.040251, Train accuracy: 1.000000, val accuracy: 0.066667\n",
      "Loss: 53.234036, Train accuracy: 1.000000, val accuracy: 0.000000\n",
      "Loss: 47.337403, Train accuracy: 1.000000, val accuracy: 0.066667\n",
      "Loss: 42.242180, Train accuracy: 1.000000, val accuracy: 0.066667\n",
      "Loss: 37.430665, Train accuracy: 1.000000, val accuracy: 0.000000\n",
      "Loss: 33.436218, Train accuracy: 1.000000, val accuracy: 0.066667\n",
      "Loss: 29.710341, Train accuracy: 1.000000, val accuracy: 0.000000\n",
      "Loss: 26.379785, Train accuracy: 1.000000, val accuracy: 0.000000\n",
      "Loss: 23.552381, Train accuracy: 1.000000, val accuracy: 0.000000\n",
      "Loss: 20.947379, Train accuracy: 1.000000, val accuracy: 0.000000\n",
      "Loss: 18.792390, Train accuracy: 1.000000, val accuracy: 0.000000\n",
      "Loss: 16.811274, Train accuracy: 1.000000, val accuracy: 0.000000\n",
      "Loss: 15.042458, Train accuracy: 1.000000, val accuracy: 0.000000\n",
      "Loss: 13.439468, Train accuracy: 1.000000, val accuracy: 0.000000\n",
      "Loss: 12.132912, Train accuracy: 1.000000, val accuracy: 0.000000\n",
      "Loss: 10.880571, Train accuracy: 1.000000, val accuracy: 0.000000\n",
      "Loss: 9.578373, Train accuracy: 1.000000, val accuracy: 0.000000\n",
      "Loss: 8.596949, Train accuracy: 1.000000, val accuracy: 0.000000\n",
      "Loss: 8.048852, Train accuracy: 1.000000, val accuracy: 0.000000\n",
      "Loss: 7.162136, Train accuracy: 1.000000, val accuracy: 0.000000\n",
      "Loss: 6.443094, Train accuracy: 1.000000, val accuracy: 0.000000\n",
      "Loss: 5.901765, Train accuracy: 1.000000, val accuracy: 0.000000\n",
      "Loss: 5.211349, Train accuracy: 1.000000, val accuracy: 0.000000\n",
      "Loss: 4.921811, Train accuracy: 1.000000, val accuracy: 0.000000\n",
      "Loss: 4.647733, Train accuracy: 1.000000, val accuracy: 0.000000\n",
      "Loss: 4.033699, Train accuracy: 1.000000, val accuracy: 0.000000\n",
      "Loss: 3.793509, Train accuracy: 1.000000, val accuracy: 0.000000\n",
      "Loss: 3.488642, Train accuracy: 1.000000, val accuracy: 0.000000\n",
      "Loss: 3.255698, Train accuracy: 1.000000, val accuracy: 0.000000\n",
      "Loss: 3.030207, Train accuracy: 1.000000, val accuracy: 0.000000\n",
      "Loss: 2.865718, Train accuracy: 1.000000, val accuracy: 0.000000\n",
      "Loss: 2.664526, Train accuracy: 1.000000, val accuracy: 0.000000\n",
      "Loss: 2.423016, Train accuracy: 1.000000, val accuracy: 0.000000\n",
      "Loss: 2.400092, Train accuracy: 1.000000, val accuracy: 0.000000\n",
      "Loss: 2.119179, Train accuracy: 1.000000, val accuracy: 0.000000\n",
      "Loss: 2.067068, Train accuracy: 1.000000, val accuracy: 0.000000\n",
      "Loss: 1.966460, Train accuracy: 1.000000, val accuracy: 0.000000\n",
      "Loss: 1.804051, Train accuracy: 1.000000, val accuracy: 0.000000\n",
      "Loss: 1.915339, Train accuracy: 1.000000, val accuracy: 0.066667\n",
      "Loss: 1.673367, Train accuracy: 1.000000, val accuracy: 0.000000\n",
      "Loss: 1.733825, Train accuracy: 1.000000, val accuracy: 0.000000\n",
      "Loss: 1.805532, Train accuracy: 1.000000, val accuracy: 0.000000\n",
      "Loss: 1.728111, Train accuracy: 1.000000, val accuracy: 0.000000\n",
      "Loss: 1.564382, Train accuracy: 1.000000, val accuracy: 0.000000\n",
      "Loss: 1.618780, Train accuracy: 1.000000, val accuracy: 0.066667\n",
      "Loss: 1.683359, Train accuracy: 1.000000, val accuracy: 0.000000\n",
      "Loss: 1.441073, Train accuracy: 1.000000, val accuracy: 0.066667\n",
      "Loss: 1.237512, Train accuracy: 1.000000, val accuracy: 0.000000\n",
      "Loss: 1.345613, Train accuracy: 1.000000, val accuracy: 0.000000\n",
      "Loss: 1.417158, Train accuracy: 1.000000, val accuracy: 0.066667\n",
      "Loss: 1.333635, Train accuracy: 1.000000, val accuracy: 0.000000\n",
      "Loss: 1.446430, Train accuracy: 1.000000, val accuracy: 0.000000\n",
      "Loss: 1.262644, Train accuracy: 1.000000, val accuracy: 0.000000\n",
      "Loss: 1.255579, Train accuracy: 1.000000, val accuracy: 0.000000\n",
      "Loss: 1.353915, Train accuracy: 1.000000, val accuracy: 0.000000\n",
      "Loss: 1.164117, Train accuracy: 1.000000, val accuracy: 0.000000\n",
      "Loss: 1.346867, Train accuracy: 1.000000, val accuracy: 0.000000\n",
      "Loss: 1.413148, Train accuracy: 1.000000, val accuracy: 0.066667\n",
      "Loss: 1.263705, Train accuracy: 1.000000, val accuracy: 0.000000\n",
      "Loss: 1.288262, Train accuracy: 1.000000, val accuracy: 0.000000\n",
      "Loss: 1.261160, Train accuracy: 1.000000, val accuracy: 0.000000\n",
      "Loss: 1.267500, Train accuracy: 1.000000, val accuracy: 0.000000\n",
      "Loss: 1.265907, Train accuracy: 1.000000, val accuracy: 0.000000\n",
      "Loss: 1.119036, Train accuracy: 1.000000, val accuracy: 0.000000\n",
      "Loss: 1.243991, Train accuracy: 1.000000, val accuracy: 0.000000\n",
      "Loss: 1.322396, Train accuracy: 1.000000, val accuracy: 0.066667\n",
      "Loss: 1.111393, Train accuracy: 1.000000, val accuracy: 0.000000\n",
      "Loss: 1.169296, Train accuracy: 1.000000, val accuracy: 0.000000\n",
      "Loss: 1.257104, Train accuracy: 1.000000, val accuracy: 0.000000\n",
      "Loss: 1.196990, Train accuracy: 1.000000, val accuracy: 0.000000\n",
      "Loss: 1.077679, Train accuracy: 1.000000, val accuracy: 0.000000\n",
      "Loss: 1.180040, Train accuracy: 1.000000, val accuracy: 0.000000\n",
      "Loss: 1.154765, Train accuracy: 1.000000, val accuracy: 0.000000\n",
      "Loss: 1.097016, Train accuracy: 1.000000, val accuracy: 0.000000\n",
      "Loss: 1.244765, Train accuracy: 1.000000, val accuracy: 0.000000\n",
      "Loss: 1.163196, Train accuracy: 1.000000, val accuracy: 0.000000\n",
      "Loss: 1.124886, Train accuracy: 1.000000, val accuracy: 0.000000\n",
      "Loss: 1.180733, Train accuracy: 1.000000, val accuracy: 0.000000\n",
      "Loss: 1.095048, Train accuracy: 1.000000, val accuracy: 0.000000\n",
      "Loss: 1.184861, Train accuracy: 1.000000, val accuracy: 0.000000\n",
      "Loss: 1.207999, Train accuracy: 1.000000, val accuracy: 0.000000\n",
      "Loss: 1.175646, Train accuracy: 1.000000, val accuracy: 0.000000\n",
      "Loss: 1.202143, Train accuracy: 1.000000, val accuracy: 0.000000\n",
      "Loss: 1.136720, Train accuracy: 1.000000, val accuracy: 0.000000\n",
      "Loss: 1.312562, Train accuracy: 1.000000, val accuracy: 0.066667\n",
      "Loss: 1.208544, Train accuracy: 1.000000, val accuracy: 0.000000\n",
      "Loss: 1.281740, Train accuracy: 1.000000, val accuracy: 0.066667\n",
      "Loss: 1.242055, Train accuracy: 1.000000, val accuracy: 0.000000\n",
      "Loss: 1.160323, Train accuracy: 1.000000, val accuracy: 0.000000\n",
      "Loss: 1.176998, Train accuracy: 1.000000, val accuracy: 0.066667\n",
      "Loss: 1.176973, Train accuracy: 1.000000, val accuracy: 0.066667\n",
      "Loss: 1.292365, Train accuracy: 1.000000, val accuracy: 0.000000\n",
      "Loss: 1.229457, Train accuracy: 1.000000, val accuracy: 0.000000\n",
      "Loss: 1.095339, Train accuracy: 1.000000, val accuracy: 0.000000\n",
      "Loss: 1.170786, Train accuracy: 1.000000, val accuracy: 0.066667\n",
      "Loss: 1.211301, Train accuracy: 1.000000, val accuracy: 0.000000\n",
      "Loss: 1.095100, Train accuracy: 1.000000, val accuracy: 0.000000\n",
      "Loss: 1.208422, Train accuracy: 1.000000, val accuracy: 0.000000\n",
      "Loss: 1.209053, Train accuracy: 1.000000, val accuracy: 0.000000\n",
      "Loss: 1.209143, Train accuracy: 1.000000, val accuracy: 0.066667\n",
      "Loss: 1.240650, Train accuracy: 1.000000, val accuracy: 0.000000\n",
      "Loss: 1.243093, Train accuracy: 1.000000, val accuracy: 0.000000\n",
      "Loss: 1.022168, Train accuracy: 1.000000, val accuracy: 0.000000\n",
      "Loss: 1.178834, Train accuracy: 1.000000, val accuracy: 0.000000\n",
      "Loss: 1.231138, Train accuracy: 1.000000, val accuracy: 0.000000\n",
      "Loss: 1.327394, Train accuracy: 1.000000, val accuracy: 0.066667\n",
      "Loss: 0.997702, Train accuracy: 1.000000, val accuracy: 0.066667\n",
      "Loss: 1.129662, Train accuracy: 1.000000, val accuracy: 0.000000\n",
      "Loss: 1.209624, Train accuracy: 1.000000, val accuracy: 0.066667\n",
      "Loss: 1.360720, Train accuracy: 1.000000, val accuracy: 0.066667\n",
      "Loss: 1.243140, Train accuracy: 1.000000, val accuracy: 0.000000\n",
      "Loss: 1.131861, Train accuracy: 1.000000, val accuracy: 0.000000\n",
      "Loss: 1.306325, Train accuracy: 1.000000, val accuracy: 0.000000\n"
     ]
    },
    {
     "name": "stdout",
     "output_type": "stream",
     "text": [
      "Loss: 1.195834, Train accuracy: 1.000000, val accuracy: 0.000000\n",
      "Loss: 1.218365, Train accuracy: 1.000000, val accuracy: 0.000000\n",
      "Loss: 1.126843, Train accuracy: 1.000000, val accuracy: 0.000000\n",
      "Loss: 1.045726, Train accuracy: 1.000000, val accuracy: 0.066667\n",
      "Loss: 1.168703, Train accuracy: 1.000000, val accuracy: 0.000000\n",
      "Loss: 1.261051, Train accuracy: 1.000000, val accuracy: 0.000000\n",
      "Loss: 1.135959, Train accuracy: 1.000000, val accuracy: 0.000000\n",
      "Loss: 1.225228, Train accuracy: 1.000000, val accuracy: 0.000000\n",
      "Loss: 1.242946, Train accuracy: 1.000000, val accuracy: 0.000000\n",
      "Loss: 1.321187, Train accuracy: 1.000000, val accuracy: 0.000000\n",
      "Loss: 1.164017, Train accuracy: 1.000000, val accuracy: 0.000000\n",
      "Loss: 1.136495, Train accuracy: 1.000000, val accuracy: 0.000000\n",
      "Loss: 1.278163, Train accuracy: 1.000000, val accuracy: 0.000000\n",
      "Loss: 1.052972, Train accuracy: 1.000000, val accuracy: 0.066667\n",
      "Loss: 1.206616, Train accuracy: 1.000000, val accuracy: 0.000000\n",
      "Loss: 1.270030, Train accuracy: 1.000000, val accuracy: 0.000000\n",
      "Loss: 1.161550, Train accuracy: 1.000000, val accuracy: 0.066667\n",
      "Loss: 1.037839, Train accuracy: 1.000000, val accuracy: 0.000000\n",
      "Loss: 1.335856, Train accuracy: 1.000000, val accuracy: 0.066667\n",
      "Loss: 1.221783, Train accuracy: 1.000000, val accuracy: 0.000000\n",
      "Loss: 1.163109, Train accuracy: 1.000000, val accuracy: 0.066667\n",
      "Loss: 0.991520, Train accuracy: 1.000000, val accuracy: 0.000000\n",
      "Loss: 1.183782, Train accuracy: 1.000000, val accuracy: 0.000000\n",
      "Loss: 1.031154, Train accuracy: 1.000000, val accuracy: 0.066667\n"
     ]
    }
   ],
   "source": [
    "data_size = 15\n",
    "model = TwoLayerNet(n_input = train_X.shape[1], n_output = 10, hidden_layer_size = 100, reg = 1e-1)\n",
    "dataset = Dataset(train_X[:data_size], train_y[:data_size], val_X[:data_size], val_y[:data_size])\n",
    "trainer = Trainer(model, dataset, SGD(), learning_rate=1e-1, num_epochs=150, batch_size=5)\n",
    "\n",
    "# You should expect this to reach 1.0 training accuracy \n",
    "loss_history, train_history, val_history = trainer.fit()"
   ]
  },
  {
   "cell_type": "markdown",
   "metadata": {},
   "source": [
    "Теперь найдем гипепараметры, для которых этот процесс сходится быстрее.\n",
    "Если все реализовано корректно, то существуют параметры, при которых процесс сходится в **20** эпох или еще быстрее.\n",
    "Найдите их!"
   ]
  },
  {
   "cell_type": "code",
   "execution_count": 83,
   "metadata": {},
   "outputs": [
    {
     "name": "stdout",
     "output_type": "stream",
     "text": [
      "Loss: 5.497840, Train accuracy: 0.533333, val accuracy: 0.000000\n",
      "Loss: 5.245360, Train accuracy: 0.800000, val accuracy: 0.000000\n",
      "Loss: 3.969691, Train accuracy: 0.866667, val accuracy: 0.000000\n",
      "Loss: 3.976704, Train accuracy: 1.000000, val accuracy: 0.066667\n",
      "Loss: 3.697392, Train accuracy: 1.000000, val accuracy: 0.066667\n",
      "Loss: 3.498816, Train accuracy: 1.000000, val accuracy: 0.066667\n",
      "Loss: 3.236056, Train accuracy: 1.000000, val accuracy: 0.066667\n",
      "Loss: 3.323540, Train accuracy: 1.000000, val accuracy: 0.066667\n",
      "Loss: 3.251132, Train accuracy: 1.000000, val accuracy: 0.066667\n",
      "Loss: 3.294492, Train accuracy: 1.000000, val accuracy: 0.066667\n",
      "Loss: 3.159138, Train accuracy: 1.000000, val accuracy: 0.066667\n",
      "Loss: 3.155897, Train accuracy: 1.000000, val accuracy: 0.066667\n",
      "Loss: 3.167544, Train accuracy: 1.000000, val accuracy: 0.066667\n",
      "Loss: 3.130142, Train accuracy: 1.000000, val accuracy: 0.066667\n",
      "Loss: 3.124365, Train accuracy: 1.000000, val accuracy: 0.066667\n",
      "Loss: 3.104123, Train accuracy: 1.000000, val accuracy: 0.066667\n",
      "Loss: 3.111498, Train accuracy: 1.000000, val accuracy: 0.066667\n",
      "Loss: 3.085727, Train accuracy: 1.000000, val accuracy: 0.066667\n",
      "Loss: 3.082114, Train accuracy: 1.000000, val accuracy: 0.066667\n",
      "Loss: 3.063576, Train accuracy: 1.000000, val accuracy: 0.066667\n"
     ]
    }
   ],
   "source": [
    "# Now, tweak some hyper parameters and make it train to 1.0 accuracy in 20 epochs or less\n",
    "\n",
    "model = TwoLayerNet(n_input = train_X.shape[1], n_output = 10, hidden_layer_size = 100, reg = 1e-3)\n",
    "dataset = Dataset(train_X[:data_size], train_y[:data_size], val_X[:data_size], val_y[:data_size])\n",
    "# TODO: Change any hyperparamers or optimizators to reach training accuracy in 20 epochs\n",
    "trainer = Trainer(model, dataset, SGD(), learning_rate=1e-1, num_epochs=20, batch_size=5)\n",
    "\n",
    "loss_history, train_history, val_history = trainer.fit()"
   ]
  },
  {
   "cell_type": "markdown",
   "metadata": {},
   "source": [
    "# Итак, основное мероприятие!\n",
    "\n",
    "Натренируйте лучшую нейросеть! Можно добавлять и изменять параметры, менять количество нейронов в слоях сети и как угодно экспериментировать. \n",
    "\n",
    "Добейтесь точности лучше **60%** на validation set."
   ]
  },
  {
   "cell_type": "code",
   "execution_count": 121,
   "metadata": {
    "scrolled": true
   },
   "outputs": [
    {
     "name": "stdout",
     "output_type": "stream",
     "text": [
      "Count #: 1.000000\n",
      "Loss: 9.387828, Train accuracy: 0.317222, val accuracy: 0.319000\n",
      "Loss: 7.771269, Train accuracy: 0.488111, val accuracy: 0.484000\n",
      "Loss: 6.620972, Train accuracy: 0.579111, val accuracy: 0.563000\n",
      "Loss: 5.485840, Train accuracy: 0.634667, val accuracy: 0.605000\n",
      "Loss: 4.869850, Train accuracy: 0.660111, val accuracy: 0.650000\n",
      "Count #: 2.000000\n",
      "Loss: 18.000279, Train accuracy: 0.199889, val accuracy: 0.205000\n",
      "Loss: 16.698258, Train accuracy: 0.235556, val accuracy: 0.242000\n",
      "Loss: 15.559687, Train accuracy: 0.288667, val accuracy: 0.282000\n",
      "Loss: 14.372253, Train accuracy: 0.327778, val accuracy: 0.331000\n",
      "Loss: 13.521526, Train accuracy: 0.375778, val accuracy: 0.372000\n",
      "Count #: 3.000000\n",
      "Loss: 3.403294, Train accuracy: 0.414889, val accuracy: 0.416000\n",
      "Loss: 3.016582, Train accuracy: 0.570444, val accuracy: 0.540000\n",
      "Loss: 2.576773, Train accuracy: 0.648333, val accuracy: 0.637000\n",
      "Loss: 2.448297, Train accuracy: 0.685111, val accuracy: 0.661000\n",
      "Loss: 2.540553, Train accuracy: 0.717333, val accuracy: 0.686000\n",
      "Count #: 4.000000\n",
      "Loss: 4.049070, Train accuracy: 0.257556, val accuracy: 0.246000\n",
      "Loss: 3.633260, Train accuracy: 0.392444, val accuracy: 0.356000\n",
      "Loss: 3.546956, Train accuracy: 0.471111, val accuracy: 0.453000\n",
      "Loss: 3.212369, Train accuracy: 0.555444, val accuracy: 0.531000\n",
      "Loss: 3.042123, Train accuracy: 0.606778, val accuracy: 0.578000\n",
      "Count #: 5.000000\n",
      "Loss: 3.223048, Train accuracy: 0.461000, val accuracy: 0.486000\n",
      "Loss: 2.014266, Train accuracy: 0.494111, val accuracy: 0.473000\n",
      "Loss: 1.867316, Train accuracy: 0.549222, val accuracy: 0.548000\n",
      "Loss: 1.885836, Train accuracy: 0.520889, val accuracy: 0.518000\n",
      "Loss: 1.939523, Train accuracy: 0.563111, val accuracy: 0.563000\n",
      "Count #: 6.000000\n",
      "Loss: 2.622972, Train accuracy: 0.186556, val accuracy: 0.188000\n",
      "Loss: 2.588854, Train accuracy: 0.210111, val accuracy: 0.219000\n",
      "Loss: 2.602557, Train accuracy: 0.221889, val accuracy: 0.232000\n",
      "Loss: 2.563033, Train accuracy: 0.235667, val accuracy: 0.254000\n",
      "Loss: 2.480290, Train accuracy: 0.260667, val accuracy: 0.265000\n",
      "Count #: 7.000000\n",
      "Loss: 5.086834, Train accuracy: 0.190333, val accuracy: 0.192000\n",
      "Loss: 4.978240, Train accuracy: 0.213222, val accuracy: 0.215000\n",
      "Loss: 4.974856, Train accuracy: 0.232667, val accuracy: 0.226000\n",
      "Loss: 4.884209, Train accuracy: 0.256444, val accuracy: 0.248000\n",
      "Loss: 4.861053, Train accuracy: 0.271889, val accuracy: 0.274000\n",
      "Count #: 8.000000\n",
      "Loss: 24.239538, Train accuracy: 0.224444, val accuracy: 0.222000\n",
      "Loss: 20.709214, Train accuracy: 0.256444, val accuracy: 0.259000\n",
      "Loss: 17.664077, Train accuracy: 0.318444, val accuracy: 0.330000\n",
      "Loss: 15.183900, Train accuracy: 0.370111, val accuracy: 0.375000\n",
      "Loss: 13.026308, Train accuracy: 0.413000, val accuracy: 0.411000\n",
      "Count #: 9.000000\n",
      "Loss: 3.789067, Train accuracy: 0.366778, val accuracy: 0.350000\n",
      "Loss: 3.444148, Train accuracy: 0.579000, val accuracy: 0.553000\n",
      "Loss: 2.869464, Train accuracy: 0.654778, val accuracy: 0.625000\n",
      "Loss: 2.654568, Train accuracy: 0.689000, val accuracy: 0.659000\n",
      "Loss: 2.506667, Train accuracy: 0.716667, val accuracy: 0.674000\n",
      "Count #: 10.000000\n",
      "Loss: 5.182911, Train accuracy: 0.214556, val accuracy: 0.225000\n",
      "Loss: 5.033256, Train accuracy: 0.271000, val accuracy: 0.276000\n",
      "Loss: 4.906865, Train accuracy: 0.319222, val accuracy: 0.331000\n",
      "Loss: 4.756805, Train accuracy: 0.393889, val accuracy: 0.375000\n",
      "Loss: 4.634443, Train accuracy: 0.438667, val accuracy: 0.408000\n",
      "best validation accuracy achieved: 0.686000 at reg_strength 0.000538 and learning_rate  0.029696\n"
     ]
    }
   ],
   "source": [
    "# Let's train the best one-hidden-layer network we can\n",
    "\n",
    "loss_history = []\n",
    "train_history = []\n",
    "val_history = []\n",
    "reg_strength_history = []\n",
    "learning_rate_history = []\n",
    "\n",
    "# TODO find the best hyperparameters to train the network\n",
    "# Don't hesitate to add new values to the arrays above, perform experiments, use any tricks you want\n",
    "# You should expect to get to at least 40% of valudation accuracy\n",
    "# Save loss/train/history of the best classifier to the variables above\n",
    "\n",
    "maxim = 10\n",
    "for count in range(maxim):\n",
    "    print('Count #: %f'% (count+1))\n",
    "    reg_strength = 10**np.random.uniform(-4,-2)\n",
    "    learning_rate = 10**np.random.uniform(-3,-1)\n",
    "    model = TwoLayerNet(n_input = train_X.shape[1], n_output = 10, hidden_layer_size = 100, reg = reg_strength)\n",
    "    dataset = Dataset(train_X, train_y, val_X, val_y)\n",
    "    trainer = Trainer(model, dataset, MomentumSGD(), learning_rate=learning_rate, learning_rate_decay=0.99, num_epochs = 5, batch_size = 100)\n",
    "    \n",
    "    loss, train, val = trainer.fit()\n",
    "    \n",
    "    loss_history.append(loss[-1])\n",
    "    train_history.append(train[-1])\n",
    "    val_history.append(val[-1])\n",
    "    reg_strength_history.append(reg_strength)\n",
    "    learning_rate_history.append(learning_rate)\n",
    "\n",
    "print('best validation accuracy achieved: %f at reg_strength %f and learning_rate  %f' % (np.max(val_history), reg_strength_history[np.argmax(val_history)], learning_rate_history[np.argmax(val_history)])   )"
   ]
  },
  {
   "cell_type": "code",
   "execution_count": 124,
   "metadata": {},
   "outputs": [],
   "source": [
    "# plt.figure(figsize=(15, 7))\n",
    "# plt.subplot(211)\n",
    "# plt.title(\"Loss\")\n",
    "# plt.plot(loss_history)\n",
    "# plt.subplot(212)\n",
    "# plt.title(\"Train/validation accuracy\")\n",
    "# plt.plot(train_history)\n",
    "# plt.plot(val_history)"
   ]
  },
  {
   "cell_type": "markdown",
   "metadata": {},
   "source": [
    "# Как обычно, посмотрим, как наша лучшая модель работает на тестовых данных"
   ]
  },
  {
   "cell_type": "code",
   "execution_count": 125,
   "metadata": {},
   "outputs": [
    {
     "name": "stdout",
     "output_type": "stream",
     "text": [
      "Neural net test set accuracy: 0.682000\n"
     ]
    }
   ],
   "source": [
    "test_pred = best_classifier.predict(test_X)\n",
    "test_accuracy = multiclass_accuracy(test_pred, test_y)\n",
    "print('Neural net test set accuracy: %f' % (test_accuracy, ))"
   ]
  },
  {
   "cell_type": "code",
   "execution_count": null,
   "metadata": {},
   "outputs": [],
   "source": []
  }
 ],
 "metadata": {
  "kernelspec": {
   "display_name": "Python 3",
   "language": "python",
   "name": "python3"
  },
  "language_info": {
   "codemirror_mode": {
    "name": "ipython",
    "version": 3
   },
   "file_extension": ".py",
   "mimetype": "text/x-python",
   "name": "python",
   "nbconvert_exporter": "python",
   "pygments_lexer": "ipython3",
   "version": "3.8.8"
  }
 },
 "nbformat": 4,
 "nbformat_minor": 2
}
